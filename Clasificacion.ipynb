{
 "cells": [
  {
   "cell_type": "markdown",
   "metadata": {
    "id": "4kjpW45Mni2V"
   },
   "source": [
    "# Taller de introducción a Data Science\n",
    "## Clasificación de canciones de Spotify"
   ]
  },
  {
   "cell_type": "markdown",
   "metadata": {
    "id": "D05vf7RGni2W"
   },
   "source": [
    "**Antes de empezar:**\n",
    "- [Instalar spaCy y el modelo de lenguaje con el que van a trabajar](https://spacy.io/models#quickstart)"
   ]
  },
  {
   "cell_type": "code",
   "execution_count": 2,
   "metadata": {
    "colab": {
     "base_uri": "https://localhost:8080/",
     "height": 121
    },
    "id": "YbwwTDzYnp8e",
    "outputId": "b53a5470-b60b-4e56-f664-980100c5ae3b"
   },
   "outputs": [
    {
     "name": "stdout",
     "output_type": "stream",
     "text": [
      "Collecting sentiment_analysis_spanish\n",
      "\u001b[?25l  Downloading https://files.pythonhosted.org/packages/25/64/28ce6db8a3d08d32105ea0dba4516049b08dd2224ab3c82e5d0e8fb30778/sentiment_analysis_spanish-0.0.24-py3-none-any.whl (15.1MB)\n",
      "\u001b[K     |████████████████████████████████| 15.1MB 299kB/s \n",
      "\u001b[?25hInstalling collected packages: sentiment-analysis-spanish\n",
      "Successfully installed sentiment-analysis-spanish-0.0.24\n"
     ]
    }
   ],
   "source": [
    "!pip install sentiment_analysis_spanish"
   ]
  },
  {
   "cell_type": "code",
   "execution_count": 3,
   "metadata": {
    "id": "r1ShI_bpni2X"
   },
   "outputs": [],
   "source": [
    "import os\n",
    "import pandas as pd \n",
    "import pickle\n",
    "from sklearn.ensemble import RandomForestClassifier\n",
    "from sklearn.preprocessing import LabelEncoder\n",
    "from sklearn.model_selection import train_test_split\n",
    "from sklearn.model_selection import GridSearchCV, RandomizedSearchCV\n",
    "from sklearn.metrics         import accuracy_score\n",
    "from sklearn.tree import DecisionTreeClassifier\n",
    "import requests\n",
    "import re\n",
    "import numpy as np\n",
    "from sentiment_analysis_spanish import sentiment_analysis\n",
    "import matplotlib.pyplot as plt\n",
    "import seaborn as sns\n",
    "from collections import Counter"
   ]
  },
  {
   "cell_type": "markdown",
   "metadata": {
    "id": "vou-ZZFwni2c"
   },
   "source": [
    "### 1) Recopilar los datos de las canciones\n",
    "\n",
    "Para esta parte consideraremos [esta playlist colaborativa](https://open.spotify.com/playlist/2IuD0qZb14cji5y52crdsO?si=nfHRPDquQRyotEcXc4tG7Q), de esta obtendremos:\n",
    "- Las features del audio de las canciones\n",
    "- Las features textuales de sus letras\n",
    "\n",
    "Además es necesario aplicar preprocesamiento y obtener el género de cada canción.\n",
    "\n",
    "Luego, se separará al dataset resultante en **X** e **y**, donde:\n",
    "- X es el conjunto de features\n",
    "- y es la etiqueta, en este caso el género de la canción, que deberá ser codificado en valores del tipo **int**\n",
    "\n",
    "Por último, se dividirá a estos dos conjuntos en los splits **train** y **test**\n",
    "\n",
    "**Recomendaciones:**\n",
    "- Obtener las features por separado y hacer un join de los datasets.\n",
    "- Prestar atención a la [documentación de sklearn](https://scikit-learn.org/stable/)\n",
    "- Si usan features categóricas, ENCODEARLAS!"
   ]
  },
  {
   "cell_type": "markdown",
   "metadata": {
    "id": "-u9Z3v2Nni2c"
   },
   "source": [
    "### Análisis y exploración del dataset original"
   ]
  },
  {
   "cell_type": "code",
   "execution_count": 4,
   "metadata": {
    "colab": {
     "base_uri": "https://localhost:8080/",
     "height": 1000
    },
    "id": "BkyGzmzani2d",
    "outputId": "4982d4af-f376-4faa-decd-4b0ff8b59374"
   },
   "outputs": [
    {
     "data": {
      "text/html": [
       "<div>\n",
       "<style scoped>\n",
       "    .dataframe tbody tr th:only-of-type {\n",
       "        vertical-align: middle;\n",
       "    }\n",
       "\n",
       "    .dataframe tbody tr th {\n",
       "        vertical-align: top;\n",
       "    }\n",
       "\n",
       "    .dataframe thead th {\n",
       "        text-align: right;\n",
       "    }\n",
       "</style>\n",
       "<table border=\"1\" class=\"dataframe\">\n",
       "  <thead>\n",
       "    <tr style=\"text-align: right;\">\n",
       "      <th></th>\n",
       "      <th>energy</th>\n",
       "      <th>key</th>\n",
       "      <th>loudness</th>\n",
       "      <th>mode</th>\n",
       "      <th>speechiness</th>\n",
       "      <th>acousticness</th>\n",
       "      <th>instrumentalness</th>\n",
       "      <th>liveness</th>\n",
       "      <th>valence</th>\n",
       "      <th>tempo</th>\n",
       "      <th>id</th>\n",
       "      <th>uri</th>\n",
       "      <th>duration_ms</th>\n",
       "      <th>time_signature</th>\n",
       "      <th>num_artists</th>\n",
       "      <th>track_name</th>\n",
       "      <th>genero</th>\n",
       "      <th>artist_name</th>\n",
       "    </tr>\n",
       "    <tr>\n",
       "      <th>danceability</th>\n",
       "      <th></th>\n",
       "      <th></th>\n",
       "      <th></th>\n",
       "      <th></th>\n",
       "      <th></th>\n",
       "      <th></th>\n",
       "      <th></th>\n",
       "      <th></th>\n",
       "      <th></th>\n",
       "      <th></th>\n",
       "      <th></th>\n",
       "      <th></th>\n",
       "      <th></th>\n",
       "      <th></th>\n",
       "      <th></th>\n",
       "      <th></th>\n",
       "      <th></th>\n",
       "      <th></th>\n",
       "    </tr>\n",
       "  </thead>\n",
       "  <tbody>\n",
       "    <tr>\n",
       "      <th>0.161</th>\n",
       "      <td>0.482</td>\n",
       "      <td>1</td>\n",
       "      <td>-11.210</td>\n",
       "      <td>0</td>\n",
       "      <td>0.0472</td>\n",
       "      <td>0.4860</td>\n",
       "      <td>0.409000</td>\n",
       "      <td>0.371</td>\n",
       "      <td>0.0926</td>\n",
       "      <td>161.092</td>\n",
       "      <td>7j9DYPyCuvSAtPcevpAkzb</td>\n",
       "      <td>spotify:track:7j9DYPyCuvSAtPcevpAkzb</td>\n",
       "      <td>233079</td>\n",
       "      <td>5</td>\n",
       "      <td>1</td>\n",
       "      <td>Desafío</td>\n",
       "      <td>['art pop', 'dance pop', 'deconstructed club',...</td>\n",
       "      <td>Arca</td>\n",
       "    </tr>\n",
       "    <tr>\n",
       "      <th>0.230</th>\n",
       "      <td>0.434</td>\n",
       "      <td>10</td>\n",
       "      <td>-12.402</td>\n",
       "      <td>0</td>\n",
       "      <td>0.0551</td>\n",
       "      <td>0.5700</td>\n",
       "      <td>0.000000</td>\n",
       "      <td>0.115</td>\n",
       "      <td>0.0834</td>\n",
       "      <td>80.793</td>\n",
       "      <td>1cwTMSQeMaA9fVKEF1iWeD</td>\n",
       "      <td>spotify:track:1cwTMSQeMaA9fVKEF1iWeD</td>\n",
       "      <td>216905</td>\n",
       "      <td>5</td>\n",
       "      <td>1</td>\n",
       "      <td>Anoche</td>\n",
       "      <td>['art pop', 'dance pop', 'deconstructed club',...</td>\n",
       "      <td>Arca</td>\n",
       "    </tr>\n",
       "    <tr>\n",
       "      <th>0.289</th>\n",
       "      <td>0.280</td>\n",
       "      <td>9</td>\n",
       "      <td>-15.335</td>\n",
       "      <td>1</td>\n",
       "      <td>0.0433</td>\n",
       "      <td>0.8740</td>\n",
       "      <td>0.004430</td>\n",
       "      <td>0.124</td>\n",
       "      <td>0.0391</td>\n",
       "      <td>124.835</td>\n",
       "      <td>0aL27vskbMpwsMGUkHm3Zf</td>\n",
       "      <td>spotify:track:0aL27vskbMpwsMGUkHm3Zf</td>\n",
       "      <td>215773</td>\n",
       "      <td>3</td>\n",
       "      <td>1</td>\n",
       "      <td>Sin Rumbo</td>\n",
       "      <td>['art pop', 'dance pop', 'deconstructed club',...</td>\n",
       "      <td>Arca</td>\n",
       "    </tr>\n",
       "    <tr>\n",
       "      <th>0.499</th>\n",
       "      <td>0.648</td>\n",
       "      <td>7</td>\n",
       "      <td>-5.812</td>\n",
       "      <td>1</td>\n",
       "      <td>0.0331</td>\n",
       "      <td>0.7230</td>\n",
       "      <td>0.000000</td>\n",
       "      <td>0.576</td>\n",
       "      <td>0.4640</td>\n",
       "      <td>88.140</td>\n",
       "      <td>2kfSFdq2h0xLXq01em1zc7</td>\n",
       "      <td>spotify:track:2kfSFdq2h0xLXq01em1zc7</td>\n",
       "      <td>219107</td>\n",
       "      <td>4</td>\n",
       "      <td>1</td>\n",
       "      <td>La Gata Bajo la Lluvia</td>\n",
       "      <td>['bolero', 'cancion melodica', 'grupera', 'lat...</td>\n",
       "      <td>Rocío Dúrcal</td>\n",
       "    </tr>\n",
       "    <tr>\n",
       "      <th>0.528</th>\n",
       "      <td>0.383</td>\n",
       "      <td>2</td>\n",
       "      <td>-11.170</td>\n",
       "      <td>1</td>\n",
       "      <td>0.0258</td>\n",
       "      <td>0.3760</td>\n",
       "      <td>0.000000</td>\n",
       "      <td>0.110</td>\n",
       "      <td>0.4600</td>\n",
       "      <td>89.089</td>\n",
       "      <td>5ySxlyvySBhIEvoO2xx7uT</td>\n",
       "      <td>spotify:track:5ySxlyvySBhIEvoO2xx7uT</td>\n",
       "      <td>328320</td>\n",
       "      <td>4</td>\n",
       "      <td>1</td>\n",
       "      <td>Querida</td>\n",
       "      <td>['cancion melodica', 'latin', 'latin pop']</td>\n",
       "      <td>Juan Gabriel</td>\n",
       "    </tr>\n",
       "    <tr>\n",
       "      <th>...</th>\n",
       "      <td>...</td>\n",
       "      <td>...</td>\n",
       "      <td>...</td>\n",
       "      <td>...</td>\n",
       "      <td>...</td>\n",
       "      <td>...</td>\n",
       "      <td>...</td>\n",
       "      <td>...</td>\n",
       "      <td>...</td>\n",
       "      <td>...</td>\n",
       "      <td>...</td>\n",
       "      <td>...</td>\n",
       "      <td>...</td>\n",
       "      <td>...</td>\n",
       "      <td>...</td>\n",
       "      <td>...</td>\n",
       "      <td>...</td>\n",
       "      <td>...</td>\n",
       "    </tr>\n",
       "    <tr>\n",
       "      <th>0.714</th>\n",
       "      <td>0.753</td>\n",
       "      <td>7</td>\n",
       "      <td>-9.023</td>\n",
       "      <td>1</td>\n",
       "      <td>0.0309</td>\n",
       "      <td>0.0144</td>\n",
       "      <td>0.000003</td>\n",
       "      <td>0.325</td>\n",
       "      <td>0.9100</td>\n",
       "      <td>139.089</td>\n",
       "      <td>3TkZFF0JOcc8QXQyxqLB5J</td>\n",
       "      <td>spotify:track:3TkZFF0JOcc8QXQyxqLB5J</td>\n",
       "      <td>202333</td>\n",
       "      <td>4</td>\n",
       "      <td>1</td>\n",
       "      <td>El Divorcio</td>\n",
       "      <td>['argentine rock', 'cuarteto', 'cumbia pop', '...</td>\n",
       "      <td>Rodrigo</td>\n",
       "    </tr>\n",
       "    <tr>\n",
       "      <th>0.408</th>\n",
       "      <td>0.828</td>\n",
       "      <td>7</td>\n",
       "      <td>-6.222</td>\n",
       "      <td>1</td>\n",
       "      <td>0.0622</td>\n",
       "      <td>0.7400</td>\n",
       "      <td>0.000000</td>\n",
       "      <td>0.322</td>\n",
       "      <td>0.4680</td>\n",
       "      <td>156.506</td>\n",
       "      <td>76DYAASchu5szMWFDuG1iP</td>\n",
       "      <td>spotify:track:76DYAASchu5szMWFDuG1iP</td>\n",
       "      <td>330493</td>\n",
       "      <td>4</td>\n",
       "      <td>1</td>\n",
       "      <td>Tema de \"cabecita\"</td>\n",
       "      <td>['argentine rock', 'cuarteto', 'cumbia pop', '...</td>\n",
       "      <td>Rodrigo</td>\n",
       "    </tr>\n",
       "    <tr>\n",
       "      <th>0.684</th>\n",
       "      <td>0.802</td>\n",
       "      <td>5</td>\n",
       "      <td>-6.619</td>\n",
       "      <td>0</td>\n",
       "      <td>0.0391</td>\n",
       "      <td>0.2360</td>\n",
       "      <td>0.000012</td>\n",
       "      <td>0.438</td>\n",
       "      <td>0.8390</td>\n",
       "      <td>150.167</td>\n",
       "      <td>1o7e4Tadn4o6nPvycwIP0C</td>\n",
       "      <td>spotify:track:1o7e4Tadn4o6nPvycwIP0C</td>\n",
       "      <td>260533</td>\n",
       "      <td>4</td>\n",
       "      <td>1</td>\n",
       "      <td>En Libertad</td>\n",
       "      <td>['argentine rock', 'cuarteto', 'cumbia pop', '...</td>\n",
       "      <td>Rodrigo</td>\n",
       "    </tr>\n",
       "    <tr>\n",
       "      <th>0.541</th>\n",
       "      <td>0.734</td>\n",
       "      <td>4</td>\n",
       "      <td>-7.516</td>\n",
       "      <td>0</td>\n",
       "      <td>0.2240</td>\n",
       "      <td>0.5410</td>\n",
       "      <td>0.000000</td>\n",
       "      <td>0.382</td>\n",
       "      <td>0.7040</td>\n",
       "      <td>160.612</td>\n",
       "      <td>5AZwGCyE9tIzFYXpqyrKHm</td>\n",
       "      <td>spotify:track:5AZwGCyE9tIzFYXpqyrKHm</td>\n",
       "      <td>250013</td>\n",
       "      <td>4</td>\n",
       "      <td>1</td>\n",
       "      <td>Amante Tu, Amante El</td>\n",
       "      <td>['argentine rock', 'cuarteto', 'cumbia pop', '...</td>\n",
       "      <td>Rodrigo</td>\n",
       "    </tr>\n",
       "    <tr>\n",
       "      <th>0.600</th>\n",
       "      <td>0.897</td>\n",
       "      <td>7</td>\n",
       "      <td>-5.833</td>\n",
       "      <td>1</td>\n",
       "      <td>0.0470</td>\n",
       "      <td>0.1570</td>\n",
       "      <td>0.000610</td>\n",
       "      <td>0.877</td>\n",
       "      <td>0.7560</td>\n",
       "      <td>96.312</td>\n",
       "      <td>6Lkh9lukUEPBTZ1gewNT0m</td>\n",
       "      <td>spotify:track:6Lkh9lukUEPBTZ1gewNT0m</td>\n",
       "      <td>259587</td>\n",
       "      <td>4</td>\n",
       "      <td>1</td>\n",
       "      <td>Todo Me Lleva a Ti</td>\n",
       "      <td>['argentine rock', 'cuarteto', 'cumbia pop', '...</td>\n",
       "      <td>Rodrigo</td>\n",
       "    </tr>\n",
       "  </tbody>\n",
       "</table>\n",
       "<p>1188 rows × 18 columns</p>\n",
       "</div>"
      ],
      "text/plain": [
       "              energy  ...   artist_name\n",
       "danceability          ...              \n",
       "0.161          0.482  ...          Arca\n",
       "0.230          0.434  ...          Arca\n",
       "0.289          0.280  ...          Arca\n",
       "0.499          0.648  ...  Rocío Dúrcal\n",
       "0.528          0.383  ...  Juan Gabriel\n",
       "...              ...  ...           ...\n",
       "0.714          0.753  ...       Rodrigo\n",
       "0.408          0.828  ...       Rodrigo\n",
       "0.684          0.802  ...       Rodrigo\n",
       "0.541          0.734  ...       Rodrigo\n",
       "0.600          0.897  ...       Rodrigo\n",
       "\n",
       "[1188 rows x 18 columns]"
      ]
     },
     "execution_count": 4,
     "metadata": {
      "tags": []
     },
     "output_type": "execute_result"
    }
   ],
   "source": [
    "dataset_original = pd.read_csv('spotify_audio_features.csv', index_col=0)\n",
    "dataset_original"
   ]
  },
  {
   "cell_type": "markdown",
   "metadata": {
    "id": "eE98SSnXni2i"
   },
   "source": [
    "Como podemos ver en el dataset original, cada una de las canciones posee más de un género asociado. Para facilitar el manejo de los datos se optó por separar cada una de las canciones en los géneros a la que se la asocia, por lo cual se obtuvo un dataframe donde aquellas canciones que poseían más de un género estaban repetidas, una vez por cada género asociado."
   ]
  },
  {
   "cell_type": "code",
   "execution_count": 5,
   "metadata": {
    "colab": {
     "base_uri": "https://localhost:8080/",
     "height": 506
    },
    "id": "IsuptCahni2j",
    "outputId": "474f2754-2739-4ff9-d5b8-07f2bb7974be"
   },
   "outputs": [
    {
     "data": {
      "text/html": [
       "<div>\n",
       "<style scoped>\n",
       "    .dataframe tbody tr th:only-of-type {\n",
       "        vertical-align: middle;\n",
       "    }\n",
       "\n",
       "    .dataframe tbody tr th {\n",
       "        vertical-align: top;\n",
       "    }\n",
       "\n",
       "    .dataframe thead th {\n",
       "        text-align: right;\n",
       "    }\n",
       "</style>\n",
       "<table border=\"1\" class=\"dataframe\">\n",
       "  <thead>\n",
       "    <tr style=\"text-align: right;\">\n",
       "      <th></th>\n",
       "      <th>danceability</th>\n",
       "      <th>energy</th>\n",
       "      <th>key</th>\n",
       "      <th>loudness</th>\n",
       "      <th>mode</th>\n",
       "      <th>speechiness</th>\n",
       "      <th>acousticness</th>\n",
       "      <th>instrumentalness</th>\n",
       "      <th>liveness</th>\n",
       "      <th>valence</th>\n",
       "      <th>tempo</th>\n",
       "      <th>id</th>\n",
       "      <th>uri</th>\n",
       "      <th>duration_ms</th>\n",
       "      <th>time_signature</th>\n",
       "      <th>num_artists</th>\n",
       "      <th>track_name</th>\n",
       "      <th>genero</th>\n",
       "      <th>artist_name</th>\n",
       "    </tr>\n",
       "  </thead>\n",
       "  <tbody>\n",
       "    <tr>\n",
       "      <th>0</th>\n",
       "      <td>0.161</td>\n",
       "      <td>0.482</td>\n",
       "      <td>1</td>\n",
       "      <td>-11.210</td>\n",
       "      <td>0</td>\n",
       "      <td>0.0472</td>\n",
       "      <td>0.486</td>\n",
       "      <td>0.40900</td>\n",
       "      <td>0.371</td>\n",
       "      <td>0.0926</td>\n",
       "      <td>161.092</td>\n",
       "      <td>7j9DYPyCuvSAtPcevpAkzb</td>\n",
       "      <td>spotify:track:7j9DYPyCuvSAtPcevpAkzb</td>\n",
       "      <td>233079</td>\n",
       "      <td>5</td>\n",
       "      <td>1</td>\n",
       "      <td>Desafío</td>\n",
       "      <td>12</td>\n",
       "      <td>Arca</td>\n",
       "    </tr>\n",
       "    <tr>\n",
       "      <th>1</th>\n",
       "      <td>0.161</td>\n",
       "      <td>0.482</td>\n",
       "      <td>1</td>\n",
       "      <td>-11.210</td>\n",
       "      <td>0</td>\n",
       "      <td>0.0472</td>\n",
       "      <td>0.486</td>\n",
       "      <td>0.40900</td>\n",
       "      <td>0.371</td>\n",
       "      <td>0.0926</td>\n",
       "      <td>161.092</td>\n",
       "      <td>7j9DYPyCuvSAtPcevpAkzb</td>\n",
       "      <td>spotify:track:7j9DYPyCuvSAtPcevpAkzb</td>\n",
       "      <td>233079</td>\n",
       "      <td>5</td>\n",
       "      <td>1</td>\n",
       "      <td>Desafío</td>\n",
       "      <td>38</td>\n",
       "      <td>Arca</td>\n",
       "    </tr>\n",
       "    <tr>\n",
       "      <th>2</th>\n",
       "      <td>0.161</td>\n",
       "      <td>0.482</td>\n",
       "      <td>1</td>\n",
       "      <td>-11.210</td>\n",
       "      <td>0</td>\n",
       "      <td>0.0472</td>\n",
       "      <td>0.486</td>\n",
       "      <td>0.40900</td>\n",
       "      <td>0.371</td>\n",
       "      <td>0.0926</td>\n",
       "      <td>161.092</td>\n",
       "      <td>7j9DYPyCuvSAtPcevpAkzb</td>\n",
       "      <td>spotify:track:7j9DYPyCuvSAtPcevpAkzb</td>\n",
       "      <td>233079</td>\n",
       "      <td>5</td>\n",
       "      <td>1</td>\n",
       "      <td>Desafío</td>\n",
       "      <td>39</td>\n",
       "      <td>Arca</td>\n",
       "    </tr>\n",
       "    <tr>\n",
       "      <th>3</th>\n",
       "      <td>0.161</td>\n",
       "      <td>0.482</td>\n",
       "      <td>1</td>\n",
       "      <td>-11.210</td>\n",
       "      <td>0</td>\n",
       "      <td>0.0472</td>\n",
       "      <td>0.486</td>\n",
       "      <td>0.40900</td>\n",
       "      <td>0.371</td>\n",
       "      <td>0.0926</td>\n",
       "      <td>161.092</td>\n",
       "      <td>7j9DYPyCuvSAtPcevpAkzb</td>\n",
       "      <td>spotify:track:7j9DYPyCuvSAtPcevpAkzb</td>\n",
       "      <td>233079</td>\n",
       "      <td>5</td>\n",
       "      <td>1</td>\n",
       "      <td>Desafío</td>\n",
       "      <td>49</td>\n",
       "      <td>Arca</td>\n",
       "    </tr>\n",
       "    <tr>\n",
       "      <th>4</th>\n",
       "      <td>0.161</td>\n",
       "      <td>0.482</td>\n",
       "      <td>1</td>\n",
       "      <td>-11.210</td>\n",
       "      <td>0</td>\n",
       "      <td>0.0472</td>\n",
       "      <td>0.486</td>\n",
       "      <td>0.40900</td>\n",
       "      <td>0.371</td>\n",
       "      <td>0.0926</td>\n",
       "      <td>161.092</td>\n",
       "      <td>7j9DYPyCuvSAtPcevpAkzb</td>\n",
       "      <td>spotify:track:7j9DYPyCuvSAtPcevpAkzb</td>\n",
       "      <td>233079</td>\n",
       "      <td>5</td>\n",
       "      <td>1</td>\n",
       "      <td>Desafío</td>\n",
       "      <td>50</td>\n",
       "      <td>Arca</td>\n",
       "    </tr>\n",
       "    <tr>\n",
       "      <th>...</th>\n",
       "      <td>...</td>\n",
       "      <td>...</td>\n",
       "      <td>...</td>\n",
       "      <td>...</td>\n",
       "      <td>...</td>\n",
       "      <td>...</td>\n",
       "      <td>...</td>\n",
       "      <td>...</td>\n",
       "      <td>...</td>\n",
       "      <td>...</td>\n",
       "      <td>...</td>\n",
       "      <td>...</td>\n",
       "      <td>...</td>\n",
       "      <td>...</td>\n",
       "      <td>...</td>\n",
       "      <td>...</td>\n",
       "      <td>...</td>\n",
       "      <td>...</td>\n",
       "      <td>...</td>\n",
       "    </tr>\n",
       "    <tr>\n",
       "      <th>4931</th>\n",
       "      <td>0.600</td>\n",
       "      <td>0.897</td>\n",
       "      <td>7</td>\n",
       "      <td>-5.833</td>\n",
       "      <td>1</td>\n",
       "      <td>0.0470</td>\n",
       "      <td>0.157</td>\n",
       "      <td>0.00061</td>\n",
       "      <td>0.877</td>\n",
       "      <td>0.7560</td>\n",
       "      <td>96.312</td>\n",
       "      <td>6Lkh9lukUEPBTZ1gewNT0m</td>\n",
       "      <td>spotify:track:6Lkh9lukUEPBTZ1gewNT0m</td>\n",
       "      <td>259587</td>\n",
       "      <td>4</td>\n",
       "      <td>1</td>\n",
       "      <td>Todo Me Lleva a Ti</td>\n",
       "      <td>10</td>\n",
       "      <td>Rodrigo</td>\n",
       "    </tr>\n",
       "    <tr>\n",
       "      <th>4932</th>\n",
       "      <td>0.600</td>\n",
       "      <td>0.897</td>\n",
       "      <td>7</td>\n",
       "      <td>-5.833</td>\n",
       "      <td>1</td>\n",
       "      <td>0.0470</td>\n",
       "      <td>0.157</td>\n",
       "      <td>0.00061</td>\n",
       "      <td>0.877</td>\n",
       "      <td>0.7560</td>\n",
       "      <td>96.312</td>\n",
       "      <td>6Lkh9lukUEPBTZ1gewNT0m</td>\n",
       "      <td>spotify:track:6Lkh9lukUEPBTZ1gewNT0m</td>\n",
       "      <td>259587</td>\n",
       "      <td>4</td>\n",
       "      <td>1</td>\n",
       "      <td>Todo Me Lleva a Ti</td>\n",
       "      <td>29</td>\n",
       "      <td>Rodrigo</td>\n",
       "    </tr>\n",
       "    <tr>\n",
       "      <th>4933</th>\n",
       "      <td>0.600</td>\n",
       "      <td>0.897</td>\n",
       "      <td>7</td>\n",
       "      <td>-5.833</td>\n",
       "      <td>1</td>\n",
       "      <td>0.0470</td>\n",
       "      <td>0.157</td>\n",
       "      <td>0.00061</td>\n",
       "      <td>0.877</td>\n",
       "      <td>0.7560</td>\n",
       "      <td>96.312</td>\n",
       "      <td>6Lkh9lukUEPBTZ1gewNT0m</td>\n",
       "      <td>spotify:track:6Lkh9lukUEPBTZ1gewNT0m</td>\n",
       "      <td>259587</td>\n",
       "      <td>4</td>\n",
       "      <td>1</td>\n",
       "      <td>Todo Me Lleva a Ti</td>\n",
       "      <td>35</td>\n",
       "      <td>Rodrigo</td>\n",
       "    </tr>\n",
       "    <tr>\n",
       "      <th>4934</th>\n",
       "      <td>0.600</td>\n",
       "      <td>0.897</td>\n",
       "      <td>7</td>\n",
       "      <td>-5.833</td>\n",
       "      <td>1</td>\n",
       "      <td>0.0470</td>\n",
       "      <td>0.157</td>\n",
       "      <td>0.00061</td>\n",
       "      <td>0.877</td>\n",
       "      <td>0.7560</td>\n",
       "      <td>96.312</td>\n",
       "      <td>6Lkh9lukUEPBTZ1gewNT0m</td>\n",
       "      <td>spotify:track:6Lkh9lukUEPBTZ1gewNT0m</td>\n",
       "      <td>259587</td>\n",
       "      <td>4</td>\n",
       "      <td>1</td>\n",
       "      <td>Todo Me Lleva a Ti</td>\n",
       "      <td>37</td>\n",
       "      <td>Rodrigo</td>\n",
       "    </tr>\n",
       "    <tr>\n",
       "      <th>4935</th>\n",
       "      <td>0.600</td>\n",
       "      <td>0.897</td>\n",
       "      <td>7</td>\n",
       "      <td>-5.833</td>\n",
       "      <td>1</td>\n",
       "      <td>0.0470</td>\n",
       "      <td>0.157</td>\n",
       "      <td>0.00061</td>\n",
       "      <td>0.877</td>\n",
       "      <td>0.7560</td>\n",
       "      <td>96.312</td>\n",
       "      <td>6Lkh9lukUEPBTZ1gewNT0m</td>\n",
       "      <td>spotify:track:6Lkh9lukUEPBTZ1gewNT0m</td>\n",
       "      <td>259587</td>\n",
       "      <td>4</td>\n",
       "      <td>1</td>\n",
       "      <td>Todo Me Lleva a Ti</td>\n",
       "      <td>120</td>\n",
       "      <td>Rodrigo</td>\n",
       "    </tr>\n",
       "  </tbody>\n",
       "</table>\n",
       "<p>4936 rows × 19 columns</p>\n",
       "</div>"
      ],
      "text/plain": [
       "      danceability  energy  key  ...          track_name  genero  artist_name\n",
       "0            0.161   0.482    1  ...             Desafío      12         Arca\n",
       "1            0.161   0.482    1  ...             Desafío      38         Arca\n",
       "2            0.161   0.482    1  ...             Desafío      39         Arca\n",
       "3            0.161   0.482    1  ...             Desafío      49         Arca\n",
       "4            0.161   0.482    1  ...             Desafío      50         Arca\n",
       "...            ...     ...  ...  ...                 ...     ...          ...\n",
       "4931         0.600   0.897    7  ...  Todo Me Lleva a Ti      10      Rodrigo\n",
       "4932         0.600   0.897    7  ...  Todo Me Lleva a Ti      29      Rodrigo\n",
       "4933         0.600   0.897    7  ...  Todo Me Lleva a Ti      35      Rodrigo\n",
       "4934         0.600   0.897    7  ...  Todo Me Lleva a Ti      37      Rodrigo\n",
       "4935         0.600   0.897    7  ...  Todo Me Lleva a Ti     120      Rodrigo\n",
       "\n",
       "[4936 rows x 19 columns]"
      ]
     },
     "execution_count": 5,
     "metadata": {
      "tags": []
     },
     "output_type": "execute_result"
    }
   ],
   "source": [
    "dataset_separado = pd.read_csv('genre_separated_df.csv', index_col=0)\n",
    "dataset_separado"
   ]
  },
  {
   "cell_type": "markdown",
   "metadata": {
    "id": "na7aYAp4ni2m"
   },
   "source": [
    "Sin embargo, luego de generar este dataframe, nos topamos con dos inconvenientes:\n",
    "\n",
    "- El dataset estaba muy desbalanceado, ya que algunos géneros estaban mucho más presentes que otros en la playlist.\n"
   ]
  },
  {
   "cell_type": "code",
   "execution_count": 6,
   "metadata": {
    "colab": {
     "base_uri": "https://localhost:8080/",
     "height": 350
    },
    "id": "r_L7wOU8ni2n",
    "outputId": "ba36da65-1a13-4d38-c1c9-105aa7c62476"
   },
   "outputs": [
    {
     "name": "stderr",
     "output_type": "stream",
     "text": [
      "/usr/local/lib/python3.6/dist-packages/seaborn/_decorators.py:43: FutureWarning: Pass the following variable as a keyword arg: x. From version 0.12, the only valid positional argument will be `data`, and passing other arguments without an explicit keyword will result in an error or misinterpretation.\n",
      "  FutureWarning\n"
     ]
    },
    {
     "data": {
      "text/plain": [
       "<matplotlib.axes._subplots.AxesSubplot at 0x7f0e101e7160>"
      ]
     },
     "execution_count": 6,
     "metadata": {
      "tags": []
     },
     "output_type": "execute_result"
    },
    {
     "data": {
      "image/png": "[encoded data removed]",
      "text/plain": [
       "<Figure size 432x288 with 1 Axes>"
      ]
     },
     "metadata": {
      "needs_background": "light",
      "tags": []
     },
     "output_type": "display_data"
    }
   ],
   "source": [
    "sns.countplot(dataset_separado.genero)"
   ]
  },
  {
   "cell_type": "markdown",
   "metadata": {
    "id": "S9C_h8G5ni2q"
   },
   "source": [
    "Incluso tomando los primeros 50 géneros podemos ver el desbalanceo"
   ]
  },
  {
   "cell_type": "code",
   "execution_count": 7,
   "metadata": {
    "colab": {
     "base_uri": "https://localhost:8080/",
     "height": 335
    },
    "id": "6tR5M9xgni2r",
    "outputId": "13e3c11f-7ef6-47a8-fe97-250d3387bf8d"
   },
   "outputs": [
    {
     "name": "stderr",
     "output_type": "stream",
     "text": [
      "/usr/local/lib/python3.6/dist-packages/seaborn/_decorators.py:43: FutureWarning: Pass the following variables as keyword args: x, y. From version 0.12, the only valid positional argument will be `data`, and passing other arguments without an explicit keyword will result in an error or misinterpretation.\n",
      "  FutureWarning\n"
     ]
    },
    {
     "data": {
      "text/plain": [
       "<matplotlib.axes._subplots.AxesSubplot at 0x7f0e0fec3ba8>"
      ]
     },
     "execution_count": 7,
     "metadata": {
      "tags": []
     },
     "output_type": "execute_result"
    },
    {
     "data": {
      "image/png": "[encoded data removed]",
      "text/plain": [
       "<Figure size 432x288 with 1 Axes>"
      ]
     },
     "metadata": {
      "needs_background": "light",
      "tags": []
     },
     "output_type": "display_data"
    }
   ],
   "source": [
    "gen_keys = list(dataset_separado.genero.value_counts().keys())[:50]\n",
    "gen_values = dataset_separado.genero.value_counts().values[:50]\n",
    "sns.barplot(gen_keys, gen_values)"
   ]
  },
  {
   "cell_type": "markdown",
   "metadata": {
    "id": "gDlz96UUni2u"
   },
   "source": [
    "- Además nos percatamos que esto sería un problema al momento de entrenar los modelos ya que le estamos indicando que un mismo \"x\" puede tener más de un \"y\" asociado, lo cual no permitiría arrojar resultados precisos al momento de la clasificación."
   ]
  },
  {
   "cell_type": "markdown",
   "metadata": {
    "id": "U3CAo9KPni2v"
   },
   "source": [
    "Para lidiar con ambos inconvenientes decidimos proceder de la siguiente manera:\n",
    "\n",
    "<ol>\n",
    "<li>Aquellas canciones asociadas a más de un género, etiquetarlas con el género más popular de los que están asociados a dicha canción.</li>\n",
    "<li>Finalmente quedarnos con los 5 géneros más populares de todo el dataset y limitar el alcance de los clasificadores a estos géneros, con la idea de que en un futuro si se desea abarcar mayor número de géneros, los clasificadores sean facilmente escalables.</li>\n",
    "</ol>\n"
   ]
  },
  {
   "cell_type": "markdown",
   "metadata": {
    "id": "7Qe9lg1Vni2w"
   },
   "source": [
    "### Selección de 5 géneros más populares"
   ]
  },
  {
   "cell_type": "code",
   "execution_count": 8,
   "metadata": {
    "id": "BkFMBI7Uni2x"
   },
   "outputs": [],
   "source": [
    "def turn_into_genre_list(song_genre):\n",
    "    song_genre = song_genre.replace('[', '')\n",
    "    song_genre = song_genre.replace(']', '')\n",
    "    song_genre = song_genre.replace(\"'\", '')\n",
    "    song_genre = song_genre.split(',')\n",
    "    return song_genre"
   ]
  },
  {
   "cell_type": "code",
   "execution_count": 9,
   "metadata": {
    "id": "zQUEqJRIni20"
   },
   "outputs": [],
   "source": [
    "dataset_original['genero'] = dataset_original.apply(lambda song : turn_into_genre_list(song.genero), axis=1)"
   ]
  },
  {
   "cell_type": "code",
   "execution_count": 10,
   "metadata": {
    "colab": {
     "base_uri": "https://localhost:8080/",
     "height": 235
    },
    "id": "y3n2YzhVni23",
    "outputId": "65dcedbd-dfac-4e9a-c28a-e160e3465972"
   },
   "outputs": [
    {
     "data": {
      "text/plain": [
       "danceability\n",
       "0.161    None\n",
       "0.230    None\n",
       "0.289    None\n",
       "0.499    None\n",
       "0.528    None\n",
       "         ... \n",
       "0.714    None\n",
       "0.408    None\n",
       "0.684    None\n",
       "0.541    None\n",
       "0.600    None\n",
       "Length: 1188, dtype: object"
      ]
     },
     "execution_count": 10,
     "metadata": {
      "tags": []
     },
     "output_type": "execute_result"
    }
   ],
   "source": [
    "genre_counter = Counter()\n",
    "dataset_original.apply(lambda song : genre_counter.update(song.genero), axis=1)"
   ]
  },
  {
   "cell_type": "code",
   "execution_count": 11,
   "metadata": {
    "colab": {
     "base_uri": "https://localhost:8080/",
     "height": 1000
    },
    "id": "exiHSkMJni26",
    "outputId": "6bea624a-ba7e-437b-ef8b-e3e0db0f2fd6"
   },
   "outputs": [
    {
     "data": {
      "text/plain": [
       "[(' rock en espanol', 467),\n",
       " (' latin alternative', 303),\n",
       " ('argentine rock', 276),\n",
       " (' latin rock', 276),\n",
       " (' rock nacional', 254),\n",
       " ('latin', 232),\n",
       " (' latin pop', 227),\n",
       " (' argentine rock', 171),\n",
       " (' tropical', 162),\n",
       " ('cuarteto', 129),\n",
       " (' argentine metal', 123),\n",
       " (' cumbia villera', 119),\n",
       " (' reggaeton', 115),\n",
       " (' latin', 111),\n",
       " (' latin hip hop', 108),\n",
       " (' cumbia pop', 101),\n",
       " ('argentine heavy metal', 95),\n",
       " (' latin metal', 95),\n",
       " ('argentine indie', 86),\n",
       " (' puerto rican pop', 76),\n",
       " ('argentine alternative rock', 75),\n",
       " (' argentine indie', 75),\n",
       " (' spanish pop', 69),\n",
       " ('cumbia villera', 66),\n",
       " ('bolero', 65),\n",
       " (' mexican pop', 64),\n",
       " (' spanish pop rock', 62),\n",
       " (' latin arena pop', 62),\n",
       " (' indie cordoba', 59),\n",
       " (' cuarteto', 56),\n",
       " (' electronica argentina', 42),\n",
       " (' ska argentino', 40),\n",
       " (' nuevo folklore argentino', 33),\n",
       " (' latin afrobeat', 32),\n",
       " (' puerto rican rock', 32),\n",
       " (' rap conciencia', 32),\n",
       " (' pop argentino', 26),\n",
       " (' pop electronico', 20),\n",
       " (' post-punk argentina', 18),\n",
       " (' r&b argentino', 18),\n",
       " ('', 16),\n",
       " (' folklore argentino', 15),\n",
       " ('grupera', 14),\n",
       " (' manso indie', 14),\n",
       " ('argentine punk', 13),\n",
       " ('cumbia pop', 13),\n",
       " (' nueva cancion', 13),\n",
       " (' trap argentino', 12),\n",
       " (' ranchera', 11),\n",
       " ('indie cordoba', 11),\n",
       " (' mexican indie', 10),\n",
       " (' argentine indie rock', 10),\n",
       " (' indie platense', 10),\n",
       " (' latin funk', 10),\n",
       " (' argentine punk', 10),\n",
       " (' reggaeton flow', 10),\n",
       " ('argentine metal', 8),\n",
       " (' pop romantico', 7),\n",
       " ('latin alternative', 7),\n",
       " ('argentine reggae', 7),\n",
       " (' cantautor', 6),\n",
       " (' rock uruguayo', 6),\n",
       " (' dance pop', 5),\n",
       " ('cantautor', 5),\n",
       " ('cumbia chilena', 5),\n",
       " (' argentine reggae', 5),\n",
       " (' mariachi', 5),\n",
       " (' trap latino', 5),\n",
       " ('art pop', 4),\n",
       " (' deconstructed club', 4),\n",
       " (' electropop', 4),\n",
       " (' escape room', 4),\n",
       " (' experimental pop', 4),\n",
       " (' fluxwork', 4),\n",
       " (' indie r&b', 4),\n",
       " (' indietronica', 4),\n",
       " ('chamame', 4),\n",
       " (' folclore jujeno', 4),\n",
       " (' canto popular uruguayo', 4),\n",
       " (' chamame', 4),\n",
       " (' regional mexican', 4),\n",
       " ('cumbia paraguaya', 4),\n",
       " ('cumbia', 4),\n",
       " ('mexican indie', 4),\n",
       " ('chicha', 4),\n",
       " (' latincore', 4),\n",
       " ('cancion melodica', 3),\n",
       " (' rock urbano mexicano', 3),\n",
       " ('argentine hip hop', 3),\n",
       " (' mexican rock', 3),\n",
       " (' paraguayan rock', 3),\n",
       " ('cumbia andina mexicana', 3),\n",
       " ('folclore salteno', 3),\n",
       " (' folclore santiagueno', 3),\n",
       " (' reggae en espanol', 3),\n",
       " (' perreo', 3),\n",
       " (' cumbia chilena', 3),\n",
       " ('colombian pop', 3),\n",
       " (' pop', 3),\n",
       " ('celtic metal', 2)]"
      ]
     },
     "execution_count": 11,
     "metadata": {
      "tags": []
     },
     "output_type": "execute_result"
    }
   ],
   "source": [
    "# Estos son los 100 géneros más populares...\n",
    "genre_counter.most_common(100)"
   ]
  },
  {
   "cell_type": "code",
   "execution_count": 12,
   "metadata": {
    "id": "UrWmDNEzni29"
   },
   "outputs": [],
   "source": [
    "def get_most_common_genre(song_genres):\n",
    "    max_count = 0\n",
    "    max_name = ''\n",
    "    for genre in song_genres:\n",
    "        if max_count == 0:\n",
    "            max_count = genre_counter[genre]\n",
    "            max_name = genre\n",
    "        elif genre_counter[genre] > max_count:\n",
    "            max_count = genre_counter[genre]\n",
    "            max_name = genre\n",
    "    return max_name"
   ]
  },
  {
   "cell_type": "code",
   "execution_count": 13,
   "metadata": {
    "id": "fhEFSYVOni3A"
   },
   "outputs": [],
   "source": [
    "dataset_original['most_common_genre'] = dataset_original.apply(lambda song : get_most_common_genre(song.genero), axis=1)"
   ]
  },
  {
   "cell_type": "code",
   "execution_count": 14,
   "metadata": {
    "colab": {
     "base_uri": "https://localhost:8080/",
     "height": 790
    },
    "id": "V0EhfpjKni3D",
    "outputId": "49a4f363-3b5f-401e-fa0b-21e4076470f5"
   },
   "outputs": [
    {
     "data": {
      "text/plain": [
       "[(' rock en espanol', 467),\n",
       " ('latin', 193),\n",
       " ('cuarteto', 129),\n",
       " (' latin pop', 68),\n",
       " ('cumbia villera', 66),\n",
       " ('argentine indie', 43),\n",
       " (' latin rock', 39),\n",
       " ('argentine alternative rock', 28),\n",
       " (' cumbia villera', 27),\n",
       " ('argentine rock', 18),\n",
       " ('', 16),\n",
       " ('grupera', 13),\n",
       " (' argentine rock', 11),\n",
       " ('indie cordoba', 10),\n",
       " (' spanish pop', 5),\n",
       " (' folklore argentino', 5),\n",
       " (' dance pop', 4),\n",
       " ('cumbia', 4),\n",
       " ('mexican indie', 4),\n",
       " ('bolero', 3),\n",
       " (' nueva cancion', 3),\n",
       " (' trap argentino', 3),\n",
       " (' argentine metal', 2),\n",
       " (' rock nacional', 2),\n",
       " ('latintronica', 2),\n",
       " ('flamenco', 2),\n",
       " (' tropical', 2),\n",
       " ('latin pop', 1),\n",
       " ('aggrotech', 1),\n",
       " ('chicha', 1),\n",
       " ('tango', 1),\n",
       " ('downtempo', 1),\n",
       " ('chamame', 1),\n",
       " ('argentine punk', 1),\n",
       " ('argentine metal', 1),\n",
       " ('charango', 1),\n",
       " ('bolivian rock', 1),\n",
       " ('folclore salteno', 1),\n",
       " ('folklore nuevo argentino', 1),\n",
       " (' reggaeton colombiano', 1),\n",
       " (' latin alternative', 1),\n",
       " (' pop rap', 1),\n",
       " (' reggaeton', 1),\n",
       " (' latin', 1),\n",
       " (' pop', 1),\n",
       " ('belgian dance', 1)]"
      ]
     },
     "execution_count": 14,
     "metadata": {
      "tags": []
     },
     "output_type": "execute_result"
    }
   ],
   "source": [
    "genre_counter_unique = Counter()\n",
    "dataset_original.apply(lambda song : genre_counter_unique.update({song.most_common_genre: 1}), axis=1)\n",
    "genre_counter_unique.most_common(1000)"
   ]
  },
  {
   "cell_type": "code",
   "execution_count": 15,
   "metadata": {
    "colab": {
     "base_uri": "https://localhost:8080/",
     "height": 790
    },
    "id": "lSH1KSHgni3F",
    "outputId": "643f7ed3-10c5-40ac-e81b-f6870736d5eb"
   },
   "outputs": [
    {
     "data": {
      "text/plain": [
       "[(' rock en espanol', 39.3098),\n",
       " ('latin', 16.2458),\n",
       " ('cuarteto', 10.8586),\n",
       " (' latin pop', 5.7239),\n",
       " ('cumbia villera', 5.5556),\n",
       " ('argentine indie', 3.6195),\n",
       " (' latin rock', 3.2828),\n",
       " ('argentine alternative rock', 2.3569),\n",
       " (' cumbia villera', 2.2727),\n",
       " ('argentine rock', 1.5152),\n",
       " ('', 1.3468),\n",
       " ('grupera', 1.0943),\n",
       " (' argentine rock', 0.9259),\n",
       " ('indie cordoba', 0.8418),\n",
       " (' spanish pop', 0.4209),\n",
       " (' folklore argentino', 0.4209),\n",
       " (' dance pop', 0.3367),\n",
       " ('cumbia', 0.3367),\n",
       " ('mexican indie', 0.3367),\n",
       " ('bolero', 0.2525),\n",
       " (' nueva cancion', 0.2525),\n",
       " (' trap argentino', 0.2525),\n",
       " (' argentine metal', 0.1684),\n",
       " (' rock nacional', 0.1684),\n",
       " ('latintronica', 0.1684),\n",
       " ('flamenco', 0.1684),\n",
       " (' tropical', 0.1684),\n",
       " ('latin pop', 0.0842),\n",
       " ('aggrotech', 0.0842),\n",
       " ('chicha', 0.0842),\n",
       " ('tango', 0.0842),\n",
       " ('downtempo', 0.0842),\n",
       " ('chamame', 0.0842),\n",
       " ('argentine punk', 0.0842),\n",
       " ('argentine metal', 0.0842),\n",
       " ('charango', 0.0842),\n",
       " ('bolivian rock', 0.0842),\n",
       " ('folclore salteno', 0.0842),\n",
       " ('folklore nuevo argentino', 0.0842),\n",
       " (' reggaeton colombiano', 0.0842),\n",
       " (' latin alternative', 0.0842),\n",
       " (' pop rap', 0.0842),\n",
       " (' reggaeton', 0.0842),\n",
       " (' latin', 0.0842),\n",
       " (' pop', 0.0842),\n",
       " ('belgian dance', 0.0842)]"
      ]
     },
     "execution_count": 15,
     "metadata": {
      "tags": []
     },
     "output_type": "execute_result"
    }
   ],
   "source": [
    "# Calculamos las proporciones de cada género\n",
    "genre_proportions = []\n",
    "for genre in genre_counter_unique:\n",
    "    genre_proportion = genre, round(genre_counter_unique[genre] / sum(genre_counter_unique.values()) * 100.0, 4)\n",
    "    genre_proportions.append(genre_proportion)\n",
    "\n",
    "genre_proportions.sort(key=lambda genre_prop: genre_prop[1], reverse=True)\n",
    "genre_proportions"
   ]
  },
  {
   "cell_type": "markdown",
   "metadata": {
    "id": "2yIYheq1ni3I"
   },
   "source": [
    "A partir de estos resultados obtenidos, pudimos ver que el dataset estaba muy desbalanceado y debíamos tomar una decisión sobre a los géneros que tenían muy pocas canciones y decidir cómo proceder con aquellas canciones que poseían más de un género asociado.\n",
    "Frente a esto decidimos por un lado, considerar para cada canción el género más popular dentro de nuestro dataset, enfocarnos solamente en los 5 géneros más populares del dataset y finalmente aumentar el dataset para balancear estos 5 géneros."
   ]
  },
  {
   "cell_type": "markdown",
   "metadata": {
    "id": "JZr246Ubni3I"
   },
   "source": [
    "### Curación de datos"
   ]
  },
  {
   "cell_type": "code",
   "execution_count": 16,
   "metadata": {
    "id": "FTXxuxpsni3J"
   },
   "outputs": [],
   "source": [
    "# Dataset de los 5 géneros más populares...\n",
    "df = pd.read_csv('df_comm_genres.csv')\n",
    "df = df.drop(columns=[\"Unnamed: 0\", 'liveness', 'id', \"uri\", \"num_artists\", 'genero', 'track_name', 'artist_name'])\n",
    "\n",
    "df.most_common_genre = df.most_common_genre.astype('str')\n",
    "generos = df.most_common_genre.values\n",
    "\n"
   ]
  },
  {
   "cell_type": "markdown",
   "metadata": {
    "id": "0MezHaBWni3L"
   },
   "source": [
    "### Encoding del género (most common)\n"
   ]
  },
  {
   "cell_type": "code",
   "execution_count": 17,
   "metadata": {
    "colab": {
     "base_uri": "https://localhost:8080/",
     "height": 556
    },
    "id": "ahCUdzWOni3L",
    "outputId": "df1a3956-f5d4-4d9d-953b-63df1193925b"
   },
   "outputs": [
    {
     "data": {
      "text/html": [
       "<div>\n",
       "<style scoped>\n",
       "    .dataframe tbody tr th:only-of-type {\n",
       "        vertical-align: middle;\n",
       "    }\n",
       "\n",
       "    .dataframe tbody tr th {\n",
       "        vertical-align: top;\n",
       "    }\n",
       "\n",
       "    .dataframe thead th {\n",
       "        text-align: right;\n",
       "    }\n",
       "</style>\n",
       "<table border=\"1\" class=\"dataframe\">\n",
       "  <thead>\n",
       "    <tr style=\"text-align: right;\">\n",
       "      <th></th>\n",
       "      <th>danceability</th>\n",
       "      <th>energy</th>\n",
       "      <th>key</th>\n",
       "      <th>loudness</th>\n",
       "      <th>mode</th>\n",
       "      <th>speechiness</th>\n",
       "      <th>acousticness</th>\n",
       "      <th>instrumentalness</th>\n",
       "      <th>valence</th>\n",
       "      <th>tempo</th>\n",
       "      <th>duration_ms</th>\n",
       "      <th>time_signature</th>\n",
       "      <th>genero</th>\n",
       "      <th>encoded_genres</th>\n",
       "    </tr>\n",
       "  </thead>\n",
       "  <tbody>\n",
       "    <tr>\n",
       "      <th>0</th>\n",
       "      <td>0.161</td>\n",
       "      <td>0.482</td>\n",
       "      <td>1</td>\n",
       "      <td>-11.210</td>\n",
       "      <td>0</td>\n",
       "      <td>0.0472</td>\n",
       "      <td>0.4860</td>\n",
       "      <td>0.409000</td>\n",
       "      <td>0.0926</td>\n",
       "      <td>161.092</td>\n",
       "      <td>233079</td>\n",
       "      <td>5</td>\n",
       "      <td>dance pop</td>\n",
       "      <td>17</td>\n",
       "    </tr>\n",
       "    <tr>\n",
       "      <th>1</th>\n",
       "      <td>0.230</td>\n",
       "      <td>0.434</td>\n",
       "      <td>10</td>\n",
       "      <td>-12.402</td>\n",
       "      <td>0</td>\n",
       "      <td>0.0551</td>\n",
       "      <td>0.5700</td>\n",
       "      <td>0.000000</td>\n",
       "      <td>0.0834</td>\n",
       "      <td>80.793</td>\n",
       "      <td>216905</td>\n",
       "      <td>5</td>\n",
       "      <td>dance pop</td>\n",
       "      <td>17</td>\n",
       "    </tr>\n",
       "    <tr>\n",
       "      <th>2</th>\n",
       "      <td>0.289</td>\n",
       "      <td>0.280</td>\n",
       "      <td>9</td>\n",
       "      <td>-15.335</td>\n",
       "      <td>1</td>\n",
       "      <td>0.0433</td>\n",
       "      <td>0.8740</td>\n",
       "      <td>0.004430</td>\n",
       "      <td>0.0391</td>\n",
       "      <td>124.835</td>\n",
       "      <td>215773</td>\n",
       "      <td>3</td>\n",
       "      <td>dance pop</td>\n",
       "      <td>17</td>\n",
       "    </tr>\n",
       "    <tr>\n",
       "      <th>3</th>\n",
       "      <td>0.499</td>\n",
       "      <td>0.648</td>\n",
       "      <td>7</td>\n",
       "      <td>-5.812</td>\n",
       "      <td>1</td>\n",
       "      <td>0.0331</td>\n",
       "      <td>0.7230</td>\n",
       "      <td>0.000000</td>\n",
       "      <td>0.4640</td>\n",
       "      <td>88.140</td>\n",
       "      <td>219107</td>\n",
       "      <td>4</td>\n",
       "      <td>latin</td>\n",
       "      <td>24</td>\n",
       "    </tr>\n",
       "    <tr>\n",
       "      <th>4</th>\n",
       "      <td>0.528</td>\n",
       "      <td>0.383</td>\n",
       "      <td>2</td>\n",
       "      <td>-11.170</td>\n",
       "      <td>1</td>\n",
       "      <td>0.0258</td>\n",
       "      <td>0.3760</td>\n",
       "      <td>0.000000</td>\n",
       "      <td>0.4600</td>\n",
       "      <td>89.089</td>\n",
       "      <td>328320</td>\n",
       "      <td>4</td>\n",
       "      <td>latin</td>\n",
       "      <td>24</td>\n",
       "    </tr>\n",
       "    <tr>\n",
       "      <th>...</th>\n",
       "      <td>...</td>\n",
       "      <td>...</td>\n",
       "      <td>...</td>\n",
       "      <td>...</td>\n",
       "      <td>...</td>\n",
       "      <td>...</td>\n",
       "      <td>...</td>\n",
       "      <td>...</td>\n",
       "      <td>...</td>\n",
       "      <td>...</td>\n",
       "      <td>...</td>\n",
       "      <td>...</td>\n",
       "      <td>...</td>\n",
       "      <td>...</td>\n",
       "    </tr>\n",
       "    <tr>\n",
       "      <th>1750</th>\n",
       "      <td>0.690</td>\n",
       "      <td>0.519</td>\n",
       "      <td>4</td>\n",
       "      <td>-7.241</td>\n",
       "      <td>1</td>\n",
       "      <td>0.0246</td>\n",
       "      <td>0.3140</td>\n",
       "      <td>0.000021</td>\n",
       "      <td>0.5230</td>\n",
       "      <td>90.978</td>\n",
       "      <td>230053</td>\n",
       "      <td>4</td>\n",
       "      <td>argentine indie</td>\n",
       "      <td>2</td>\n",
       "    </tr>\n",
       "    <tr>\n",
       "      <th>1751</th>\n",
       "      <td>0.616</td>\n",
       "      <td>0.395</td>\n",
       "      <td>2</td>\n",
       "      <td>-6.017</td>\n",
       "      <td>1</td>\n",
       "      <td>0.0301</td>\n",
       "      <td>0.2890</td>\n",
       "      <td>0.000006</td>\n",
       "      <td>0.3980</td>\n",
       "      <td>120.758</td>\n",
       "      <td>230867</td>\n",
       "      <td>3</td>\n",
       "      <td>argentine indie</td>\n",
       "      <td>2</td>\n",
       "    </tr>\n",
       "    <tr>\n",
       "      <th>1752</th>\n",
       "      <td>0.432</td>\n",
       "      <td>0.456</td>\n",
       "      <td>4</td>\n",
       "      <td>-7.259</td>\n",
       "      <td>1</td>\n",
       "      <td>0.0290</td>\n",
       "      <td>0.1320</td>\n",
       "      <td>0.000205</td>\n",
       "      <td>0.2310</td>\n",
       "      <td>98.843</td>\n",
       "      <td>208579</td>\n",
       "      <td>3</td>\n",
       "      <td>argentine indie</td>\n",
       "      <td>2</td>\n",
       "    </tr>\n",
       "    <tr>\n",
       "      <th>1753</th>\n",
       "      <td>0.557</td>\n",
       "      <td>0.656</td>\n",
       "      <td>7</td>\n",
       "      <td>-6.915</td>\n",
       "      <td>1</td>\n",
       "      <td>0.0295</td>\n",
       "      <td>0.0953</td>\n",
       "      <td>0.000043</td>\n",
       "      <td>0.2590</td>\n",
       "      <td>134.982</td>\n",
       "      <td>204675</td>\n",
       "      <td>4</td>\n",
       "      <td>argentine indie</td>\n",
       "      <td>2</td>\n",
       "    </tr>\n",
       "    <tr>\n",
       "      <th>1754</th>\n",
       "      <td>0.507</td>\n",
       "      <td>0.605</td>\n",
       "      <td>0</td>\n",
       "      <td>-6.919</td>\n",
       "      <td>1</td>\n",
       "      <td>0.0350</td>\n",
       "      <td>0.0379</td>\n",
       "      <td>0.004070</td>\n",
       "      <td>0.3630</td>\n",
       "      <td>149.948</td>\n",
       "      <td>235964</td>\n",
       "      <td>4</td>\n",
       "      <td>argentine indie</td>\n",
       "      <td>2</td>\n",
       "    </tr>\n",
       "  </tbody>\n",
       "</table>\n",
       "<p>1755 rows × 14 columns</p>\n",
       "</div>"
      ],
      "text/plain": [
       "      danceability  energy  ...           genero  encoded_genres\n",
       "0            0.161   0.482  ...        dance pop              17\n",
       "1            0.230   0.434  ...        dance pop              17\n",
       "2            0.289   0.280  ...        dance pop              17\n",
       "3            0.499   0.648  ...            latin              24\n",
       "4            0.528   0.383  ...            latin              24\n",
       "...            ...     ...  ...              ...             ...\n",
       "1750         0.690   0.519  ...  argentine indie               2\n",
       "1751         0.616   0.395  ...  argentine indie               2\n",
       "1752         0.432   0.456  ...  argentine indie               2\n",
       "1753         0.557   0.656  ...  argentine indie               2\n",
       "1754         0.507   0.605  ...  argentine indie               2\n",
       "\n",
       "[1755 rows x 14 columns]"
      ]
     },
     "execution_count": 17,
     "metadata": {
      "tags": []
     },
     "output_type": "execute_result"
    }
   ],
   "source": [
    "le = LabelEncoder()\n",
    "generos_encoded = le.fit_transform(generos)\n",
    "\n",
    "data_final = df.copy()\n",
    "data_final['encoded_genres'] = generos_encoded\n",
    "\n",
    "data_final.rename(columns={'most_common_genre':'genero'}, inplace=True)\n",
    "data_final\n"
   ]
  },
  {
   "cell_type": "markdown",
   "metadata": {
    "id": "AyBQbOxSni3N"
   },
   "source": [
    "### División de dataset en train y test"
   ]
  },
  {
   "cell_type": "code",
   "execution_count": 18,
   "metadata": {
    "id": "uyZgL5bdni3O"
   },
   "outputs": [],
   "source": [
    "generos_de_interes = ['argentine rock', 'latin', 'cuarteto', 'cumbia villera', 'argentine indie']\n",
    "\n",
    "df_interes = data_final.copy()\n",
    "df_interes = df_interes[df_interes['genero'].isin(generos_de_interes)]\n",
    "df_interes.reset_index(inplace=True)\n",
    "df_interes.drop(columns='index', inplace=True)\n",
    "\n",
    "columns = list(df_interes.columns)\n",
    "columns.remove('genero')\n",
    "columns.remove('encoded_genres')\n",
    "\n",
    "\n",
    "\n",
    "X = df_interes[columns]\n",
    "y = df_interes[['encoded_genres']]\n",
    "\n",
    "\n",
    "X_train, X_valid, y_train, y_valid = train_test_split(X, y, test_size=0.3, random_state=42)"
   ]
  },
  {
   "cell_type": "markdown",
   "metadata": {
    "id": "84oxJkG8ni3Q"
   },
   "source": [
    "## Sentiment Analysis"
   ]
  },
  {
   "cell_type": "markdown",
   "metadata": {
    "id": "EE97otunni3Q"
   },
   "source": [
    "Para el análisis de sentimientos se procedió primero a extraer las letras de las canciones que forman parte del dataset y luego utilizar un modelo previamente entrenado de Sentiment Analysis para determinar un valor entre 0 y 1, según cuán \"positivo\" sea el sentimiento que expresa la frase de una canción."
   ]
  },
  {
   "cell_type": "code",
   "execution_count": null,
   "metadata": {
    "id": "PZt-MFhTni3Q"
   },
   "outputs": [],
   "source": [
    "sentiment = sentiment_analysis.SentimentAnalysisSpanish()\n",
    "\n",
    "def calculate_song_sentiment(artist_name, song_name):\n",
    "    score_by_phrase = []\n",
    "    \n",
    "    lyrics_dict = requests.get('https://api.lyrics.ovh/v1/{:}/{:}'.format(artist_name, re.findall( \"^[^\\/]*\",song_name)[0])).json()\n",
    "    \n",
    "    avg_score = -1\n",
    "    min_score = -1\n",
    "    max_score = -1\n",
    "    \n",
    "    if 'lyrics' in lyrics_dict:\n",
    "        lyrics = lyrics_dict['lyrics']\n",
    "\n",
    "        for sentence in lyrics.split('\\n'):\n",
    "            score_by_phrase.append(round(sentiment.sentiment(sentence), 4))\n",
    "\n",
    "        avg_score = round(sum(score_by_phrase)/len(score_by_phrase), 4)\n",
    "        min_score = round(max(score_by_phrase), 4)\n",
    "        max_score = round(min(score_by_phrase), 4)\n",
    "        \n",
    "        return avg_score, min_score, max_score"
   ]
  },
  {
   "cell_type": "markdown",
   "metadata": {
    "id": "Zw6mvP53ni3S"
   },
   "source": [
    "Los valores devueltos por la función son:\n",
    "   - Avg score: El promedio del sentiment score de toda una canción, calculado como la suma del score de todas sus frases sobre la cantidad de frases de la canción.\n",
    "   - Min score: El mínimo sentiment score de una canción.\n",
    "   - Max score: El máximo sentiment score de una canción. "
   ]
  },
  {
   "cell_type": "code",
   "execution_count": null,
   "metadata": {
    "collapsed": true,
    "id": "-zAg_N6fni3S",
    "jupyter": {
     "outputs_hidden": true
    },
    "outputId": "6ddbc621-becf-4676-ecd2-6401cdd6a978"
   },
   "outputs": [
    {
     "name": "stdout",
     "output_type": "stream",
     "text": [
      "0- Avg Score: 0.5047 Min Score: 0.5047 Max Score: 0.5047 Artist: Arca Song: Desafío\n",
      "1- Avg Score: 0.5047 Min Score: 0.5047 Max Score: 0.5047 Artist: Arca Song: Anoche\n",
      "2- Avg Score: 0.5047 Min Score: 0.5047 Max Score: 0.5047 Artist: Arca Song: Sin Rumbo\n",
      "3- Avg Score: 0.5047 Min Score: 0.5047 Max Score: 0.5047 Artist: Rocío Dúrcal Song: La Gata Bajo la Lluvia\n",
      "4- Avg Score: 0.4901 Min Score: 0.6505 Max Score: 0.339 Artist: Juan Gabriel Song: Querida\n",
      "5- Avg Score: 0.4352 Min Score: 0.5208 Max Score: 0.0 Artist: Hermetica Song: Otro Día para Ser\n",
      "6- Avg Score: 0.4828 Min Score: 0.6962 Max Score: 0.0002 Artist: Hermetica Song: Robo un Auto\n",
      "7- Avg Score: 0.4652 Min Score: 0.8549 Max Score: 1e-04 Artist: Almafuerte Song: El Pibe Tigre\n",
      "8- Avg Score: 0.5047 Min Score: 0.5047 Max Score: 0.5047 Artist: V8 Song: Deseando Destruir y Matar\n",
      "9- Avg Score: 0.4662 Min Score: 0.7006 Max Score: 0.0005 Artist: Malon Song: Nido De Almas\n",
      "10- Avg Score: 0.5047 Min Score: 0.5047 Max Score: 0.5047 Artist: Malon Song: Malon Mestizo\n",
      "11- Avg Score: 0.4185 Min Score: 0.8746 Max Score: 0.0 Artist: Isabel Pantoja Song: Asi Fue\n",
      "12- Avg Score: 0.5047 Min Score: 0.5047 Max Score: 0.5047 Artist: V8 Song: Destruccion\n",
      "13- Avg Score: 0.5047 Min Score: 0.5047 Max Score: 0.5047 Artist: Almafuerte Song: Toro y Pampa - En Vivo\n",
      "14- Avg Score: 0.5047 Min Score: 0.5047 Max Score: 0.5047 Artist: Malon Song: Sintoma De La Infeccion\n",
      "15- Avg Score: 0.4897 Min Score: 0.9763 Max Score: 0.0021 Artist: Nino Bravo Song: Un Beso Y Una Flor\n",
      "16- Avg Score: 0.4468 Min Score: 0.9988 Max Score: 0.0 Artist: Nino Bravo Song: Libre\n",
      "17- Avg Score: 0.4302 Min Score: 0.6093 Max Score: 0.0 Artist: Raphael Song: Como yo te amo\n",
      "18- Avg Score: 0.5047 Min Score: 0.5047 Max Score: 0.5047 Artist: Intoxicados Song: Niña de Tilcara\n",
      "19- Avg Score: 0.5047 Min Score: 0.5047 Max Score: 0.5047 Artist: Bersuit Vergarabat Song: Perro Amor Explota - Live In Buenos Aires / 2001\n",
      "20- Avg Score: 0.5047 Min Score: 0.5047 Max Score: 0.5047 Artist: Bersuit Vergarabat Song: El Viejo De Arriba\n",
      "21- Avg Score: 0.4496 Min Score: 0.5057 Max Score: 0.0269 Artist: Turf Song: No Se Llama Amor\n",
      "22- Avg Score: 0.5047 Min Score: 0.5047 Max Score: 0.5047 Artist: Los Tipitos Song: Brujería\n",
      "23- Avg Score: 0.5047 Min Score: 0.5047 Max Score: 0.5047 Artist: Attaque 77 Song: No Me Arrepiento de Este Amor - En Vivo\n",
      "24- Avg Score: 0.4188 Min Score: 0.5063 Max Score: 0.0076 Artist: Gilda Song: No Me Arrepiento de Este Amor\n",
      "25- Avg Score: 0.5047 Min Score: 0.5047 Max Score: 0.5047 Artist: Grupo Sombras Song: La Ventanita\n",
      "26- Avg Score: 0.5047 Min Score: 0.5047 Max Score: 0.5047 Artist: Rafaga Song: Una Ráfaga de Amor\n",
      "27- Avg Score: 0.3998 Min Score: 0.5049 Max Score: 0.0 Artist: Rafaga Song: Una Cerveza\n",
      "28- Avg Score: 0.4192 Min Score: 0.5064 Max Score: 0.0 Artist: Paquita La Del Barrio Song: Rata De Dos Patas\n",
      "29- Avg Score: 0.4852 Min Score: 0.8517 Max Score: 0.0009 Artist: Rata Blanca Song: Mujer Amante\n",
      "30- Avg Score: 0.4662 Min Score: 0.7408 Max Score: 0.0015 Artist: Los Enanitos Verdes Song: Lamento Boliviano\n",
      "31- Avg Score: 0.426 Min Score: 0.5279 Max Score: 0.0046 Artist: Los Enanitos Verdes Song: La Muralla Verde\n",
      "32- Avg Score: 0.4856 Min Score: 0.6668 Max Score: 0.039 Artist: Attaque 77 Song: Arrancacorazones\n",
      "33- Avg Score: 0.3923 Min Score: 0.5521 Max Score: 0.0068 Artist: Catupecu Machu Song: A Veces Vuelvo\n",
      "34- Avg Score: 0.5047 Min Score: 0.5047 Max Score: 0.5047 Artist: Rata Blanca Song: Aún Estás En Mis Sueños\n",
      "35- Avg Score: 0.4553 Min Score: 0.9214 Max Score: 0.0 Artist: Rata Blanca Song: La Leyenda Del Hada Y El Mago\n",
      "36- Avg Score: 0.4695 Min Score: 0.9078 Max Score: 0.0003 Artist: Mägo de Oz Song: Fiesta Pagana\n",
      "37- Avg Score: 0.4424 Min Score: 0.5725 Max Score: 1e-04 Artist: Mägo de Oz Song: Molinos De Viento\n",
      "38- Avg Score: 0.4817 Min Score: 0.9012 Max Score: 0.0095 Artist: Mecano Song: Hijo de la Luna\n",
      "39- Avg Score: 0.5047 Min Score: 0.5047 Max Score: 0.5047 Artist: Callejeros Song: Rebelde Agitador y Revolucionario\n",
      "40- Avg Score: 0.5047 Min Score: 0.5047 Max Score: 0.5047 Artist: Callejeros Song: Sé Que No Sé\n",
      "41- Avg Score: 0.5047 Min Score: 0.5047 Max Score: 0.5047 Artist: Callejeros Song: Algo Mejor Algo Peor\n",
      "42- Avg Score: 0.4287 Min Score: 0.5068 Max Score: 0.0 Artist: Jeanette Song: Soy rebelde\n",
      "43- Avg Score: 0.5047 Min Score: 0.5047 Max Score: 0.5047 Artist: Los Palmeras Song: Soy Sabalero\n",
      "44- Avg Score: 0.5047 Min Score: 0.5047 Max Score: 0.5047 Artist: Ulises Bueno Song: Dale Vieja Dale\n",
      "45- Avg Score: 0.5012 Min Score: 0.5696 Max Score: 0.0268 Artist: Rodrigo Song: Ocho Cuarenta\n",
      "46- Avg Score: 0.5047 Min Score: 0.5047 Max Score: 0.5047 Artist: Chaqueño Palavecino Song: Amor Salvaje\n",
      "47- Avg Score: 0.5047 Min Score: 0.5047 Max Score: 0.5047 Artist: Jorge Cafrune Song: No Soy de Aquí... Ni Soy de Allá\n",
      "48- Avg Score: 0.5047 Min Score: 0.5047 Max Score: 0.5047 Artist: Enrique Santos Discépolo Song: Cambalache\n",
      "49- Avg Score: 0.5047 Min Score: 0.5047 Max Score: 0.5047 Artist: Jose Larralde Song: Si De Rabia Nomas\n",
      "50- Avg Score: 0.5047 Min Score: 0.5047 Max Score: 0.5047 Artist: Jose Larralde Song: Que Cruz La Que Lleva El Viento\n",
      "51- Avg Score: 0.5047 Min Score: 0.5047 Max Score: 0.5047 Artist: Jose Larralde Song: El Porque\n",
      "52- Avg Score: 0.5047 Min Score: 0.5047 Max Score: 0.5047 Artist: Jose Larralde Song: Quien Me Enseño\n",
      "53- Avg Score: 0.5047 Min Score: 0.5047 Max Score: 0.5047 Artist: Horacio Guarany Song: Si Se Calla El Cantor\n",
      "54- Avg Score: 0.5047 Min Score: 0.5047 Max Score: 0.5047 Artist: Rodrigo Song: Lo mejor del amor\n",
      "55- Avg Score: 0.5047 Min Score: 0.5047 Max Score: 0.5047 Artist: La K'onga Song: La Cabaña\n",
      "56- Avg Score: 0.4274 Min Score: 0.623 Max Score: 0.0004 Artist: Sabroso Song: Llegó Tu Papi\n",
      "57- Avg Score: 0.5047 Min Score: 0.5047 Max Score: 0.5047 Artist: Sebastian Song: Movidito, Movidito\n",
      "58- Avg Score: 0.5047 Min Score: 0.5047 Max Score: 0.5047 Artist: Chaqueño Palavecino Song: La Ley Y La Trampa\n",
      "59- Avg Score: 0.4726 Min Score: 0.975 Max Score: 0.0008 Artist: Combo Chimbita Song: Testigo\n",
      "60- Avg Score: 0.5047 Min Score: 0.5047 Max Score: 0.5047 Artist: Combo Chimbita Song: No Regreso\n",
      "61- Avg Score: 0.4502 Min Score: 0.732 Max Score: 0.0168 Artist: Los Ángeles Azules Song: Cómo Te Voy A Olvidar\n",
      "62- Avg Score: 0.4944 Min Score: 0.5176 Max Score: 0.3696 Artist: Marco Antonio Solís Song: Más Que Tu Amigo\n",
      "63- Avg Score: 0.5047 Min Score: 0.5047 Max Score: 0.5047 Artist: Supermerk2 Song: Que Calor\n",
      "64- Avg Score: 0.454 Min Score: 0.5058 Max Score: 0.0013 Artist: Nestor En Bloque Song: Una Calle Nos Separa\n",
      "65- Avg Score: 0.5047 Min Score: 0.5047 Max Score: 0.5047 Artist: Los Palmeras Song: Cumbia Sobre el Mar\n",
      "66- Avg Score: 0.4852 Min Score: 0.8392 Max Score: 0.0265 Artist: Soda Stereo Song: Juegos de Seducción\n",
      "67- Avg Score: 0.5047 Min Score: 0.5047 Max Score: 0.5047 Artist: Virus Song: Pronta Entrega\n",
      "68- Avg Score: 0.5047 Min Score: 0.5047 Max Score: 0.5047 Artist: Virus Song: Luna de Miel en la Mano\n",
      "69- Avg Score: 0.4609 Min Score: 0.5053 Max Score: 0.0052 Artist: Charly García Song: No Me Dejan Salir\n",
      "70- Avg Score: 0.4607 Min Score: 0.7237 Max Score: 0.0 Artist: Charly García Song: Demoliendo Hoteles\n",
      "71- Avg Score: 0.5047 Min Score: 0.5047 Max Score: 0.5047 Artist: GIT Song: Es Por Amor\n",
      "72- Avg Score: 0.457 Min Score: 0.5064 Max Score: 0.0077 Artist: Babasónicos Song: Irresponsables\n",
      "73- Avg Score: 0.5047 Min Score: 0.5047 Max Score: 0.5047 Artist: Babasónicos Song: Y qué\n",
      "74- Avg Score: 0.473 Min Score: 0.5145 Max Score: 0.0016 Artist: Babasónicos Song: Risa\n",
      "75- Avg Score: 0.4976 Min Score: 0.9973 Max Score: 0.0801 Artist: Babasónicos Song: El Loco\n",
      "76- Avg Score: 0.4881 Min Score: 0.5628 Max Score: 0.2145 Artist: Los Rodriguez Song: Sin documentos\n",
      "77- Avg Score: 0.4237 Min Score: 0.8137 Max Score: 1e-04 Artist: Soda Stereo Song: En la Ciudad de la Furia\n",
      "78- Avg Score: 0.4831 Min Score: 0.8288 Max Score: 0.0331 Artist: Soda Stereo Song: Persiana Americana\n",
      "79- Avg Score: 0.5047 Min Score: 0.5047 Max Score: 0.5047 Artist: La Mona Jimenez Song: Amor Secreto\n",
      "80- Avg Score: 0.5047 Min Score: 0.5047 Max Score: 0.5047 Artist: La Mona Jimenez Song: Para Volver\n",
      "81- Avg Score: 0.5047 Min Score: 0.5047 Max Score: 0.5047 Artist: La Mona Jimenez Song: Oh Señor\n",
      "82- Avg Score: 0.5047 Min Score: 0.5047 Max Score: 0.5047 Artist: La Mona Jimenez Song: Besame\n",
      "83- Avg Score: 0.5047 Min Score: 0.5047 Max Score: 0.5047 Artist: La Mona Jimenez Song: Y se murió de amor\n",
      "84- Avg Score: 0.5047 Min Score: 0.5047 Max Score: 0.5047 Artist: La Mona Jimenez Song: Ese guaso\n",
      "85- Avg Score: 0.5047 Min Score: 0.5047 Max Score: 0.5047 Artist: La Mona Jimenez Song: Solo tú\n",
      "86- Avg Score: 0.5047 Min Score: 0.5047 Max Score: 0.5047 Artist: La Mona Jimenez Song: Mujer y amante\n",
      "87- Avg Score: 0.5047 Min Score: 0.5047 Max Score: 0.5047 Artist: La Mona Jimenez Song: La enamorada\n",
      "88- Avg Score: 0.5047 Min Score: 0.5047 Max Score: 0.5047 Artist: La Mona Jimenez Song: Hiciste de mí\n",
      "89- Avg Score: 0.5047 Min Score: 0.5047 Max Score: 0.5047 Artist: La Mona Jimenez Song: Madre Soltera\n",
      "90- Avg Score: 0.5047 Min Score: 0.5047 Max Score: 0.5047 Artist: La Mona Jimenez Song: Amigos\n",
      "91- Avg Score: 0.5047 Min Score: 0.5047 Max Score: 0.5047 Artist: La Mona Jimenez Song: Beso a beso\n",
      "92- Avg Score: 0.5047 Min Score: 0.5047 Max Score: 0.5047 Artist: La Mona Jimenez Song: La mujer de él\n",
      "93- Avg Score: 0.5047 Min Score: 0.5047 Max Score: 0.5047 Artist: La Mona Jimenez Song: Mi querida ma!\n",
      "94- Avg Score: 0.5047 Min Score: 0.5047 Max Score: 0.5047 Artist: La Mona Jimenez Song: Despierta corazón\n",
      "95- Avg Score: 0.5047 Min Score: 0.5047 Max Score: 0.5047 Artist: La Mona Jimenez Song: Visita fantasma\n",
      "96- Avg Score: 0.5047 Min Score: 0.5047 Max Score: 0.5047 Artist: La Mona Jimenez Song: Paloma loca\n",
      "97- Avg Score: 0.5047 Min Score: 0.5047 Max Score: 0.5047 Artist: La Mona Jimenez Song: 28 de diciembre\n",
      "98- Avg Score: 0.5047 Min Score: 0.5047 Max Score: 0.5047 Artist: La Mona Jimenez Song: Corren corren los segundos\n",
      "99- Avg Score: 0.5047 Min Score: 0.5047 Max Score: 0.5047 Artist: La Mona Jimenez Song: Ramito de violetas\n",
      "100- Avg Score: 0.5047 Min Score: 0.5047 Max Score: 0.5047 Artist: La Mona Jimenez Song: Nuestro estilo cordobés\n",
      "101- Avg Score: 0.5047 Min Score: 0.5047 Max Score: 0.5047 Artist: La Mona Jimenez Song: Amor de mañana\n",
      "102- Avg Score: 0.5047 Min Score: 0.5047 Max Score: 0.5047 Artist: La Mona Jimenez Song: El bohemio\n",
      "103- Avg Score: 0.5047 Min Score: 0.5047 Max Score: 0.5047 Artist: La Mona Jimenez Song: Qué tal Pascual / Un día te dije\n",
      "104- Avg Score: 0.5047 Min Score: 0.5047 Max Score: 0.5047 Artist: La Mona Jimenez Song: Lo Que Ha Pasado Anoche\n",
      "105- Avg Score: 0.5047 Min Score: 0.5047 Max Score: 0.5047 Artist: La Mona Jimenez Song: Jaque Mate\n",
      "106- Avg Score: 0.5047 Min Score: 0.5047 Max Score: 0.5047 Artist: La Mona Jimenez Song: No Pachanga Naninga\n",
      "107- Avg Score: 0.5047 Min Score: 0.5047 Max Score: 0.5047 Artist: La Mona Jimenez Song: No Soy Dios Para Perdonar\n",
      "108- Avg Score: 0.5047 Min Score: 0.5047 Max Score: 0.5047 Artist: La Mona Jimenez Song: Si yo fuera mujer\n",
      "109- Avg Score: 0.5047 Min Score: 0.5047 Max Score: 0.5047 Artist: La Mona Jimenez Song: Si te vas\n",
      "110- Avg Score: 0.5047 Min Score: 0.5047 Max Score: 0.5047 Artist: La Mona Jimenez Song: Dueño de tu sueño\n",
      "111- Avg Score: 0.5047 Min Score: 0.5047 Max Score: 0.5047 Artist: La Mona Jimenez Song: El sangrión\n",
      "112- Avg Score: 0.5047 Min Score: 0.5047 Max Score: 0.5047 Artist: La Mona Jimenez Song: Abusadora\n",
      "113- Avg Score: 0.5047 Min Score: 0.5047 Max Score: 0.5047 Artist: La Mona Jimenez Song: Ella a Él\n",
      "114- Avg Score: 0.5047 Min Score: 0.5047 Max Score: 0.5047 Artist: La Mona Jimenez Song: La Mona Es Como Usted - Live\n",
      "115- Avg Score: 0.5047 Min Score: 0.5047 Max Score: 0.5047 Artist: La Mona Jimenez Song: El Divorcio\n",
      "116- Avg Score: 0.5047 Min Score: 0.5047 Max Score: 0.5047 Artist: La Mona Jimenez Song: Bobby\n",
      "117- Avg Score: 0.5047 Min Score: 0.5047 Max Score: 0.5047 Artist: La Mona Jimenez Song: El tordo\n",
      "118- Avg Score: 0.5047 Min Score: 0.5047 Max Score: 0.5047 Artist: La Mona Jimenez Song: Tu Príncipe Azul\n",
      "119- Avg Score: 0.5047 Min Score: 0.5047 Max Score: 0.5047 Artist: La Mona Jimenez Song: Celosa\n",
      "120- Avg Score: 0.5047 Min Score: 0.5047 Max Score: 0.5047 Artist: La Mona Jimenez Song: La Chica De La Mochila\n",
      "121- Avg Score: 0.5047 Min Score: 0.5047 Max Score: 0.5047 Artist: La Mona Jimenez Song: Telegrama De Despido\n",
      "122- Avg Score: 0.5047 Min Score: 0.5047 Max Score: 0.5047 Artist: La Mona Jimenez Song: El Renegado\n",
      "123- Avg Score: 0.5047 Min Score: 0.5047 Max Score: 0.5047 Artist: La Mona Jimenez Song: Locura Total\n",
      "124- Avg Score: 0.5047 Min Score: 0.5047 Max Score: 0.5047 Artist: La Mona Jimenez Song: Mary La Del Burdel\n",
      "125- Avg Score: 0.5047 Min Score: 0.5047 Max Score: 0.5047 Artist: La Mona Jimenez Song: La Luna\n",
      "126- Avg Score: 0.5047 Min Score: 0.5047 Max Score: 0.5047 Artist: La Mona Jimenez Song: Te Aprendi A Amar\n",
      "127- Avg Score: 0.5047 Min Score: 0.5047 Max Score: 0.5047 Artist: La Mona Jimenez Song: Solo Contigo (Entre Tu Cuerpo Y El Mio)\n",
      "128- Avg Score: 0.5047 Min Score: 0.5047 Max Score: 0.5047 Artist: La Mona Jimenez Song: El Rockero Miguel\n",
      "129- Avg Score: 0.5047 Min Score: 0.5047 Max Score: 0.5047 Artist: La Mona Jimenez Song: Lluvia\n",
      "130- Avg Score: 0.5047 Min Score: 0.5047 Max Score: 0.5047 Artist: La Mona Jimenez Song: Cárcel a un valiente\n",
      "131- Avg Score: 0.5047 Min Score: 0.5047 Max Score: 0.5047 Artist: La Mona Jimenez Song: Me muero por ella\n",
      "132- Avg Score: 0.5047 Min Score: 0.5047 Max Score: 0.5047 Artist: La Mona Jimenez Song: Destino Cruel\n",
      "133- Avg Score: 0.5047 Min Score: 0.5047 Max Score: 0.5047 Artist: La Mona Jimenez Song: Tengo Tu Amor\n",
      "134- Avg Score: 0.5047 Min Score: 0.5047 Max Score: 0.5047 Artist: La Mona Jimenez Song: Informe Policial\n",
      "135- Avg Score: 0.5047 Min Score: 0.5047 Max Score: 0.5047 Artist: La Mona Jimenez Song: Intentemos\n",
      "136- Avg Score: 0.5047 Min Score: 0.5047 Max Score: 0.5047 Artist: La Mona Jimenez Song: Ven a Vivir Conmigo\n",
      "137- Avg Score: 0.5047 Min Score: 0.5047 Max Score: 0.5047 Artist: La Mona Jimenez Song: El Marginal\n",
      "138- Avg Score: 0.5047 Min Score: 0.5047 Max Score: 0.5047 Artist: La Mona Jimenez Song: El bum bum\n",
      "139- Avg Score: 0.5047 Min Score: 0.5047 Max Score: 0.5047 Artist: La Mona Jimenez Song: Colonia barata\n",
      "140- Avg Score: 0.5047 Min Score: 0.5047 Max Score: 0.5047 Artist: La Mona Jimenez Song: Se fue\n",
      "141- Avg Score: 0.5047 Min Score: 0.5047 Max Score: 0.5047 Artist: La Mona Jimenez Song: El suicida\n",
      "142- Avg Score: 0.5047 Min Score: 0.5047 Max Score: 0.5047 Artist: La Mona Jimenez Song: Qué grande te queda\n",
      "143- Avg Score: 0.5047 Min Score: 0.5047 Max Score: 0.5047 Artist: La Mona Jimenez Song: Sé que te enamorarás\n",
      "144- Avg Score: 0.5047 Min Score: 0.5047 Max Score: 0.5047 Artist: La Mona Jimenez Song: Seguí en carrera\n",
      "145- Avg Score: 0.5047 Min Score: 0.5047 Max Score: 0.5047 Artist: La Mona Jimenez Song: El guapachozo\n",
      "146- Avg Score: 0.5047 Min Score: 0.5047 Max Score: 0.5047 Artist: La Mona Jimenez Song: Ahogadito - En Vivo\n",
      "147- Avg Score: 0.5047 Min Score: 0.5047 Max Score: 0.5047 Artist: La Mona Jimenez Song: Luis - En Vivo\n",
      "148- Avg Score: 0.5047 Min Score: 0.5047 Max Score: 0.5047 Artist: La Mona Jimenez Song: Oh Mami - En Vivo\n",
      "149- Avg Score: 0.5047 Min Score: 0.5047 Max Score: 0.5047 Artist: La Mona Jimenez Song: Fiesta para dos\n",
      "150- Avg Score: 0.5047 Min Score: 0.5047 Max Score: 0.5047 Artist: La Mona Jimenez Song: La Mona Es un Muchacho de Barrio\n",
      "151- Avg Score: 0.5047 Min Score: 0.5047 Max Score: 0.5047 Artist: La Mona Jimenez Song: Calla Chiquitín\n",
      "152- Avg Score: 0.5047 Min Score: 0.5047 Max Score: 0.5047 Artist: La Mona Jimenez Song: Amor Pecador\n",
      "153- Avg Score: 0.5047 Min Score: 0.5047 Max Score: 0.5047 Artist: La Mona Jimenez Song: Pobres y Ricos\n",
      "154- Avg Score: 0.5047 Min Score: 0.5047 Max Score: 0.5047 Artist: La Mona Jimenez Song: Amor de compra y venta\n",
      "155- Avg Score: 0.5047 Min Score: 0.5047 Max Score: 0.5047 Artist: La Mona Jimenez Song: La Pupera - En Vivo\n",
      "156- Avg Score: 0.5047 Min Score: 0.5047 Max Score: 0.5047 Artist: La Mona Jimenez Song: Historia Fatal - Live Version\n",
      "157- Avg Score: 0.5047 Min Score: 0.5047 Max Score: 0.5047 Artist: La Mona Jimenez Song: Tinta China - Live\n",
      "158- Avg Score: 0.5047 Min Score: 0.5047 Max Score: 0.5047 Artist: La Mona Jimenez Song: A Que No - En Vivo\n",
      "159- Avg Score: 0.5047 Min Score: 0.5047 Max Score: 0.5047 Artist: La Mona Jimenez Song: Tú - En Vivo\n",
      "160- Avg Score: 0.5047 Min Score: 0.5047 Max Score: 0.5047 Artist: La Mona Jimenez Song: Me desespero - En Vivo\n",
      "161- Avg Score: 0.5047 Min Score: 0.5047 Max Score: 0.5047 Artist: La Mona Jimenez Song: Gira el mundo al revés - En Vivo\n",
      "162- Avg Score: 0.5047 Min Score: 0.5047 Max Score: 0.5047 Artist: La Mona Jimenez Song: Escribele una carta - En Vivo\n",
      "163- Avg Score: 0.5047 Min Score: 0.5047 Max Score: 0.5047 Artist: La Mona Jimenez Song: Que se siente\n",
      "164- Avg Score: 0.5047 Min Score: 0.5047 Max Score: 0.5047 Artist: La Mona Jimenez Song: El león\n",
      "165- Avg Score: 0.5047 Min Score: 0.5047 Max Score: 0.5047 Artist: La Mona Jimenez Song: Amor fantasma\n",
      "166- Avg Score: 0.5047 Min Score: 0.5047 Max Score: 0.5047 Artist: La Mona Jimenez Song: Después de un año\n",
      "167- Avg Score: 0.5047 Min Score: 0.5047 Max Score: 0.5047 Artist: La Mona Jimenez Song: Quién Se Tomó Todo el Vino - En Vivo\n",
      "168- Avg Score: 0.5047 Min Score: 0.5047 Max Score: 0.5047 Artist: La Mona Jimenez Song: Estrella de la Mañana - En Vivo\n",
      "169- Avg Score: 0.5047 Min Score: 0.5047 Max Score: 0.5047 Artist: La Mona Jimenez Song: Quédate - En Vivo\n",
      "170- Avg Score: 0.5047 Min Score: 0.5047 Max Score: 0.5047 Artist: La Mona Jimenez Song: Vive\n",
      "171- Avg Score: 0.5047 Min Score: 0.5047 Max Score: 0.5047 Artist: La Mona Jimenez Song: El tren de las nubes - La negra\n",
      "172- Avg Score: 0.5047 Min Score: 0.5047 Max Score: 0.5047 Artist: La Mona Jimenez Song: Ruleta rusa\n",
      "173- Avg Score: 0.5047 Min Score: 0.5047 Max Score: 0.5047 Artist: La Mona Jimenez Song: La reina de la mentira\n",
      "174- Avg Score: 0.5047 Min Score: 0.5047 Max Score: 0.5047 Artist: La Mona Jimenez Song: El ruego de la nena\n",
      "175- Avg Score: 0.5047 Min Score: 0.5047 Max Score: 0.5047 Artist: La Mona Jimenez Song: La novia blanca\n",
      "176- Avg Score: 0.5047 Min Score: 0.5047 Max Score: 0.5047 Artist: La Mona Jimenez Song: Dos x uno\n",
      "177- Avg Score: 0.5047 Min Score: 0.5047 Max Score: 0.5047 Artist: La Mona Jimenez Song: El loco perdido\n",
      "178- Avg Score: 0.5047 Min Score: 0.5047 Max Score: 0.5047 Artist: La Mona Jimenez Song: Agujita De Oro\n",
      "179- Avg Score: 0.5047 Min Score: 0.5047 Max Score: 0.5047 Artist: La Mona Jimenez Song: Vuela Más Alto Que Tú\n",
      "180- Avg Score: 0.5047 Min Score: 0.5047 Max Score: 0.5047 Artist: La Mona Jimenez Song: Se Lo Juro Vieja\n",
      "181- Avg Score: 0.4774 Min Score: 0.9811 Max Score: 0.0578 Artist: La Mona Jimenez Song: Nueve y Media\n",
      "182- Avg Score: 0.5047 Min Score: 0.5047 Max Score: 0.5047 Artist: La Mona Jimenez Song: La Prisión\n",
      "183- Avg Score: 0.5047 Min Score: 0.5047 Max Score: 0.5047 Artist: La Mona Jimenez Song: Goma de Mascar - En Vivo\n",
      "184- Avg Score: 0.5047 Min Score: 0.5047 Max Score: 0.5047 Artist: La Mona Jimenez Song: Libertad - En Vivo\n",
      "185- Avg Score: 0.5047 Min Score: 0.5047 Max Score: 0.5047 Artist: La Mona Jimenez Song: Con Tu Modo de Amar\n",
      "186- Avg Score: 0.5047 Min Score: 0.5047 Max Score: 0.5047 Artist: La Mona Jimenez Song: La Carta\n",
      "187- Avg Score: 0.5047 Min Score: 0.5047 Max Score: 0.5047 Artist: La Mona Jimenez Song: La vi - En Vivo\n",
      "188- Avg Score: 0.5047 Min Score: 0.5047 Max Score: 0.5047 Artist: La Mona Jimenez Song: Sala 4 - En Vivo\n",
      "189- Avg Score: 0.5047 Min Score: 0.5047 Max Score: 0.5047 Artist: La Mona Jimenez Song: Cris - En Vivo\n",
      "190- Avg Score: 0.5047 Min Score: 0.5047 Max Score: 0.5047 Artist: La Mona Jimenez Song: Te voy a enseñar - En Vivo\n",
      "191- Avg Score: 0.5047 Min Score: 0.5047 Max Score: 0.5047 Artist: La Mona Jimenez Song: Terry - En Vivo\n",
      "192- Avg Score: 0.5047 Min Score: 0.5047 Max Score: 0.5047 Artist: La Mona Jimenez Song: No quiero amigos - En Vivo\n",
      "193- Avg Score: 0.5047 Min Score: 0.5047 Max Score: 0.5047 Artist: La Mona Jimenez Song: El Federal\n",
      "194- Avg Score: 0.5047 Min Score: 0.5047 Max Score: 0.5047 Artist: La Mona Jimenez Song: El Beso\n",
      "195- Avg Score: 0.5047 Min Score: 0.5047 Max Score: 0.5047 Artist: La Mona Jimenez Song: Si He Sido Infiel\n",
      "196- Avg Score: 0.5047 Min Score: 0.5047 Max Score: 0.5047 Artist: La Mona Jimenez Song: El Viernes\n",
      "197- Avg Score: 0.5047 Min Score: 0.5047 Max Score: 0.5047 Artist: La Mona Jimenez Song: El pianista\n",
      "198- Avg Score: 0.5047 Min Score: 0.5047 Max Score: 0.5047 Artist: La Mona Jimenez Song: Punto final\n",
      "199- Avg Score: 0.5047 Min Score: 0.5047 Max Score: 0.5047 Artist: La Mona Jimenez Song: Simplemente baila\n",
      "200- Avg Score: 0.5047 Min Score: 0.5047 Max Score: 0.5047 Artist: La Mona Jimenez Song: Se tiene que ir\n",
      "201- Avg Score: 0.4916 Min Score: 0.569 Max Score: 0.0257 Artist: Raphael Song: Yo soy aquél\n",
      "202- Avg Score: 0.4881 Min Score: 0.9371 Max Score: 0.0023 Artist: Raphael Song: Mi gran noche\n",
      "203- Avg Score: 0.5047 Min Score: 0.5047 Max Score: 0.5047 Artist: Luis Miguel Song: Culpable O No - Miénteme Como Siempre\n",
      "204- Avg Score: 0.5047 Min Score: 0.5047 Max Score: 0.5047 Artist: Luis Miguel Song: Hasta Que Me Olvides\n",
      "205- Avg Score: 0.4781 Min Score: 0.8327 Max Score: 0.0173 Artist: Luis Miguel Song: La Incondicional\n",
      "206- Avg Score: 0.3758 Min Score: 0.6482 Max Score: 0.0004 Artist: Luis Miguel Song: Ahora Te Puedes Marchar\n",
      "207- Avg Score: 0.4882 Min Score: 0.5693 Max Score: 0.0098 Artist: Luis Miguel Song: Por Debajo De La Mesa\n",
      "208- Avg Score: 0.4546 Min Score: 0.5865 Max Score: 0.0032 Artist: Luis Miguel Song: La Media Vuelta\n",
      "209- Avg Score: 0.4895 Min Score: 0.5073 Max Score: 0.3221 Artist: Luis Miguel Song: Cuando Calienta El Sol\n",
      "210- Avg Score: 0.2949 Min Score: 0.5048 Max Score: 0.0 Artist: Luis Miguel Song: Tengo Todo Excepto a Ti\n",
      "211- Avg Score: 0.4973 Min Score: 0.896 Max Score: 0.0899 Artist: Luis Miguel Song: Suave\n",
      "212- Avg Score: 0.5029 Min Score: 0.5521 Max Score: 0.3254 Artist: Luis Miguel Song: No Sé Tú\n",
      "213- Avg Score: 0.5047 Min Score: 0.5047 Max Score: 0.5047 Artist: Luis Miguel Song: Entrégate\n",
      "214- Avg Score: 0.5047 Min Score: 0.5047 Max Score: 0.5047 Artist: Luis Miguel Song: Fría Como El Viento\n",
      "215- Avg Score: 0.5047 Min Score: 0.5047 Max Score: 0.5047 Artist: Luis Miguel Song: Si Nos Dejan - En Vivo\n",
      "216- Avg Score: 0.5047 Min Score: 0.5047 Max Score: 0.5047 Artist: Luis Miguel Song: Un Hombre Busca a Una Mujer\n",
      "217- Avg Score: 0.4464 Min Score: 0.5371 Max Score: 0.0003 Artist: Luis Miguel Song: Sabor a Mi\n",
      "218- Avg Score: 0.5025 Min Score: 0.5195 Max Score: 0.3303 Artist: Luis Miguel Song: Sabes Una Cosa\n",
      "219- Avg Score: 0.4761 Min Score: 0.5123 Max Score: 0.0 Artist: Luis Miguel Song: La Chica Del Bikini Azul\n",
      "220- Avg Score: 0.4713 Min Score: 0.8504 Max Score: 1e-04 Artist: Luis Miguel Song: Palabra De Honor\n",
      "221- Avg Score: 0.5254 Min Score: 0.8125 Max Score: 0.0241 Artist: Luis Miguel Song: Te necesito\n",
      "222- Avg Score: 0.498 Min Score: 0.907 Max Score: 0.008 Artist: Luis Miguel Song: O Tu O Ninguna\n",
      "223- Avg Score: 0.5047 Min Score: 0.5047 Max Score: 0.5047 Artist: Luis Miguel Song: México En La Piel\n",
      "224- Avg Score: 0.5047 Min Score: 0.5047 Max Score: 0.5047 Artist: Luis Miguel Song: Será Que No Me Amas - En Vivo\n",
      "225- Avg Score: 0.4703 Min Score: 0.518 Max Score: 0.0004 Artist: Luis Miguel Song: Si tú te atreves\n",
      "226- Avg Score: 0.4143 Min Score: 0.9858 Max Score: 0.0004 Artist: Luis Miguel Song: Llamarada\n",
      "227- Avg Score: 0.4636 Min Score: 0.5495 Max Score: 0.0025 Artist: Luis Miguel Song: Inolvidable\n",
      "228- Avg Score: 0.5047 Min Score: 0.5047 Max Score: 0.5047 Artist: Luis Miguel Song: Échame a Mi La Culpa\n",
      "229- Avg Score: 0.4827 Min Score: 0.5247 Max Score: 0.0705 Artist: Luis Miguel Song: Amarte es un placer\n",
      "230- Avg Score: 0.479 Min Score: 0.5583 Max Score: 0.0337 Artist: Luis Miguel Song: La Barca\n",
      "231- Avg Score: 0.4826 Min Score: 0.5145 Max Score: 0.1815 Artist: Luis Miguel Song: No Me Platiques Más\n",
      "232- Avg Score: 0.5047 Min Score: 0.5047 Max Score: 0.5047 Artist: Luis Miguel Song: Y - En vivo\n",
      "233- Avg Score: 0.4848 Min Score: 0.5634 Max Score: 0.0 Artist: Luis Miguel Song: Usted\n",
      "234- Avg Score: 0.4297 Min Score: 0.6826 Max Score: 0.0226 Artist: Luis Miguel Song: Soy lo prohibido\n",
      "235- Avg Score: 0.4661 Min Score: 0.518 Max Score: 0.0055 Artist: Luis Miguel Song: No Me Puedes Dejar Asi\n",
      "236- Avg Score: 0.5047 Min Score: 0.5047 Max Score: 0.5047 Artist: Luis Miguel Song: La bikina - En vivo\n",
      "237- Avg Score: 0.4531 Min Score: 0.6123 Max Score: 0.0 Artist: Luis Miguel Song: El Reloj\n",
      "238- Avg Score: 0.4972 Min Score: 0.5309 Max Score: 0.2473 Artist: Luis Miguel Song: Decidete\n",
      "239- Avg Score: 0.5047 Min Score: 0.5047 Max Score: 0.5047 Artist: Luis Miguel Song: El Día Que Me Quieras\n",
      "240- Avg Score: 0.4707 Min Score: 0.9061 Max Score: 0.0121 Artist: Luis Miguel Song: La Gloria Eres Tu\n",
      "241- Avg Score: 0.504 Min Score: 0.5237 Max Score: 0.4592 Artist: Luis Miguel Song: Contigo En La Distancia\n",
      "242- Avg Score: 0.5047 Min Score: 0.5047 Max Score: 0.5047 Artist: Luis Miguel Song: Te Extraño\n",
      "243- Avg Score: 0.5285 Min Score: 0.9943 Max Score: 0.0214 Artist: Luis Miguel Song: Somos Novios\n",
      "244- Avg Score: 0.5008 Min Score: 0.6069 Max Score: 0.0624 Artist: Luis Miguel Song: Isabel\n",
      "245- Avg Score: 0.4214 Min Score: 0.5066 Max Score: 0.0 Artist: Luis Miguel Song: La Mentira\n",
      "246- Avg Score: 0.5047 Min Score: 0.5047 Max Score: 0.5047 Artist: Luis Miguel Song: De Qué Manera Te Olvido\n",
      "247- Avg Score: 0.5069 Min Score: 0.8235 Max Score: 0.3427 Artist: Luis Miguel Song: Motivos\n",
      "248- Avg Score: 0.5045 Min Score: 0.5073 Max Score: 0.4921 Artist: Luis Miguel Song: Besame Mucho\n",
      "249- Avg Score: 0.383 Min Score: 0.7282 Max Score: 0.0 Artist: Luis Miguel Song: Cielo Rojo\n",
      "250- Avg Score: 0.5002 Min Score: 0.5345 Max Score: 0.2912 Artist: Luis Miguel Song: Que Seas Feliz\n",
      "251- Avg Score: 0.5047 Min Score: 0.5047 Max Score: 0.5047 Artist: Luis Miguel Song: Sol, arena y mar\n",
      "252- Avg Score: 0.4569 Min Score: 0.5137 Max Score: 0.0014 Artist: Luis Miguel Song: La fiesta del mariachi\n",
      "253- Avg Score: 0.502 Min Score: 0.9953 Max Score: 0.0055 Artist: Bandalos Chinos Song: Vámonos de Viaje\n",
      "254- Avg Score: 0.427 Min Score: 0.5583 Max Score: 0.0005 Artist: Bandalos Chinos Song: Departamento (feat. Adan Jodorowsky)\n",
      "255- Avg Score: 0.4836 Min Score: 0.5257 Max Score: 0.001 Artist: Bandalos Chinos Song: Demasiado\n",
      "256- Avg Score: 0.4618 Min Score: 0.5135 Max Score: 0.0015 Artist: Bandalos Chinos Song: Tu Órbita\n",
      "257- Avg Score: 0.4886 Min Score: 0.6417 Max Score: 0.0163 Artist: Daniela Spalla Song: Bailando Lentos\n",
      "258- Avg Score: 0.4776 Min Score: 0.51 Max Score: 0.0 Artist: Bandalos Chinos Song: El Club de la Montaña\n",
      "259- Avg Score: 0.5047 Min Score: 0.5047 Max Score: 0.5047 Artist: Bandalos Chinos Song: Mi Manera De Ser\n",
      "260- Avg Score: 0.5047 Min Score: 0.5047 Max Score: 0.5047 Artist: Bandalos Chinos Song: Isla\n",
      "261- Avg Score: 0.4932 Min Score: 0.6698 Max Score: 0.0053 Artist: Bandalos Chinos Song: Súper V\n",
      "262- Avg Score: 0.528 Min Score: 0.9997 Max Score: 0.0 Artist: Bandalos Chinos Song: Tema de Susana\n",
      "263- Avg Score: 0.5047 Min Score: 0.5047 Max Score: 0.5047 Artist: Conociendo Rusia Song: Loco en el Desierto\n",
      "264- Avg Score: 0.4179 Min Score: 0.7697 Max Score: 0.0003 Artist: Conociendo Rusia Song: Quiero Que Me Llames\n",
      "265- Avg Score: 0.5047 Min Score: 0.5047 Max Score: 0.5047 Artist: Conociendo Rusia Song: Cosas para Decirte\n",
      "266- Avg Score: 0.5047 Min Score: 0.5047 Max Score: 0.5047 Artist: Conociendo Rusia Song: Puede Ser\n",
      "267- Avg Score: 0.5047 Min Score: 0.5047 Max Score: 0.5047 Artist: Conociendo Rusia Song: Juro\n",
      "268- Avg Score: 0.5047 Min Score: 0.5047 Max Score: 0.5047 Artist: Conociendo Rusia Song: Cabildo y Juramento\n",
      "269- Avg Score: 0.5047 Min Score: 0.5047 Max Score: 0.5047 Artist: Conociendo Rusia Song: Cicatriz\n",
      "270- Avg Score: 0.5047 Min Score: 0.5047 Max Score: 0.5047 Artist: Conociendo Rusia Song: La Mexicana\n",
      "271- Avg Score: 0.5047 Min Score: 0.5047 Max Score: 0.5047 Artist: Conociendo Rusia Song: En Todos los Lugares\n",
      "272- Avg Score: 0.5047 Min Score: 0.5047 Max Score: 0.5047 Artist: Conociendo Rusia Song: Bruja de Barracas\n",
      "273- Avg Score: 0.5047 Min Score: 0.5047 Max Score: 0.5047 Artist: CA7RIEL Song: OUKE\n",
      "274- Avg Score: 0.4155 Min Score: 0.5252 Max Score: 0.0 Artist: CA7RIEL Song: Cono hielo\n",
      "275- Avg Score: 0.5047 Min Score: 0.5047 Max Score: 0.5047 Artist: CA7RIEL Song: McFly\n",
      "276- Avg Score: 0.5047 Min Score: 0.5047 Max Score: 0.5047 Artist: Bizarrap Song: CA7RIEL: Bzrp Music Sessions, Vol.14\n",
      "277- Avg Score: 0.5047 Min Score: 0.5047 Max Score: 0.5047 Artist: CA7RIEL Song: A Mí No\n",
      "278- Avg Score: 0.5047 Min Score: 0.5047 Max Score: 0.5047 Artist: CA7RIEL Song: Ola Mina XD\n",
      "279- Avg Score: 0.5047 Min Score: 0.5047 Max Score: 0.5047 Artist: Paco Amoroso Song: Jala Jala\n",
      "280- Avg Score: 0.5047 Min Score: 0.5047 Max Score: 0.5047 Artist: CA7RIEL Song: Mi sombra\n",
      "281- Avg Score: 0.5047 Min Score: 0.5047 Max Score: 0.5047 Artist: CA7RIEL Song: No Aterrizó\n",
      "282- Avg Score: 0.5047 Min Score: 0.5047 Max Score: 0.5047 Artist: CA7RIEL Song: Vibra Alta\n",
      "283- Avg Score: 0.5047 Min Score: 0.5047 Max Score: 0.5047 Artist: La Delio Valdez Song: Inocente\n",
      "284- Avg Score: 0.5047 Min Score: 0.5047 Max Score: 0.5047 Artist: La Delio Valdez Song: Negra, Ron y Velas\n",
      "285- Avg Score: 0.5047 Min Score: 0.5047 Max Score: 0.5047 Artist: La Delio Valdez Song: La Cancioncita\n",
      "286- Avg Score: 0.5047 Min Score: 0.5047 Max Score: 0.5047 Artist: La Delio Valdez Song: Yo Me Llamo Cumbia\n",
      "287- Avg Score: 0.5047 Min Score: 0.5047 Max Score: 0.5047 Artist: Hipnotica Song: Así\n",
      "288- Avg Score: 0.5047 Min Score: 0.5047 Max Score: 0.5047 Artist: Hipnotica Song: Fluir\n",
      "289- Avg Score: 0.5047 Min Score: 0.5047 Max Score: 0.5047 Artist: Hipnotica Song: Presente Perfecto\n",
      "290- Avg Score: 0.5047 Min Score: 0.5047 Max Score: 0.5047 Artist: Hipnotica Song: Caída Libre\n",
      "291- Avg Score: 0.5047 Min Score: 0.5047 Max Score: 0.5047 Artist: Hipnotica Song: Canción para Despedirte\n",
      "292- Avg Score: 0.5047 Min Score: 0.5047 Max Score: 0.5047 Artist: Hipnotica Song: Aprendiste Mal\n",
      "293- Avg Score: 0.5047 Min Score: 0.5047 Max Score: 0.5047 Artist: Hipnotica Song: Hombre\n",
      "294- Avg Score: 0.5047 Min Score: 0.5047 Max Score: 0.5047 Artist: Hipnotica Song: Tormenta\n",
      "295- Avg Score: 0.5047 Min Score: 0.5047 Max Score: 0.5047 Artist: Hipnotica Song: 3 Intentos\n",
      "296- Avg Score: 0.5047 Min Score: 0.5047 Max Score: 0.5047 Artist: Hipnotica Song: Lo Que Dimos\n",
      "297- Avg Score: 0.5047 Min Score: 0.5047 Max Score: 0.5047 Artist: Francisca y Los Exploradores Song: El Destino\n",
      "298- Avg Score: 0.5047 Min Score: 0.5047 Max Score: 0.5047 Artist: Juan Ingaramo Song: Fuego y Pasión\n",
      "299- Avg Score: 0.4796 Min Score: 0.9986 Max Score: 0.0007 Artist: Juan Ingaramo Song: Romeo y Violeta\n",
      "300- Avg Score: 0.4237 Min Score: 0.9772 Max Score: 0.0002 Artist: Juan Ingaramo Song: Clave\n",
      "301- Avg Score: 0.5047 Min Score: 0.5047 Max Score: 0.5047 Artist: Juan Ingaramo Song: Cambias Mi Amor\n",
      "302- Avg Score: 0.3942 Min Score: 0.5106 Max Score: 1e-04 Artist: Juan Ingaramo Song: El Campeón\n",
      "303- Avg Score: 0.5047 Min Score: 0.5047 Max Score: 0.5047 Artist: Juan Ingaramo Song: Matemática\n",
      "304- Avg Score: 0.472 Min Score: 0.7223 Max Score: 0.0357 Artist: Rayos Láser Song: Mintiéndome\n",
      "305- Avg Score: 0.5047 Min Score: 0.5047 Max Score: 0.5047 Artist: Rayos Láser Song: Fascinación\n",
      "306- Avg Score: 0.5047 Min Score: 0.5047 Max Score: 0.5047 Artist: Rayos Láser Song: Disparo de Onda\n",
      "307- Avg Score: 0.5047 Min Score: 0.5047 Max Score: 0.5047 Artist: Rayos Láser Song: Me Persigue\n",
      "308- Avg Score: 0.5047 Min Score: 0.5047 Max Score: 0.5047 Artist: Rayos Láser Song: Lo Que Digo\n",
      "309- Avg Score: 0.5047 Min Score: 0.5047 Max Score: 0.5047 Artist: Rayos Láser Song: Llamame\n",
      "310- Avg Score: 0.5047 Min Score: 0.5047 Max Score: 0.5047 Artist: Rayos Láser Song: Un Regalo Tuyo\n",
      "311- Avg Score: 0.5047 Min Score: 0.5047 Max Score: 0.5047 Artist: Rayos Láser Song: Distinto\n",
      "312- Avg Score: 0.5047 Min Score: 0.5047 Max Score: 0.5047 Artist: Rayos Láser Song: La Noche del Sur\n",
      "313- Avg Score: 0.5047 Min Score: 0.5047 Max Score: 0.5047 Artist: Rayos Láser Song: Nuestro Amor\n",
      "314- Avg Score: 0.4183 Min Score: 0.7696 Max Score: 1e-04 Artist: Bizarrap Song: Louta: Bzrp Music Sessions, Vol. 20\n",
      "315- Avg Score: 0.5047 Min Score: 0.5047 Max Score: 0.5047 Artist: LOUTA Song: AYER TE VI (feat. Zoe Gotusso)\n",
      "316- Avg Score: 0.5047 Min Score: 0.5047 Max Score: 0.5047 Artist: LOUTA Song: DE ESTE LADO DE LA FOTO\n",
      "317- Avg Score: 0.5047 Min Score: 0.5047 Max Score: 0.5047 Artist: LOUTA Song: PALMERAS\n",
      "318- Avg Score: 0.5047 Min Score: 0.5047 Max Score: 0.5047 Artist: LOUTA Song: PUEDE SER\n",
      "319- Avg Score: 0.3605 Min Score: 0.5392 Max Score: 0.0 Artist: LOUTA Song: NO TE COMAS LA PELI\n",
      "320- Avg Score: 0.5047 Min Score: 0.5047 Max Score: 0.5047 Artist: LOUTA Song: TODOS CON EL CELU\n",
      "321- Avg Score: 0.5047 Min Score: 0.5047 Max Score: 0.5047 Artist: LOUTA Song: ABRIR TU CORAZON\n",
      "322- Avg Score: 0.5047 Min Score: 0.5047 Max Score: 0.5047 Artist: LOUTA Song: UACHO (feat. Marilina Bertoldi)\n",
      "323- Avg Score: 0.5047 Min Score: 0.5047 Max Score: 0.5047 Artist: LOUTA Song: ENCHASTRE\n",
      "324- Avg Score: 0.5047 Min Score: 0.5047 Max Score: 0.5047 Artist: LOUTA Song: SOMOS TAN INTENSOS\n",
      "325- Avg Score: 0.5047 Min Score: 0.5047 Max Score: 0.5047 Artist: LOUTA Song: CUENTITOS\n",
      "326- Avg Score: 0.5047 Min Score: 0.5047 Max Score: 0.5047 Artist: LOUTA Song: CHOCOLATE\n",
      "327- Avg Score: 0.5047 Min Score: 0.5047 Max Score: 0.5047 Artist: LOUTA Song: UN LUGAR ADENTRO\n",
      "328- Avg Score: 0.5047 Min Score: 0.5047 Max Score: 0.5047 Artist: El Kuelgue Song: Parque Acuático\n",
      "329- Avg Score: 0.5047 Min Score: 0.5047 Max Score: 0.5047 Artist: El Kuelgue Song: Bossa & People\n",
      "330- Avg Score: 0.5047 Min Score: 0.5047 Max Score: 0.5047 Artist: El Kuelgue Song: Circunvalación\n",
      "331- Avg Score: 0.5047 Min Score: 0.5047 Max Score: 0.5047 Artist: El Kuelgue Song: Chiste\n",
      "332- Avg Score: 0.5047 Min Score: 0.5047 Max Score: 0.5047 Artist: El Kuelgue Song: En Avenidas\n",
      "333- Avg Score: 0.4833 Min Score: 0.8021 Max Score: 0.1611 Artist: El Mató a un Policía Motorizado Song: El Tesoro\n",
      "334- Avg Score: 0.5047 Min Score: 0.5047 Max Score: 0.5047 Artist: El Mató a un Policía Motorizado Song: La Noche Eterna\n",
      "335- Avg Score: 0.5047 Min Score: 0.5047 Max Score: 0.5047 Artist: El Mató a un Policía Motorizado Song: Más o Menos Bien\n",
      "336- Avg Score: 0.5047 Min Score: 0.5047 Max Score: 0.5047 Artist: El Mató a un Policía Motorizado Song: El Tesoro - Acústico\n",
      "337- Avg Score: 0.4362 Min Score: 0.6733 Max Score: 0.004 Artist: El Mató a un Policía Motorizado Song: El Mundo Extraño\n",
      "338- Avg Score: 0.5047 Min Score: 0.5047 Max Score: 0.5047 Artist: El Mató a un Policía Motorizado Song: Fuego\n",
      "339- Avg Score: 0.4436 Min Score: 0.5049 Max Score: 0.0104 Artist: El Mató a un Policía Motorizado Song: Ahora Imagino Cosas\n",
      "340- Avg Score: 0.5047 Min Score: 0.5047 Max Score: 0.5047 Artist: El Mató a un Policía Motorizado Song: Chica de Oro\n",
      "341- Avg Score: 0.5047 Min Score: 0.5047 Max Score: 0.5047 Artist: El Mató a un Policía Motorizado Song: Destruccion\n",
      "342- Avg Score: 0.5047 Min Score: 0.5047 Max Score: 0.5047 Artist: El Mató a un Policía Motorizado Song: La Casa Fantasmal\n",
      "343- Avg Score: 0.5047 Min Score: 0.5047 Max Score: 0.5047 Artist: NAFTA Song: La Carta\n",
      "344- Avg Score: 0.5047 Min Score: 0.5047 Max Score: 0.5047 Artist: NAFTA Song: Potra\n",
      "345- Avg Score: 0.5047 Min Score: 0.5047 Max Score: 0.5047 Artist: NAFTA Song: Veni Mirá\n",
      "346- Avg Score: 0.5047 Min Score: 0.5047 Max Score: 0.5047 Artist: NAFTA Song: Vos No\n",
      "347- Avg Score: 0.5047 Min Score: 0.5047 Max Score: 0.5047 Artist: NAFTA Song: Unos Días Más\n",
      "348- Avg Score: 0.5047 Min Score: 0.5047 Max Score: 0.5047 Artist: NAFTA Song: Menos Mal\n",
      "349- Avg Score: 0.5047 Min Score: 0.5047 Max Score: 0.5047 Artist: NAFTA Song: El Enrosque\n",
      "350- Avg Score: 0.5047 Min Score: 0.5047 Max Score: 0.5047 Artist: NAFTA Song: Ya Es Tarde\n",
      "351- Avg Score: 0.5047 Min Score: 0.5047 Max Score: 0.5047 Artist: NAFTA Song: Sin un Peso\n",
      "352- Avg Score: 0.5047 Min Score: 0.5047 Max Score: 0.5047 Artist: NAFTA Song: La Espera\n",
      "353- Avg Score: 0.5047 Min Score: 0.5047 Max Score: 0.5047 Artist: CELLI Song: Sincero\n",
      "354- Avg Score: 0.5047 Min Score: 0.5047 Max Score: 0.5047 Artist: CELLI Song: Gracias x Nada\n",
      "355- Avg Score: 0.5047 Min Score: 0.5047 Max Score: 0.5047 Artist: Valdes Song: Bailar Sola (feat. Florencia Lucena, Nahuel Barbero & Hernan Ortiz)\n",
      "356- Avg Score: 0.5047 Min Score: 0.5047 Max Score: 0.5047 Artist: Valdes Song: ALGO MÁS.\n",
      "357- Avg Score: 0.5047 Min Score: 0.5047 Max Score: 0.5047 Artist: Valdes Song: Las Cosas\n",
      "358- Avg Score: 0.5047 Min Score: 0.5047 Max Score: 0.5047 Artist: Valdes Song: Callar\n",
      "359- Avg Score: 0.5047 Min Score: 0.5047 Max Score: 0.5047 Artist: Valdes Song: VENIR A LA CIUDAD.\n",
      "360- Avg Score: 0.5047 Min Score: 0.5047 Max Score: 0.5047 Artist: Valdes Song: TODO LO QUE HICIMOS.\n",
      "361- Avg Score: 0.5047 Min Score: 0.5047 Max Score: 0.5047 Artist: Gativideo Song: Bruce Willis\n",
      "362- Avg Score: 0.5047 Min Score: 0.5047 Max Score: 0.5047 Artist: Gativideo Song: Flota Flota\n",
      "363- Avg Score: 0.5047 Min Score: 0.5047 Max Score: 0.5047 Artist: Gativideo Song: Disco Majul\n",
      "364- Avg Score: 0.5047 Min Score: 0.5047 Max Score: 0.5047 Artist: Gativideo Song: Fantástico Bailable\n",
      "365- Avg Score: 0.5047 Min Score: 0.5047 Max Score: 0.5047 Artist: Gativideo Song: Efecto Mandela\n",
      "366- Avg Score: 0.5047 Min Score: 0.5047 Max Score: 0.5047 Artist: Perras on the beach Song: Municipálida\n",
      "367- Avg Score: 0.5047 Min Score: 0.5047 Max Score: 0.5047 Artist: Perras on the beach Song: Ramona\n",
      "368- Avg Score: 0.5047 Min Score: 0.5047 Max Score: 0.5047 Artist: Perras on the beach Song: Puchos\n",
      "369- Avg Score: 0.5047 Min Score: 0.5047 Max Score: 0.5047 Artist: Perras on the beach Song: Un Montón\n",
      "370- Avg Score: 0.5047 Min Score: 0.5047 Max Score: 0.5047 Artist: Perras on the beach Song: Turco X\n",
      "371- Avg Score: 0.5047 Min Score: 0.5047 Max Score: 0.5047 Artist: Perras on the beach Song: Tus Pecas - Bonus Track\n",
      "372- Avg Score: 0.5047 Min Score: 0.5047 Max Score: 0.5047 Artist: Usted Señalemelo Song: Agua Marfil\n",
      "373- Avg Score: 0.5047 Min Score: 0.5047 Max Score: 0.5047 Artist: Usted Señalemelo Song: Big Bang\n",
      "374- Avg Score: 0.5047 Min Score: 0.5047 Max Score: 0.5047 Artist: Usted Señalemelo Song: Pana\n",
      "375- Avg Score: 0.5047 Min Score: 0.5047 Max Score: 0.5047 Artist: Usted Señalemelo Song: Aguetas\n",
      "376- Avg Score: 0.5047 Min Score: 0.5047 Max Score: 0.5047 Artist: Usted Señalemelo Song: Mañana\n",
      "377- Avg Score: 0.5047 Min Score: 0.5047 Max Score: 0.5047 Artist: Usted Señalemelo Song: Pana\n",
      "378- Avg Score: 0.5047 Min Score: 0.5047 Max Score: 0.5047 Artist: Usted Señalemelo Song: Laser 420\n",
      "379- Avg Score: 0.5047 Min Score: 0.5047 Max Score: 0.5047 Artist: Usted Señalemelo Song: Pastizal\n",
      "380- Avg Score: 0.5047 Min Score: 0.5047 Max Score: 0.5047 Artist: LOUTA Song: Sigo Sin Entenderte\n",
      "381- Avg Score: 0.5047 Min Score: 0.5047 Max Score: 0.5047 Artist: Jósean Log Song: Chachachá\n",
      "382- Avg Score: 0.5047 Min Score: 0.5047 Max Score: 0.5047 Artist: Jósean Log Song: Beso\n",
      "383- Avg Score: 0.5047 Min Score: 0.5047 Max Score: 0.5047 Artist: Jósean Log Song: Combustión\n",
      "384- Avg Score: 0.5047 Min Score: 0.5047 Max Score: 0.5047 Artist: Jósean Log Song: Jacaranda\n",
      "385- Avg Score: 0.5047 Min Score: 0.5047 Max Score: 0.5047 Artist: Árbol Song: Trenes, Camiones Y Tractores\n",
      "386- Avg Score: 0.5047 Min Score: 0.5047 Max Score: 0.5047 Artist: Árbol Song: Suerte!\n",
      "387- Avg Score: 0.4586 Min Score: 0.6965 Max Score: 0.0 Artist: Árbol Song: Chikanorexika\n",
      "388- Avg Score: 0.429 Min Score: 0.7082 Max Score: 0.0 Artist: Árbol Song: Prejuicios\n",
      "389- Avg Score: 0.5047 Min Score: 0.5047 Max Score: 0.5047 Artist: Árbol Song: Pequeños Sueños\n",
      "390- Avg Score: 0.5047 Min Score: 0.5047 Max Score: 0.5047 Artist: Árbol Song: Soy La Zoila\n",
      "391- Avg Score: 0.4844 Min Score: 0.6265 Max Score: 0.026 Artist: Árbol Song: Canciones\n",
      "392- Avg Score: 0.5047 Min Score: 0.5047 Max Score: 0.5047 Artist: Árbol Song: Lloro\n",
      "393- Avg Score: 0.5047 Min Score: 0.5047 Max Score: 0.5047 Artist: Árbol Song: Mariposas\n",
      "394- Avg Score: 0.5047 Min Score: 0.5047 Max Score: 0.5047 Artist: Árbol Song: Comida Chatarra\n",
      "395- Avg Score: 0.5047 Min Score: 0.5047 Max Score: 0.5047 Artist: Árbol Song: El Fantasma\n",
      "396- Avg Score: 0.5047 Min Score: 0.5047 Max Score: 0.5047 Artist: Árbol Song: Jijiji\n",
      "397- Avg Score: 0.5047 Min Score: 0.5047 Max Score: 0.5047 Artist: Árbol Song: Soy Vos\n",
      "398- Avg Score: 0.5047 Min Score: 0.5047 Max Score: 0.5047 Artist: Árbol Song: Revoloteando\n",
      "399- Avg Score: 0.5047 Min Score: 0.5047 Max Score: 0.5047 Artist: Árbol Song: De Arriba, De Abajo\n",
      "400- Avg Score: 0.5047 Min Score: 0.5047 Max Score: 0.5047 Artist: Árbol Song: Cosa Cuosa\n",
      "401- Avg Score: 0.5047 Min Score: 0.5047 Max Score: 0.5047 Artist: Árbol Song: Enes\n",
      "402- Avg Score: 0.5047 Min Score: 0.5047 Max Score: 0.5047 Artist: Árbol Song: Vomitando Flores\n",
      "403- Avg Score: 0.5047 Min Score: 0.5047 Max Score: 0.5047 Artist: Árbol Song: Ya Lo Sabemos\n",
      "404- Avg Score: 0.5047 Min Score: 0.5047 Max Score: 0.5047 Artist: Eruca Sativa Song: Intropía\n",
      "405- Avg Score: 0.5047 Min Score: 0.5047 Max Score: 0.5047 Artist: Eruca Sativa Song: Abrepuertas\n",
      "406- Avg Score: 0.5047 Min Score: 0.5047 Max Score: 0.5047 Artist: Eruca Sativa Song: Armas Gemelas\n",
      "407- Avg Score: 0.5047 Min Score: 0.5047 Max Score: 0.5047 Artist: Eruca Sativa Song: Confundiste\n",
      "408- Avg Score: 0.4581 Min Score: 0.7144 Max Score: 0.0473 Artist: Eruca Sativa Song: Justo al Partir\n",
      "409- Avg Score: 0.5208 Min Score: 0.9032 Max Score: 0.5047 Artist: Eruca Sativa Song: Inercia\n",
      "410- Avg Score: 0.447 Min Score: 0.6751 Max Score: 0.0078 Artist: Eruca Sativa Song: Somos Polvo\n",
      "411- Avg Score: 0.4847 Min Score: 0.5199 Max Score: 0.0013 Artist: Eruca Sativa Song: Japón\n",
      "412- Avg Score: 0.5364 Min Score: 0.9171 Max Score: 0.4083 Artist: Eruca Sativa Song: Sin la Red\n",
      "413- Avg Score: 0.4641 Min Score: 0.7108 Max Score: 0.0 Artist: Eruca Sativa Song: Tarará\n",
      "414- Avg Score: 0.4571 Min Score: 0.5083 Max Score: 0.0045 Artist: Eruca Sativa Song: Nada Salvaje\n",
      "415- Avg Score: 0.4782 Min Score: 1.0 Max Score: 1e-04 Artist: Eruca Sativa Song: Haku Malvin: El Visitante\n",
      "416- Avg Score: 0.4588 Min Score: 0.5116 Max Score: 0.0372 Artist: Eruca Sativa Song: Pulso\n",
      "417- Avg Score: 0.4116 Min Score: 0.4915 Max Score: 0.3316 Artist: Eruca Sativa Song: Outropía\n",
      "418- Avg Score: 0.4736 Min Score: 0.5902 Max Score: 1e-04 Artist: Eruca Sativa Song: Fuera o Más Allá\n",
      "419- Avg Score: 0.5429 Min Score: 0.9343 Max Score: 0.0142 Artist: Eruca Sativa Song: Eco\n",
      "420- Avg Score: 0.5047 Min Score: 0.9608 Max Score: 0.0054 Artist: Eruca Sativa Song: Desdobla\n",
      "421- Avg Score: 0.4834 Min Score: 0.5047 Max Score: 0.1846 Artist: Eruca Sativa Song: Queloquepasa\n",
      "422- Avg Score: 0.3924 Min Score: 0.5053 Max Score: 0.0 Artist: Eruca Sativa Song: El Genio de la Nada\n",
      "423- Avg Score: 0.4624 Min Score: 0.5048 Max Score: 0.0055 Artist: Eruca Sativa Song: Tanto Tiempo\n",
      "424- Avg Score: 0.4195 Min Score: 0.5717 Max Score: 0.0003 Artist: Eruca Sativa Song: Guitarras de Cartón\n",
      "425- Avg Score: 0.4684 Min Score: 0.8004 Max Score: 0.0007 Artist: Eruca Sativa Song: Real Ficción\n",
      "426- Avg Score: 0.4584 Min Score: 0.6355 Max Score: 0.0025 Artist: Eruca Sativa Song: Calma\n",
      "427- Avg Score: 0.4187 Min Score: 0.5583 Max Score: 0.0048 Artist: Eruca Sativa Song: Amor Ausente\n",
      "428- Avg Score: 0.4351 Min Score: 0.5174 Max Score: 0.005 Artist: Eruca Sativa Song: Antes Que Vuelva a Caer\n",
      "429- Avg Score: 0.4912 Min Score: 0.9582 Max Score: 1e-04 Artist: Eruca Sativa Song: Como Vas a Hacer\n",
      "430- Avg Score: 0.4811 Min Score: 0.7783 Max Score: 0.0012 Artist: Eruca Sativa Song: Agujas\n",
      "431- Avg Score: 0.4759 Min Score: 0.9291 Max Score: 0.0036 Artist: Eruca Sativa Song: EL Balcón\n",
      "432- Avg Score: 0.5047 Min Score: 0.5047 Max Score: 0.5047 Artist: Eruca Sativa Song: Umbral\n",
      "433- Avg Score: 0.3998 Min Score: 0.5288 Max Score: 0.0 Artist: Eruca Sativa Song: Magoo\n",
      "434- Avg Score: 0.4649 Min Score: 0.8219 Max Score: 0.0 Artist: Eruca Sativa Song: Desatalo\n",
      "435- Avg Score: 0.4597 Min Score: 0.5051 Max Score: 0.0009 Artist: Eruca Sativa Song: Frío Cemento\n",
      "436- Avg Score: 0.4647 Min Score: 0.5148 Max Score: 0.0058 Artist: Eruca Sativa Song: Para Que Sigamos siendo\n",
      "437- Avg Score: 0.5047 Min Score: 0.5047 Max Score: 0.5047 Artist: Fly Fly Caroline Song: Síntomas\n",
      "438- Avg Score: 0.5047 Min Score: 0.5047 Max Score: 0.5047 Artist: Fly Fly Caroline Song: La Noche\n",
      "439- Avg Score: 0.5047 Min Score: 0.5047 Max Score: 0.5047 Artist: Fly Fly Caroline Song: Mirada Infinita\n",
      "440- Avg Score: 0.5047 Min Score: 0.5047 Max Score: 0.5047 Artist: Fly Fly Caroline Song: La Soledad\n",
      "441- Avg Score: 0.5047 Min Score: 0.5047 Max Score: 0.5047 Artist: Fly Fly Caroline Song: Acuarela\n",
      "442- Avg Score: 0.5047 Min Score: 0.5047 Max Score: 0.5047 Artist: Fly Fly Caroline Song: Las Ruinas\n",
      "443- Avg Score: 0.5047 Min Score: 0.5047 Max Score: 0.5047 Artist: Fly Fly Caroline Song: Tantas Veces\n",
      "444- Avg Score: 0.5047 Min Score: 0.5047 Max Score: 0.5047 Artist: Fly Fly Caroline Song: Exagero\n",
      "445- Avg Score: 0.5047 Min Score: 0.5047 Max Score: 0.5047 Artist: Fly Fly Caroline Song: Vacío\n",
      "446- Avg Score: 0.5047 Min Score: 0.5047 Max Score: 0.5047 Artist: Fly Fly Caroline Song: Lado B\n",
      "447- Avg Score: 0.5047 Min Score: 0.5047 Max Score: 0.5047 Artist: Marilina Bertoldi Song: Fumar de día\n",
      "448- Avg Score: 0.5047 Min Score: 0.5047 Max Score: 0.5047 Artist: Marilina Bertoldi Song: Racat\n",
      "449- Avg Score: 0.4606 Min Score: 0.8137 Max Score: 0.0013 Artist: Hocico Song: Odio en el Alma\n",
      "450- Avg Score: 0.4938 Min Score: 0.5073 Max Score: 0.0313 Artist: Hermetica Song: La Revancha de America\n",
      "451- Avg Score: 0.4843 Min Score: 0.9291 Max Score: 0.0008 Artist: Hermetica Song: Memoria de Siglos\n",
      "452- Avg Score: 0.4449 Min Score: 0.6705 Max Score: 0.0 Artist: Hermetica Song: Prediccion\n",
      "453- Avg Score: 0.4497 Min Score: 0.9989 Max Score: 0.0 Artist: Hermetica Song: Atravesando Todo Limite\n",
      "454- Avg Score: 0.5047 Min Score: 0.5047 Max Score: 0.5047 Artist: Hermetica Song: Horizonte Perdido\n",
      "455- Avg Score: 0.4038 Min Score: 0.5585 Max Score: 0.0 Artist: Hermetica Song: Vientos de Poder\n",
      "456- Avg Score: 0.4727 Min Score: 0.9103 Max Score: 0.0065 Artist: Hermetica Song: Del Camionero\n",
      "457- Avg Score: 0.5047 Min Score: 0.5047 Max Score: 0.5047 Artist: Hermetica Song: Gil Trabajador\n",
      "458- Avg Score: 0.4831 Min Score: 0.825 Max Score: 0.0023 Artist: Hermetica Song: Evitando el Ablande\n",
      "459- Avg Score: 0.481 Min Score: 0.9747 Max Score: 0.0019 Artist: Hermetica Song: En las Calles de Liniers\n",
      "460- Avg Score: 0.5047 Min Score: 0.5047 Max Score: 0.5047 Artist: Hermetica Song: De Pismanta a Baucacheta\n",
      "461- Avg Score: 0.4569 Min Score: 0.6934 Max Score: 1e-04 Artist: Hermetica Song: Cráneo Candente\n",
      "462- Avg Score: 0.4758 Min Score: 0.5091 Max Score: 0.0134 Artist: Hermetica Song: Masa Anestesiada\n",
      "463- Avg Score: 0.4887 Min Score: 0.5048 Max Score: 0.0898 Artist: Hermetica Song: Desterrando a los Oscurantistas\n",
      "464- Avg Score: 0.4854 Min Score: 0.8848 Max Score: 0.0008 Artist: Hermetica Song: Víctimas del Vaciamiento\n",
      "465- Avg Score: 0.4726 Min Score: 0.5347 Max Score: 0.0855 Artist: Hermetica Song: Tú Eres Su Seguridad\n",
      "466- Avg Score: 0.4614 Min Score: 0.5248 Max Score: 0.0 Artist: Hermetica Song: Sepulcro Civil\n",
      "467- Avg Score: 0.4615 Min Score: 0.51 Max Score: 0.0003 Artist: Hermetica Song: Vida Impersonal\n",
      "468- Avg Score: 0.4814 Min Score: 0.9985 Max Score: 0.0006 Artist: Hermetica Song: Desde el Oeste\n",
      "469- Avg Score: 0.4185 Min Score: 0.5109 Max Score: 0.0 Artist: Hermetica Song: Para Que No Caigas\n",
      "470- Avg Score: 0.4549 Min Score: 0.5161 Max Score: 0.0027 Artist: Hermetica Song: Deja de Robar\n",
      "471- Avg Score: 0.5047 Min Score: 0.5047 Max Score: 0.5047 Artist: Hermetica Song: Yo No Lo Haré\n",
      "472- Avg Score: 0.4133 Min Score: 0.5373 Max Score: 0.0061 Artist: Hermetica Song: Vencedores Vencidos\n",
      "473- Avg Score: 0.4252 Min Score: 0.8125 Max Score: 0.0002 Artist: Hermetica Song: Ideando la Fuga\n",
      "474- Avg Score: 0.4868 Min Score: 0.7099 Max Score: 0.0 Artist: Hermetica Song: Cambalache\n",
      "475- Avg Score: 0.4586 Min Score: 0.589 Max Score: 0.0013 Artist: Hermetica Song: Destrucción\n",
      "476- Avg Score: 0.8348 Min Score: 0.9996 Max Score: 0.5057 Artist: Hermetica Song: No Class\n",
      "477- Avg Score: 0.5047 Min Score: 0.5047 Max Score: 0.5047 Artist: Hermetica Song: Porque Hoy Nací\n",
      "478- Avg Score: 0.5047 Min Score: 0.5047 Max Score: 0.5047 Artist: Alonso y Bernardo Song: Sigue Feliz\n",
      "479- Avg Score: 0.4222 Min Score: 0.5145 Max Score: 0.0008 Artist: Sandro Song: Trigal\n",
      "480- Avg Score: 0.5047 Min Score: 0.5047 Max Score: 0.5047 Artist: Los Hijos del sol Song: Cariñito\n",
      "481- Avg Score: 0.5047 Min Score: 0.5047 Max Score: 0.5047 Artist: Arco Iris Song: Quiero Llegar\n",
      "482- Avg Score: 0.5047 Min Score: 0.5047 Max Score: 0.5047 Artist: Arco Iris Song: Hoy Te Miré\n",
      "483- Avg Score: 0.5047 Min Score: 0.5047 Max Score: 0.5047 Artist: Arco Iris Song: Camino\n",
      "484- Avg Score: 0.5047 Min Score: 0.5047 Max Score: 0.5047 Artist: Arco Iris Song: Coral\n",
      "485- Avg Score: 0.5047 Min Score: 0.5047 Max Score: 0.5047 Artist: Arco Iris Song: Te Quiero, Te Espero\n",
      "486- Avg Score: 0.5047 Min Score: 0.5047 Max Score: 0.5047 Artist: Arco Iris Song: Luli\n",
      "487- Avg Score: 0.5047 Min Score: 0.5047 Max Score: 0.5047 Artist: Arco Iris Song: Cancion de Cuna para el Niño Astronauta\n",
      "488- Avg Score: 0.5047 Min Score: 0.5047 Max Score: 0.5047 Artist: Arco Iris Song: Y una Flor (El Pastito)\n",
      "489- Avg Score: 0.5047 Min Score: 0.5047 Max Score: 0.5047 Artist: Arco Iris Song: Tiempo\n",
      "490- Avg Score: 0.5047 Min Score: 0.5047 Max Score: 0.5047 Artist: Arco Iris Song: Y Ahora Soy\n",
      "491- Avg Score: 0.4949 Min Score: 0.7275 Max Score: 0.0555 Artist: Carlos Gardel Song: El Día Que Me Quieras\n",
      "492- Avg Score: 0.5047 Min Score: 0.5047 Max Score: 0.5047 Artist: Julio Sosa Song: Guapo Y Varon\n",
      "493- Avg Score: 0.5047 Min Score: 0.5047 Max Score: 0.5047 Artist: Juan Luis Guerra 4.40 Song: Las Avispas\n",
      "494- Avg Score: 0.4301 Min Score: 0.5078 Max Score: 0.0211 Artist: Arca Song: Piel\n",
      "495- Avg Score: 0.4581 Min Score: 0.5104 Max Score: 0.0 Artist: Nicolas Jaar Song: No\n",
      "496- Avg Score: 0.4973 Min Score: 0.9713 Max Score: 0.0 Artist: Babasónicos Song: Microdancing\n",
      "497- Avg Score: 0.4866 Min Score: 0.9949 Max Score: 0.0019 Artist: Molotov Song: Frijolero\n",
      "498- Avg Score: 0.5047 Min Score: 0.5047 Max Score: 0.5047 Artist: Amboé Song: Sobredosis de Chamamé\n",
      "499- Avg Score: 0.5047 Min Score: 0.5047 Max Score: 0.5047 Artist: Cadena Perpetua Song: De Más\n",
      "500- Avg Score: 0.5047 Min Score: 0.5047 Max Score: 0.5047 Artist: 2 minutos Song: Aeropuerto\n",
      "501- Avg Score: 0.5047 Min Score: 0.5047 Max Score: 0.5047 Artist: Attaque 77 Song: Setentista\n",
      "502- Avg Score: 0.4126 Min Score: 0.7172 Max Score: 0.0004 Artist: Cadena Perpetua Song: Algo Personal\n",
      "503- Avg Score: 0.5077 Min Score: 0.9337 Max Score: 0.2899 Artist: 2 minutos Song: Tema De Adrian\n",
      "504- Avg Score: 0.5047 Min Score: 0.5047 Max Score: 0.5047 Artist: Ricardo Iorio Song: Justo Que Te Vas\n",
      "505- Avg Score: 0.5047 Min Score: 0.5047 Max Score: 0.5047 Artist: Massacre Song: Tanto amor\n",
      "506- Avg Score: 0.5047 Min Score: 0.5047 Max Score: 0.5047 Artist: Los Brujos Song: Kanishka\n",
      "507- Avg Score: 0.4314 Min Score: 0.5292 Max Score: 0.0 Artist: Carajo Song: Sacate la Mierda\n",
      "508- Avg Score: 0.5047 Min Score: 0.5047 Max Score: 0.5047 Artist: Flema Song: Si Yo Soy Asi\n",
      "509- Avg Score: 0.4064 Min Score: 0.9824 Max Score: 0.0002 Artist: Bulldog Song: Fatal Destino\n",
      "510- Avg Score: 0.4675 Min Score: 0.5263 Max Score: 0.0022 Artist: 2 minutos Song: Amor Suicida\n",
      "511- Avg Score: 0.4529 Min Score: 0.5359 Max Score: 0.0094 Artist: Cadena Perpetua Song: Desde El Infierno\n",
      "512- Avg Score: 0.5047 Min Score: 0.5047 Max Score: 0.5047 Artist: Expulsados Song: ¿Quién Soñó En Tu Almohada?\n",
      "513- Avg Score: 0.5047 Min Score: 0.5047 Max Score: 0.5047 Artist: Sumo Song: Mejor No Hablar de Ciertas Cosas\n",
      "514- Avg Score: 0.4462 Min Score: 0.8164 Max Score: 0.0007 Artist: Divididos Song: Nene de Antes\n",
      "515- Avg Score: 0.5047 Min Score: 0.5047 Max Score: 0.5047 Artist: Catupecu Machu Song: Para Vestirte Hoy\n",
      "516- Avg Score: 0.5047 Min Score: 0.5047 Max Score: 0.5047 Artist: Massacre Song: La Octava Maravilla\n",
      "517- Avg Score: 0.5047 Min Score: 0.5047 Max Score: 0.5047 Artist: Juana La Loca Song: Vida Modelo\n",
      "518- Avg Score: 0.5047 Min Score: 0.5047 Max Score: 0.5047 Artist: Catupecu Machu Song: Plan B: Anhelo De Satisfacción\n",
      "519- Avg Score: 0.5047 Min Score: 0.5047 Max Score: 0.5047 Artist: Cielo Razzo Song: Ventana\n",
      "520- Avg Score: 0.5047 Min Score: 0.5047 Max Score: 0.5047 Artist: Massacre Song: La Reina de Marte\n",
      "521- Avg Score: 0.382 Min Score: 0.9876 Max Score: 0.0 Artist: Los Brujos Song: La Bomba\n",
      "522- Avg Score: 0.5047 Min Score: 0.5047 Max Score: 0.5047 Artist: Julio y Agosto Song: Fantasmas\n",
      "523- Avg Score: 0.5047 Min Score: 0.5047 Max Score: 0.5047 Artist: Bersuit Vergarabat Song: Toco Y Me Voy\n",
      "524- Avg Score: 0.5047 Min Score: 0.5047 Max Score: 0.5047 Artist: Sobre Tus Cenizas Song: Cautivo\n",
      "525- Avg Score: 0.5047 Min Score: 0.5047 Max Score: 0.5047 Artist: Los Kjarkas Song: T'una Papita\n",
      "526- Avg Score: 0.5047 Min Score: 0.5047 Max Score: 0.5047 Artist: Incas de Oro Song: Celia\n",
      "527- Avg Score: 0.5047 Min Score: 0.5047 Max Score: 0.5047 Artist: Paquita La Del Barrio Song: Resultó Vegetariano\n",
      "528- Avg Score: 0.5047 Min Score: 0.5047 Max Score: 0.5047 Artist: Paquita La Del Barrio Song: Tu Última Parada\n",
      "529- Avg Score: 0.5047 Min Score: 0.5047 Max Score: 0.5047 Artist: Paquita La Del Barrio Song: Compadre Agarra la Onda\n",
      "530- Avg Score: 0.5047 Min Score: 0.5047 Max Score: 0.5047 Artist: Paquita La Del Barrio Song: Sigue Tu Vida\n",
      "531- Avg Score: 0.3929 Min Score: 0.8289 Max Score: 0.0 Artist: Café Tacvba Song: Eres\n",
      "532- Avg Score: 0.4672 Min Score: 0.8357 Max Score: 1e-04 Artist: Café Tacvba Song: La ingrata\n",
      "533- Avg Score: 0.4251 Min Score: 0.5106 Max Score: 0.0112 Artist: Julieta Venegas Song: Andar Conmigo\n",
      "534- Avg Score: 0.4855 Min Score: 0.5499 Max Score: 0.0182 Artist: Julieta Venegas Song: Limón y Sal\n",
      "535- Avg Score: 0.4848 Min Score: 0.5545 Max Score: 0.0778 Artist: Julieta Venegas Song: Me Voy\n",
      "536- Avg Score: 0.4627 Min Score: 0.7073 Max Score: 0.0057 Artist: Julieta Venegas Song: Lento\n",
      "537- Avg Score: 0.5011 Min Score: 0.9313 Max Score: 0.0 Artist: Chayanne Song: Torero\n",
      "538- Avg Score: 0.4906 Min Score: 0.9817 Max Score: 0.0 Artist: Vicente Fernández Song: Hermoso Cariño\n",
      "539- Avg Score: 0.4738 Min Score: 0.5054 Max Score: 0.0006 Artist: Vicente Fernández Song: Aca Entre Nos\n",
      "540- Avg Score: 0.5297 Min Score: 0.8629 Max Score: 1e-04 Artist: Vicente Fernández Song: Volver Volver\n",
      "541- Avg Score: 0.4602 Min Score: 0.9836 Max Score: 0.0003 Artist: Vicente Fernández Song: La Diferencia\n",
      "542- Avg Score: 0.4245 Min Score: 0.6457 Max Score: 0.0 Artist: Vicente Fernández Song: Mujeres Divinas\n",
      "543- Avg Score: 0.3701 Min Score: 0.5194 Max Score: 0.0 Artist: La Oreja de Van Gogh Song: Puedes Contar Conmigo\n",
      "544- Avg Score: 0.4083 Min Score: 0.6758 Max Score: 0.0093 Artist: La Oreja de Van Gogh Song: 20 de Enero\n",
      "545- Avg Score: 0.4507 Min Score: 0.9323 Max Score: 0.0 Artist: La Oreja de Van Gogh Song: Rosas\n",
      "546- Avg Score: 0.4689 Min Score: 0.9309 Max Score: 0.0 Artist: La Oreja de Van Gogh Song: Deseos de Cosas Imposibles\n",
      "547- Avg Score: 0.4969 Min Score: 0.9582 Max Score: 0.0036 Artist: La Oreja de Van Gogh Song: Geografía\n",
      "548- Avg Score: 0.4134 Min Score: 0.7482 Max Score: 0.0011 Artist: La Oreja de Van Gogh Song: Un Mundo Mejor\n",
      "549- Avg Score: 0.4625 Min Score: 0.5272 Max Score: 0.0007 Artist: La Oreja de Van Gogh Song: Tu y Yo\n",
      "550- Avg Score: 0.4878 Min Score: 0.9318 Max Score: 0.0094 Artist: La Oreja de Van Gogh Song: La Esperanza Debida\n",
      "551- Avg Score: 0.4282 Min Score: 0.7523 Max Score: 1e-04 Artist: La Oreja de Van Gogh Song: Vestido Azul\n",
      "552- Avg Score: 0.438 Min Score: 0.7696 Max Score: 0.0006 Artist: La Oreja de Van Gogh Song: Adios\n",
      "553- Avg Score: 0.4464 Min Score: 0.5111 Max Score: 0.0 Artist: La Oreja de Van Gogh Song: Perdóname\n",
      "554- Avg Score: 0.4659 Min Score: 0.964 Max Score: 0.0 Artist: La Oreja de Van Gogh Song: La Paz de Tus Ojos\n",
      "555- Avg Score: 0.3812 Min Score: 0.6426 Max Score: 0.0 Artist: La Oreja de Van Gogh Song: Nadie Como Tú\n",
      "556- Avg Score: 0.5047 Min Score: 0.5047 Max Score: 0.5047 Artist: La Oreja de Van Gogh Song: Historia de un Sueño\n",
      "557- Avg Score: 0.5047 Min Score: 0.5047 Max Score: 0.5047 Artist: La Oreja de Van Gogh Song: Bonustrack\n",
      "558- Avg Score: 0.4905 Min Score: 0.9191 Max Score: 0.023 Artist: Gipsy Kings Song: Bamboléo\n",
      "559- Avg Score: 0.477 Min Score: 0.5055 Max Score: 0.0264 Artist: Gipsy Kings Song: Baila Me\n",
      "560- Avg Score: 0.5047 Min Score: 0.5047 Max Score: 0.5047 Artist: Atajo Song: Que La D.E.A. No Me Vea (Yapa)\n",
      "561- Avg Score: 0.4503 Min Score: 0.6452 Max Score: 0.0257 Artist: La Barra Song: Amor Infiel\n",
      "562- Avg Score: 0.477 Min Score: 0.8087 Max Score: 0.0 Artist: La Barra Song: Un Millón de Rosas\n",
      "563- Avg Score: 0.5047 Min Score: 0.5047 Max Score: 0.5047 Artist: La Barra Song: La Carta\n",
      "564- Avg Score: 0.5047 Min Score: 0.5047 Max Score: 0.5047 Artist: Los Tekis Song: Hasta el Otro Carnaval\n",
      "565- Avg Score: 0.4365 Min Score: 0.6371 Max Score: 1e-04 Artist: Los Huayra Song: Hoy\n",
      "566- Avg Score: 0.5047 Min Score: 0.5047 Max Score: 0.5047 Artist: Los Tekis Song: Arde la Ciudad\n",
      "567- Avg Score: 0.4619 Min Score: 0.6169 Max Score: 0.0736 Artist: Abel Pintos Song: Aventura (feat. Marcela Morelo)\n",
      "568- Avg Score: 0.5047 Min Score: 0.5047 Max Score: 0.5047 Artist: Los Huayra Song: La Noche Sin Tí\n",
      "569- Avg Score: 0.5022 Min Score: 0.8976 Max Score: 0.0 Artist: Pedro Aznar Song: A Primera Vista\n",
      "570- Avg Score: 0.453 Min Score: 0.5311 Max Score: 0.0 Artist: Los Caligaris Song: Razón\n",
      "571- Avg Score: 0.5047 Min Score: 0.5047 Max Score: 0.5047 Artist: Los Caligaris Song: Kilómetros\n",
      "572- Avg Score: 0.4387 Min Score: 0.8694 Max Score: 0.0015 Artist: Los Caligaris Song: Quereme Así\n",
      "573- Avg Score: 0.5047 Min Score: 0.5047 Max Score: 0.5047 Artist: Los Caligaris Song: Añejo W - Vivo\n",
      "574- Avg Score: 0.4504 Min Score: 0.5954 Max Score: 0.0189 Artist: No Te Va Gustar Song: No Necesito Nada\n",
      "575- Avg Score: 0.2855 Min Score: 0.5049 Max Score: 0.0 Artist: Dread Mar I Song: Tú Sin Mí\n",
      "576- Avg Score: 0.459 Min Score: 0.5189 Max Score: 0.0363 Artist: La Beriso Song: Traicionero\n",
      "577- Avg Score: 0.4134 Min Score: 0.5093 Max Score: 0.0 Artist: No Te Va Gustar Song: Ese Maldito Momento\n",
      "578- Avg Score: 0.4824 Min Score: 0.7389 Max Score: 0.0 Artist: Dread Mar I Song: Decide Tú\n",
      "579- Avg Score: 0.5047 Min Score: 0.5047 Max Score: 0.5047 Artist: Raly Barrionuevo Song: Zamba y Acuarela\n",
      "580- Avg Score: 0.4614 Min Score: 0.6297 Max Score: 0.0005 Artist: Vicentico Song: Creo Que Me Enamoré\n",
      "581- Avg Score: 0.4175 Min Score: 0.5583 Max Score: 0.0122 Artist: Ciro y los Persas Song: Insisto\n",
      "582- Avg Score: 0.4451 Min Score: 0.5054 Max Score: 0.0 Artist: No Te Va Gustar Song: Verte Reír\n",
      "583- Avg Score: 0.4022 Min Score: 0.7379 Max Score: 0.0004 Artist: La Beriso Song: Ella\n",
      "584- Avg Score: 0.4648 Min Score: 0.5076 Max Score: 0.1338 Artist: Andrés Calamaro Song: Te quiero igual\n",
      "585- Avg Score: 0.4622 Min Score: 0.5296 Max Score: 0.0024 Artist: Los Pericos Song: Runaway\n",
      "586- Avg Score: 0.5047 Min Score: 0.5047 Max Score: 0.5047 Artist: Los Caligaris Song: Un Rato de Amor - Acústico\n",
      "587- Avg Score: 0.5047 Min Score: 0.5047 Max Score: 0.5047 Artist: Los Cafres Song: Bastará\n",
      "588- Avg Score: 0.4365 Min Score: 0.509 Max Score: 0.0005 Artist: Callejeros Song: 9 de Julio\n",
      "589- Avg Score: 0.4644 Min Score: 0.5296 Max Score: 0.0051 Artist: Jóvenes Pordioseros Song: Descontrolado\n",
      "590- Avg Score: 0.5047 Min Score: 0.5047 Max Score: 0.5047 Artist: Riddim Song: Un Mundo Mejor\n",
      "591- Avg Score: 0.3753 Min Score: 0.5158 Max Score: 0.0 Artist: Callejeros Song: Imposible\n",
      "592- Avg Score: 0.3969 Min Score: 0.5091 Max Score: 0.0121 Artist: Los Tekis Song: Vienes y Te Vas\n",
      "593- Avg Score: 0.5047 Min Score: 0.5047 Max Score: 0.5047 Artist: AHYRE Song: Perdiste\n",
      "594- Avg Score: 0.5047 Min Score: 0.5047 Max Score: 0.5047 Artist: Ceibo Song: Mientes\n",
      "595- Avg Score: 0.5047 Min Score: 0.5047 Max Score: 0.5047 Artist: Patricio Rey y sus Redonditos de Ricota Song: Un Poco de Amor Francés\n",
      "596- Avg Score: 0.5047 Min Score: 0.5047 Max Score: 0.5047 Artist: Soda Stereo Song: De Música Ligera - Remasterizado 2007\n",
      "597- Avg Score: 0.4375 Min Score: 0.947 Max Score: 0.0007 Artist: Los Tipitos Song: Campanas en la Noche\n",
      "598- Avg Score: 0.4623 Min Score: 0.6084 Max Score: 1e-04 Artist: Guasones Song: Reyes de la Noche\n",
      "599- Avg Score: 0.4417 Min Score: 0.9881 Max Score: 0.0 Artist: Intoxicados Song: Nunca quise\n",
      "600- Avg Score: 0.5047 Min Score: 0.5047 Max Score: 0.5047 Artist: Té de Brujas Song: Arteria Ulnar\n",
      "601- Avg Score: 0.5047 Min Score: 0.5047 Max Score: 0.5047 Artist: Bersuit Vergarabat Song: La Soledad\n",
      "602- Avg Score: 0.5047 Min Score: 0.5047 Max Score: 0.5047 Artist: Mancha De Rolando Song: Arde la ciudad\n",
      "603- Avg Score: 0.4456 Min Score: 0.8238 Max Score: 1e-04 Artist: Gustavo Cerati Song: Deja Vu\n",
      "604- Avg Score: 0.5047 Min Score: 0.5047 Max Score: 0.5047 Artist: Literal Song: No Le Ganamos a Nadie\n",
      "605- Avg Score: 0.4858 Min Score: 0.5469 Max Score: 0.0089 Artist: Viejas Locas Song: Me Gustas Mucho\n",
      "606- Avg Score: 0.5047 Min Score: 0.5047 Max Score: 0.5047 Artist: Parientes Song: Contratiempos\n",
      "607- Avg Score: 0.3615 Min Score: 0.5172 Max Score: 0.0014 Artist: Divididos Song: Que Ves?\n",
      "608- Avg Score: 0.5086 Min Score: 0.8924 Max Score: 0.0354 Artist: Estelares Song: Un Dia Perfecto\n",
      "609- Avg Score: 0.4782 Min Score: 0.7522 Max Score: 0.0 Artist: Ciro y los Persas Song: Mirenla\n",
      "610- Avg Score: 0.0 Min Score: 0.0 Max Score: 0.0 Artist: Los Abuelos De La Nada Song: Lunes Por La Madrugada\n",
      "611- Avg Score: 0.4832 Min Score: 0.8515 Max Score: 0.0002 Artist: No Te Va Gustar Song: A las Nueve\n",
      "612- Avg Score: 0.5047 Min Score: 0.5047 Max Score: 0.5047 Artist: Attaque 77 Song: Hacelo por Mí\n",
      "613- Avg Score: 0.5047 Min Score: 0.5047 Max Score: 0.5047 Artist: Stokoff Song: Si Tú No Estas (Nashville)\n",
      "614- Avg Score: 0.5047 Min Score: 0.5047 Max Score: 0.5047 Artist: Ratones Paranoicos Song: Sigue Girando\n",
      "615- Avg Score: 0.4164 Min Score: 0.5258 Max Score: 0.0 Artist: La 25 Song: Solo voy\n",
      "616- Avg Score: 0.5047 Min Score: 0.5047 Max Score: 0.5047 Artist: Charly García Song: Nos Siguen Pegando Abajo\n",
      "617- Avg Score: 0.5047 Min Score: 0.5047 Max Score: 0.5047 Artist: Scones de la Chola Song: Una Nueva Realidad\n",
      "618- Avg Score: 0.5047 Min Score: 0.5047 Max Score: 0.5047 Artist: Andrés Calamaro Song: Cuando no estás - Jamón del medio\n",
      "619- Avg Score: 0.5047 Min Score: 0.5047 Max Score: 0.5047 Artist: Soda Stereo Song: Cuando Pase El Temblor - Remasterizado 2007\n",
      "620- Avg Score: 0.5047 Min Score: 0.5047 Max Score: 0.5047 Artist: Los Tipitos Song: Brujería\n",
      "621- Avg Score: 0.4434 Min Score: 0.5214 Max Score: 0.0002 Artist: La Renga Song: Balada Del Diablo y La Muerte\n",
      "622- Avg Score: 0.5047 Min Score: 0.5047 Max Score: 0.5047 Artist: Callejeros Song: Creo\n",
      "623- Avg Score: 0.4952 Min Score: 0.5081 Max Score: 0.221 Artist: Gustavo Cerati Song: Crimen\n",
      "624- Avg Score: 0.5047 Min Score: 0.5047 Max Score: 0.5047 Artist: Soda Stereo Song: Persiana Americana - Remasterizado 2007\n",
      "625- Avg Score: 0.5047 Min Score: 0.5047 Max Score: 0.5047 Artist: Bersuit Vergarabat Song: Un Pacto - Live In Buenos Aires / 2001\n",
      "626- Avg Score: 0.4552 Min Score: 0.6059 Max Score: 0.0 Artist: La Beriso Song: Madrugada\n",
      "627- Avg Score: 0.4032 Min Score: 0.5125 Max Score: 0.0004 Artist: Divididos Song: Spaghetti del Rock\n",
      "628- Avg Score: 0.5047 Min Score: 0.5047 Max Score: 0.5047 Artist: La Extrema Vanguardia Song: Dale!\n",
      "629- Avg Score: 0.4615 Min Score: 0.6984 Max Score: 0.0122 Artist: Luis Alberto Spinetta Song: Seguir Viviendo Sin Tu Amor\n",
      "630- Avg Score: 0.4444 Min Score: 0.5259 Max Score: 1e-04 Artist: No Te Va Gustar Song: Tan lejos\n",
      "631- Avg Score: 0.5047 Min Score: 0.5047 Max Score: 0.5047 Artist: Yazbik Song: La Razón\n",
      "632- Avg Score: 0.4551 Min Score: 0.8055 Max Score: 0.0058 Artist: Turf Song: Pasos Al Costado\n",
      "633- Avg Score: 0.5047 Min Score: 0.5047 Max Score: 0.5047 Artist: Mancha De Rolando Song: Chino\n",
      "634- Avg Score: 0.4316 Min Score: 0.5093 Max Score: 0.0018 Artist: Divididos Song: Par Mil\n",
      "635- Avg Score: 0.49 Min Score: 0.9781 Max Score: 0.0018 Artist: Ciro y los Persas Song: Astros\n",
      "636- Avg Score: 0.4356 Min Score: 0.5225 Max Score: 0.0 Artist: Estelares Song: Aire\n",
      "637- Avg Score: 0.5047 Min Score: 0.5047 Max Score: 0.5047 Artist: Vozenoff Song: Si Me Dijeras\n",
      "638- Avg Score: 0.5047 Min Score: 0.5047 Max Score: 0.5047 Artist: Ratones Paranoicos Song: Rock del Gato\n",
      "639- Avg Score: 0.4651 Min Score: 0.9513 Max Score: 0.0 Artist: La Vela Puerca Song: Va A Escampar\n",
      "640- Avg Score: 0.5047 Min Score: 0.5047 Max Score: 0.5047 Artist: Los Fabulosos Cadillacs Song: Vasos Vacíos - Remasterizado 2008\n",
      "641- Avg Score: 0.5082 Min Score: 0.9271 Max Score: 0.3449 Artist: Las Pelotas Song: Será\n",
      "642- Avg Score: 0.5047 Min Score: 0.5047 Max Score: 0.5047 Artist: Juan Rosasco en Banda Song: Niebla de Otoño\n",
      "643- Avg Score: 0.4678 Min Score: 0.5468 Max Score: 0.0005 Artist: Ciro y los Persas Song: Me Gusta\n",
      "644- Avg Score: 0.4803 Min Score: 0.9953 Max Score: 0.0089 Artist: Estelares Song: Ella Dijo\n",
      "645- Avg Score: 0.4207 Min Score: 0.5241 Max Score: 0.0 Artist: Callejeros Song: Una Nueva Noche Fría\n",
      "646- Avg Score: 0.4635 Min Score: 0.6603 Max Score: 0.0283 Artist: Babasónicos Song: Putita\n",
      "647- Avg Score: 0.5047 Min Score: 0.5047 Max Score: 0.5047 Artist: Literal Song: Y Si Te Espero\n",
      "648- Avg Score: 0.4874 Min Score: 0.9275 Max Score: 0.0 Artist: Patricio Rey y sus Redonditos de Ricota Song: La Bestia Pop\n",
      "649- Avg Score: 0.4744 Min Score: 0.6034 Max Score: 0.0 Artist: Andrés Calamaro Song: La parte de adelante\n",
      "650- Avg Score: 0.4669 Min Score: 0.7724 Max Score: 0.0 Artist: Pappo Song: Juntos a la Par\n",
      "651- Avg Score: 0.4311 Min Score: 0.6424 Max Score: 0.0012 Artist: Los Piojos Song: Tan Solo\n",
      "652- Avg Score: 0.5047 Min Score: 0.5047 Max Score: 0.5047 Artist: Gigio&spiker Song: Dame Mas\n",
      "653- Avg Score: 0.4716 Min Score: 0.9836 Max Score: 0.0005 Artist: Andrés Calamaro Song: Tuyo siempre\n",
      "654- Avg Score: 0.4594 Min Score: 0.5088 Max Score: 0.0073 Artist: Gustavo Cerati Song: Adiós\n",
      "655- Avg Score: 0.4681 Min Score: 0.831 Max Score: 0.0002 Artist: Fito Paez Song: Mariposa tecknicolor\n",
      "656- Avg Score: 0.481 Min Score: 0.6371 Max Score: 0.0014 Artist: La Beriso Song: Como Olvidarme\n",
      "657- Avg Score: 0.5047 Min Score: 0.5047 Max Score: 0.5047 Artist: Los Auténticos Decadentes Song: No Me Importa el Dinero (feat. Julieta Venegas) - Vivo en el Palacio de los Deportes\n",
      "658- Avg Score: 0.5047 Min Score: 0.5047 Max Score: 0.5047 Artist: Yasora Song: El Ultimo Cigarrillo\n",
      "659- Avg Score: 0.5047 Min Score: 0.5047 Max Score: 0.5047 Artist: El Polaco Song: Porque te fuiste\n",
      "660- Avg Score: 0.5047 Min Score: 0.5047 Max Score: 0.5047 Artist: 18 Kilates Song: Con La Misma Cancion\n",
      "661- Avg Score: 0.4471 Min Score: 0.7426 Max Score: 0.0 Artist: Nicky Jam Song: Voy a Beber\n",
      "662- Avg Score: 0.4385 Min Score: 0.5211 Max Score: 0.0 Artist: Alexis y Fido Song: Mala Conducta\n",
      "663- Avg Score: 0.4908 Min Score: 1.0 Max Score: 0.0016 Artist: El Retutu Song: Sino le contesto\n",
      "664- Avg Score: 0.5047 Min Score: 0.5047 Max Score: 0.5047 Artist: Pibes Chorros Song: Que calor\n",
      "665- Avg Score: 0.5047 Min Score: 0.5047 Max Score: 0.5047 Artist: Plan B Song: Es Un Secreto\n",
      "666- Avg Score: 0.5047 Min Score: 0.5047 Max Score: 0.5047 Artist: Amar Azul Song: Yo Me Enamore\n",
      "667- Avg Score: 0.5047 Min Score: 0.5047 Max Score: 0.5047 Artist: Tambó Tambó Song: La Cumbita\n",
      "668- Avg Score: 0.5047 Min Score: 0.5047 Max Score: 0.5047 Artist: El Empuje Song: Sabor Sabroson\n",
      "669- Avg Score: 0.5047 Min Score: 0.5047 Max Score: 0.5047 Artist: Altos Cumbieros Song: La cola less\n",
      "670- Avg Score: 0.5047 Min Score: 0.5047 Max Score: 0.5047 Artist: De La Calle Song: Bata Boom\n",
      "671- Avg Score: 0.5047 Min Score: 0.5047 Max Score: 0.5047 Artist: 18 Kilates Song: Me Olvide de Ti\n",
      "672- Avg Score: 0.5047 Min Score: 0.5047 Max Score: 0.5047 Artist: Los Turros Song: Hasta Que Salga El Sol\n",
      "673- Avg Score: 0.5047 Min Score: 0.5047 Max Score: 0.5047 Artist: De La Calle Song: Re Loco\n",
      "674- Avg Score: 0.5047 Min Score: 0.5047 Max Score: 0.5047 Artist: El Polaco Song: Deja De Llorar\n"
     ]
    },
    {
     "ename": "JSONDecodeError",
     "evalue": "Expecting value: line 1 column 1 (char 0)",
     "output_type": "error",
     "traceback": [
      "\u001b[1;31m---------------------------------------------------------------------------\u001b[0m",
      "\u001b[1;31mJSONDecodeError\u001b[0m                           Traceback (most recent call last)",
      "\u001b[1;32m<ipython-input-42-4aaa23eb6514>\u001b[0m in \u001b[0;36m<module>\u001b[1;34m\u001b[0m\n\u001b[0;32m      6\u001b[0m \u001b[1;32mfor\u001b[0m \u001b[0midx\u001b[0m\u001b[1;33m,\u001b[0m \u001b[0msong\u001b[0m \u001b[1;32min\u001b[0m \u001b[0mdf\u001b[0m\u001b[1;33m.\u001b[0m\u001b[0miterrows\u001b[0m\u001b[1;33m(\u001b[0m\u001b[1;33m)\u001b[0m\u001b[1;33m:\u001b[0m\u001b[1;33m\u001b[0m\u001b[1;33m\u001b[0m\u001b[0m\n\u001b[0;32m      7\u001b[0m \u001b[1;33m\u001b[0m\u001b[0m\n\u001b[1;32m----> 8\u001b[1;33m     \u001b[0mavg_score\u001b[0m\u001b[1;33m,\u001b[0m \u001b[0mmin_score\u001b[0m\u001b[1;33m,\u001b[0m \u001b[0mmax_score\u001b[0m \u001b[1;33m=\u001b[0m \u001b[0mcalculate_song_sentiment\u001b[0m\u001b[1;33m(\u001b[0m\u001b[0msong\u001b[0m\u001b[1;33m.\u001b[0m\u001b[0martist_name\u001b[0m\u001b[1;33m,\u001b[0m \u001b[0msong\u001b[0m\u001b[1;33m.\u001b[0m\u001b[0mtrack_name\u001b[0m\u001b[1;33m)\u001b[0m\u001b[1;33m\u001b[0m\u001b[1;33m\u001b[0m\u001b[0m\n\u001b[0m\u001b[0;32m      9\u001b[0m     \u001b[0mprint\u001b[0m\u001b[1;33m(\u001b[0m\u001b[0mstr\u001b[0m\u001b[1;33m(\u001b[0m\u001b[0midx\u001b[0m\u001b[1;33m)\u001b[0m \u001b[1;33m+\u001b[0m \u001b[1;34m'- Avg Score: '\u001b[0m \u001b[1;33m+\u001b[0m \u001b[0mstr\u001b[0m\u001b[1;33m(\u001b[0m\u001b[0mavg_score\u001b[0m\u001b[1;33m)\u001b[0m \u001b[1;33m+\u001b[0m \u001b[1;34m' Min Score: '\u001b[0m \u001b[1;33m+\u001b[0m \u001b[0mstr\u001b[0m\u001b[1;33m(\u001b[0m\u001b[0mmin_score\u001b[0m\u001b[1;33m)\u001b[0m \u001b[1;33m+\u001b[0m \u001b[1;34m' Max Score: '\u001b[0m \u001b[1;33m+\u001b[0m \u001b[0mstr\u001b[0m\u001b[1;33m(\u001b[0m\u001b[0mmax_score\u001b[0m\u001b[1;33m)\u001b[0m \u001b[1;33m+\u001b[0m \u001b[1;34m' Artist: '\u001b[0m \u001b[1;33m+\u001b[0m \u001b[0msong\u001b[0m\u001b[1;33m.\u001b[0m\u001b[0martist_name\u001b[0m \u001b[1;33m+\u001b[0m \u001b[1;34m' Song: '\u001b[0m \u001b[1;33m+\u001b[0m \u001b[0msong\u001b[0m\u001b[1;33m.\u001b[0m\u001b[0mtrack_name\u001b[0m\u001b[1;33m)\u001b[0m\u001b[1;33m\u001b[0m\u001b[1;33m\u001b[0m\u001b[0m\n\u001b[0;32m     10\u001b[0m \u001b[1;33m\u001b[0m\u001b[0m\n",
      "\u001b[1;32m<ipython-input-41-015aa0f03bed>\u001b[0m in \u001b[0;36mcalculate_song_sentiment\u001b[1;34m(artist_name, song_name)\u001b[0m\n\u001b[0;32m      3\u001b[0m     \u001b[0mscore_by_phrase\u001b[0m \u001b[1;33m=\u001b[0m \u001b[1;33m[\u001b[0m\u001b[1;33m]\u001b[0m\u001b[1;33m\u001b[0m\u001b[1;33m\u001b[0m\u001b[0m\n\u001b[0;32m      4\u001b[0m \u001b[1;33m\u001b[0m\u001b[0m\n\u001b[1;32m----> 5\u001b[1;33m     \u001b[0mlyrics_dict\u001b[0m \u001b[1;33m=\u001b[0m \u001b[0mrequests\u001b[0m\u001b[1;33m.\u001b[0m\u001b[0mget\u001b[0m\u001b[1;33m(\u001b[0m\u001b[1;34m'https://api.lyrics.ovh/v1/{:}/{:}'\u001b[0m\u001b[1;33m.\u001b[0m\u001b[0mformat\u001b[0m\u001b[1;33m(\u001b[0m\u001b[0martist_name\u001b[0m\u001b[1;33m,\u001b[0m \u001b[0mre\u001b[0m\u001b[1;33m.\u001b[0m\u001b[0mfindall\u001b[0m\u001b[1;33m(\u001b[0m \u001b[1;34m\"^[^\\/]*\"\u001b[0m\u001b[1;33m,\u001b[0m\u001b[0msong_name\u001b[0m\u001b[1;33m)\u001b[0m\u001b[1;33m[\u001b[0m\u001b[1;36m0\u001b[0m\u001b[1;33m]\u001b[0m\u001b[1;33m)\u001b[0m\u001b[1;33m)\u001b[0m\u001b[1;33m.\u001b[0m\u001b[0mjson\u001b[0m\u001b[1;33m(\u001b[0m\u001b[1;33m)\u001b[0m\u001b[1;33m\u001b[0m\u001b[1;33m\u001b[0m\u001b[0m\n\u001b[0m\u001b[0;32m      6\u001b[0m \u001b[1;33m\u001b[0m\u001b[0m\n\u001b[0;32m      7\u001b[0m     \u001b[0mavg_score\u001b[0m \u001b[1;33m=\u001b[0m \u001b[1;33m-\u001b[0m\u001b[1;36m1\u001b[0m\u001b[1;33m\u001b[0m\u001b[1;33m\u001b[0m\u001b[0m\n",
      "\u001b[1;32mc:\\users\\guill\\anaconda3\\lib\\site-packages\\requests\\models.py\u001b[0m in \u001b[0;36mjson\u001b[1;34m(self, **kwargs)\u001b[0m\n\u001b[0;32m    896\u001b[0m                     \u001b[1;31m# used.\u001b[0m\u001b[1;33m\u001b[0m\u001b[1;33m\u001b[0m\u001b[1;33m\u001b[0m\u001b[0m\n\u001b[0;32m    897\u001b[0m                     \u001b[1;32mpass\u001b[0m\u001b[1;33m\u001b[0m\u001b[1;33m\u001b[0m\u001b[0m\n\u001b[1;32m--> 898\u001b[1;33m         \u001b[1;32mreturn\u001b[0m \u001b[0mcomplexjson\u001b[0m\u001b[1;33m.\u001b[0m\u001b[0mloads\u001b[0m\u001b[1;33m(\u001b[0m\u001b[0mself\u001b[0m\u001b[1;33m.\u001b[0m\u001b[0mtext\u001b[0m\u001b[1;33m,\u001b[0m \u001b[1;33m**\u001b[0m\u001b[0mkwargs\u001b[0m\u001b[1;33m)\u001b[0m\u001b[1;33m\u001b[0m\u001b[1;33m\u001b[0m\u001b[0m\n\u001b[0m\u001b[0;32m    899\u001b[0m \u001b[1;33m\u001b[0m\u001b[0m\n\u001b[0;32m    900\u001b[0m     \u001b[1;33m@\u001b[0m\u001b[0mproperty\u001b[0m\u001b[1;33m\u001b[0m\u001b[1;33m\u001b[0m\u001b[0m\n",
      "\u001b[1;32mc:\\users\\guill\\anaconda3\\lib\\json\\__init__.py\u001b[0m in \u001b[0;36mloads\u001b[1;34m(s, cls, object_hook, parse_float, parse_int, parse_constant, object_pairs_hook, **kw)\u001b[0m\n\u001b[0;32m    355\u001b[0m             \u001b[0mparse_int\u001b[0m \u001b[1;32mis\u001b[0m \u001b[1;32mNone\u001b[0m \u001b[1;32mand\u001b[0m \u001b[0mparse_float\u001b[0m \u001b[1;32mis\u001b[0m \u001b[1;32mNone\u001b[0m \u001b[1;32mand\u001b[0m\u001b[1;33m\u001b[0m\u001b[1;33m\u001b[0m\u001b[0m\n\u001b[0;32m    356\u001b[0m             parse_constant is None and object_pairs_hook is None and not kw):\n\u001b[1;32m--> 357\u001b[1;33m         \u001b[1;32mreturn\u001b[0m \u001b[0m_default_decoder\u001b[0m\u001b[1;33m.\u001b[0m\u001b[0mdecode\u001b[0m\u001b[1;33m(\u001b[0m\u001b[0ms\u001b[0m\u001b[1;33m)\u001b[0m\u001b[1;33m\u001b[0m\u001b[1;33m\u001b[0m\u001b[0m\n\u001b[0m\u001b[0;32m    358\u001b[0m     \u001b[1;32mif\u001b[0m \u001b[0mcls\u001b[0m \u001b[1;32mis\u001b[0m \u001b[1;32mNone\u001b[0m\u001b[1;33m:\u001b[0m\u001b[1;33m\u001b[0m\u001b[1;33m\u001b[0m\u001b[0m\n\u001b[0;32m    359\u001b[0m         \u001b[0mcls\u001b[0m \u001b[1;33m=\u001b[0m \u001b[0mJSONDecoder\u001b[0m\u001b[1;33m\u001b[0m\u001b[1;33m\u001b[0m\u001b[0m\n",
      "\u001b[1;32mc:\\users\\guill\\anaconda3\\lib\\json\\decoder.py\u001b[0m in \u001b[0;36mdecode\u001b[1;34m(self, s, _w)\u001b[0m\n\u001b[0;32m    335\u001b[0m \u001b[1;33m\u001b[0m\u001b[0m\n\u001b[0;32m    336\u001b[0m         \"\"\"\n\u001b[1;32m--> 337\u001b[1;33m         \u001b[0mobj\u001b[0m\u001b[1;33m,\u001b[0m \u001b[0mend\u001b[0m \u001b[1;33m=\u001b[0m \u001b[0mself\u001b[0m\u001b[1;33m.\u001b[0m\u001b[0mraw_decode\u001b[0m\u001b[1;33m(\u001b[0m\u001b[0ms\u001b[0m\u001b[1;33m,\u001b[0m \u001b[0midx\u001b[0m\u001b[1;33m=\u001b[0m\u001b[0m_w\u001b[0m\u001b[1;33m(\u001b[0m\u001b[0ms\u001b[0m\u001b[1;33m,\u001b[0m \u001b[1;36m0\u001b[0m\u001b[1;33m)\u001b[0m\u001b[1;33m.\u001b[0m\u001b[0mend\u001b[0m\u001b[1;33m(\u001b[0m\u001b[1;33m)\u001b[0m\u001b[1;33m)\u001b[0m\u001b[1;33m\u001b[0m\u001b[1;33m\u001b[0m\u001b[0m\n\u001b[0m\u001b[0;32m    338\u001b[0m         \u001b[0mend\u001b[0m \u001b[1;33m=\u001b[0m \u001b[0m_w\u001b[0m\u001b[1;33m(\u001b[0m\u001b[0ms\u001b[0m\u001b[1;33m,\u001b[0m \u001b[0mend\u001b[0m\u001b[1;33m)\u001b[0m\u001b[1;33m.\u001b[0m\u001b[0mend\u001b[0m\u001b[1;33m(\u001b[0m\u001b[1;33m)\u001b[0m\u001b[1;33m\u001b[0m\u001b[1;33m\u001b[0m\u001b[0m\n\u001b[0;32m    339\u001b[0m         \u001b[1;32mif\u001b[0m \u001b[0mend\u001b[0m \u001b[1;33m!=\u001b[0m \u001b[0mlen\u001b[0m\u001b[1;33m(\u001b[0m\u001b[0ms\u001b[0m\u001b[1;33m)\u001b[0m\u001b[1;33m:\u001b[0m\u001b[1;33m\u001b[0m\u001b[1;33m\u001b[0m\u001b[0m\n",
      "\u001b[1;32mc:\\users\\guill\\anaconda3\\lib\\json\\decoder.py\u001b[0m in \u001b[0;36mraw_decode\u001b[1;34m(self, s, idx)\u001b[0m\n\u001b[0;32m    353\u001b[0m             \u001b[0mobj\u001b[0m\u001b[1;33m,\u001b[0m \u001b[0mend\u001b[0m \u001b[1;33m=\u001b[0m \u001b[0mself\u001b[0m\u001b[1;33m.\u001b[0m\u001b[0mscan_once\u001b[0m\u001b[1;33m(\u001b[0m\u001b[0ms\u001b[0m\u001b[1;33m,\u001b[0m \u001b[0midx\u001b[0m\u001b[1;33m)\u001b[0m\u001b[1;33m\u001b[0m\u001b[1;33m\u001b[0m\u001b[0m\n\u001b[0;32m    354\u001b[0m         \u001b[1;32mexcept\u001b[0m \u001b[0mStopIteration\u001b[0m \u001b[1;32mas\u001b[0m \u001b[0merr\u001b[0m\u001b[1;33m:\u001b[0m\u001b[1;33m\u001b[0m\u001b[1;33m\u001b[0m\u001b[0m\n\u001b[1;32m--> 355\u001b[1;33m             \u001b[1;32mraise\u001b[0m \u001b[0mJSONDecodeError\u001b[0m\u001b[1;33m(\u001b[0m\u001b[1;34m\"Expecting value\"\u001b[0m\u001b[1;33m,\u001b[0m \u001b[0ms\u001b[0m\u001b[1;33m,\u001b[0m \u001b[0merr\u001b[0m\u001b[1;33m.\u001b[0m\u001b[0mvalue\u001b[0m\u001b[1;33m)\u001b[0m \u001b[1;32mfrom\u001b[0m \u001b[1;32mNone\u001b[0m\u001b[1;33m\u001b[0m\u001b[1;33m\u001b[0m\u001b[0m\n\u001b[0m\u001b[0;32m    356\u001b[0m         \u001b[1;32mreturn\u001b[0m \u001b[0mobj\u001b[0m\u001b[1;33m,\u001b[0m \u001b[0mend\u001b[0m\u001b[1;33m\u001b[0m\u001b[1;33m\u001b[0m\u001b[0m\n",
      "\u001b[1;31mJSONDecodeError\u001b[0m: Expecting value: line 1 column 1 (char 0)"
     ]
    }
   ],
   "source": [
    "# No ejecutaremos este bloque porque tarda mucho tiempo. En su lugar se levanta el dataset con las features de texto ya extraidas y agregadas...\n",
    "min_lyrics_sentiment = list()\n",
    "max_lyrics_sentiment = list()\n",
    "avg_lyrics_sentiment = list()\n",
    "df_sentiments = df_interes.copy()\n",
    "\n",
    "for idx, song in df.iterrows():\n",
    "    try:\n",
    "        avg_score, min_score, max_score = calculate_song_sentiment(song.artist_name, song.track_name)\n",
    "        print(str(idx) + '- Avg Score: ' + str(avg_score) + ' Min Score: ' + str(min_score) + ' Max Score: ' + str(max_score) + ' Artist: ' + song.artist_name + ' Song: ' + song.track_name)\n",
    "\n",
    "\n",
    "        min_lyrics_sentiment.append(min_score)\n",
    "        max_lyrics_sentiment.append(max_score)\n",
    "        avg_lyrics_sentiment.append(avg_score)\n",
    "    except:\n",
    "        min_lyrics_sentiment.append(0)\n",
    "        max_lyrics_sentiment.append(0)\n",
    "        avg_lyrics_sentiment.append(0)\n",
    "\n",
    "min_lyrics_sentiment = np.array(min_lyrics_sentiment).flatten()\n",
    "max_lyrics_sentiment = np.array(max_lyrics_sentiment).flatten()\n",
    "avg_lyrics_sentiment = np.array(avg_lyrics_sentiment).flatten()\n",
    "\n",
    "df_sentiments['min_lyrics_sentiment'] = min_lyrics_sentiment\n",
    "df_sentiments['max_lyrics_sentiment'] = max_lyrics_sentiment\n",
    "df_sentiments['avg_lyrics_sentiment'] = avg_lyrics_sentiment\n",
    "\n",
    "df_sentiments.to_csv('df_with_sentiment_bruto.csv')"
   ]
  },
  {
   "cell_type": "markdown",
   "metadata": {
    "id": "bz1Du6LAni3U"
   },
   "source": [
    "Luego de analizar los resultados arrojados por el análisis de sentimientos, pudimos darnos cuenta que un valor se repetía mucho entre todos:"
   ]
  },
  {
   "cell_type": "code",
   "execution_count": null,
   "metadata": {
    "id": "bPMOOGK1ni3U",
    "outputId": "f35a6a67-4690-4adc-b475-810c20cc32bc"
   },
   "outputs": [
    {
     "data": {
      "text/plain": [
       "0.5047    1131\n",
       "0.0000     194\n",
       "0.0001      41\n",
       "0.0002      24\n",
       "0.0003      21\n",
       "          ... \n",
       "0.0020       1\n",
       "0.3316       1\n",
       "0.0186       1\n",
       "0.0445       1\n",
       "0.0354       1\n",
       "Name: max_lyrics_sentiment, Length: 214, dtype: int64"
      ]
     },
     "execution_count": 115,
     "metadata": {
      "tags": []
     },
     "output_type": "execute_result"
    }
   ],
   "source": [
    "df_sentiments = pd.read_csv('df_with_sentiment_bruto.csv', index_col=0)\n",
    "df_sentiments['max_lyrics_sentiment'].value_counts()"
   ]
  },
  {
   "cell_type": "markdown",
   "metadata": {
    "id": "ClLFR_dWni3W"
   },
   "source": [
    "Luego de analizar las posibles causas, entendimos que la API que devuelve las letras de las canciones, no es efectiva y arroja resultados que el modelo de análisis de sentimientos no puede manejar. Debido a que esto pasa reiteradas veces con el total de canciones del dataset, el valor 0.5047 se repite demasiado. En base a esto y a la imposibilidad de corregirlo de manera correcta, se decidió excluir las features de texto del dataset de entrenamiento y evaluación ya que aportarán datos poco precisos y que generarán ruido en los modelos."
   ]
  },
  {
   "cell_type": "markdown",
   "metadata": {
    "id": "k4Dq86lUni3X"
   },
   "source": [
    "### 2) Elegir tres modelos de clasificadores multiclase\n",
    "\n",
    "Aquí escogeremos tres modelos diferentes y luego compararemos su rendimiento para esta tarea. El procedimiento será el siguiente:\n",
    "- Inicializar los modelos\n",
    "- Entrenarlos usando el split **train** de los datos\n",
    "\n",
    "**Recomendación:**\n",
    "- Prestar atención a la [documentación de sklearn](https://scikit-learn.org/stable/)"
   ]
  },
  {
   "cell_type": "markdown",
   "metadata": {
    "id": "py_T9BWvni3X"
   },
   "source": [
    "## Clasificador Decision Tree"
   ]
  },
  {
   "cell_type": "markdown",
   "metadata": {
    "id": "uuMgU1V1ni3X"
   },
   "source": [
    "### Entrenamiento"
   ]
  },
  {
   "cell_type": "code",
   "execution_count": 19,
   "metadata": {
    "id": "ZeTLueH0ni3Y"
   },
   "outputs": [],
   "source": [
    "if 'models' not in os.listdir('data/'):\n",
    "    os.mkdir('data/models/')"
   ]
  },
  {
   "cell_type": "code",
   "execution_count": 20,
   "metadata": {
    "id": "hU_I8a_Mni3Z"
   },
   "outputs": [],
   "source": [
    "dict_dec_tree_grid = {'criterion'         : ['gini', 'entropy'],\n",
    "                      'splitter' : ['best', 'random'],\n",
    "                      'max_depth': [5, 10, 30, 50, 100, 500, 1000],\n",
    "                  'max_features'      : [None, 'auto'],\n",
    "                  'min_samples_split' : [1, 5, 10, 25, 50, 75, 100, 150, 200, 300, 500],\n",
    "                  'ccp_alpha'         : [0, 0.5, 1]\n",
    "                  }\n",
    "\n"
   ]
  },
  {
   "cell_type": "code",
   "execution_count": 21,
   "metadata": {
    "colab": {
     "base_uri": "https://localhost:8080/",
     "height": 134
    },
    "id": "yQDG7FzWni3c",
    "outputId": "f2375187-74f1-4ca8-b425-69a78aff2f89"
   },
   "outputs": [
    {
     "name": "stdout",
     "output_type": "stream",
     "text": [
      "DecisionTreeClassifier(ccp_alpha=0, class_weight=None, criterion='entropy',\n",
      "                       max_depth=5, max_features=None, max_leaf_nodes=None,\n",
      "                       min_impurity_decrease=0.0, min_impurity_split=None,\n",
      "                       min_samples_leaf=1, min_samples_split=25,\n",
      "                       min_weight_fraction_leaf=0.0, presort='deprecated',\n",
      "                       random_state=42, splitter='best')\n",
      "{'ccp_alpha': 0, 'criterion': 'entropy', 'max_depth': 5, 'max_features': None, 'min_samples_split': 25, 'splitter': 'best'}\n"
     ]
    }
   ],
   "source": [
    "dt_model =      DecisionTreeClassifier(random_state=42)\n",
    "clf =        GridSearchCV(dt_model, dict_dec_tree_grid, scoring='accuracy', cv=3, n_jobs=-1)\n",
    "search =     clf.fit(X_train, y_train.values.flatten())\n",
    "search_df =  pd.DataFrame(search.cv_results_)\n",
    "best_d_tree =  search.best_estimator_\n",
    "best_d_param = search.best_params_\n",
    "print(best_d_tree)\n",
    "print(best_d_param)"
   ]
  },
  {
   "cell_type": "markdown",
   "metadata": {
    "id": "2c-03japni3e"
   },
   "source": [
    "### Modelo basico sin optimizar"
   ]
  },
  {
   "cell_type": "code",
   "execution_count": 22,
   "metadata": {
    "colab": {
     "base_uri": "https://localhost:8080/",
     "height": 34
    },
    "id": "xxisTJXsni3i",
    "outputId": "d2793b63-bb95-44fc-8f30-36e6f79caf82"
   },
   "outputs": [
    {
     "name": "stdout",
     "output_type": "stream",
     "text": [
      "0.58043\n"
     ]
    }
   ],
   "source": [
    "model_d_basic =      DecisionTreeClassifier(random_state=42)\n",
    "model_d_basic.fit(X_train, y_train.values.flatten())\n",
    "y_d_basic_pred =      model_d_basic.predict(X_valid)\n",
    "acc_d_basic = accuracy_score(y_valid, y_d_basic_pred)\n",
    "print(round(acc_d_basic, 5))\n"
   ]
  },
  {
   "cell_type": "markdown",
   "metadata": {
    "id": "cXcPYzEani3k"
   },
   "source": [
    "### Modelo optimizado"
   ]
  },
  {
   "cell_type": "code",
   "execution_count": 23,
   "metadata": {
    "colab": {
     "base_uri": "https://localhost:8080/",
     "height": 34
    },
    "id": "Na9nZsScni3l",
    "outputId": "4f75b31f-f486-472c-ffdc-d533f4a0ad2c"
   },
   "outputs": [
    {
     "name": "stdout",
     "output_type": "stream",
     "text": [
      "0.55652\n"
     ]
    }
   ],
   "source": [
    "d_model = best_d_tree\n",
    "d_model.fit(X_train, y_train.values.flatten())\n",
    "y_pred =      d_model.predict(X_valid)\n",
    "d_acc = accuracy_score(y_valid, y_pred)\n",
    "print(round(d_acc, 5))\n",
    "\n",
    "if 'DecisionTree' not in os.listdir('data/models/'):\n",
    "    os.mkdir('data/models/DecisionTree/')\n",
    "\n",
    "with open('data/models/DecisionTree/model', 'wb') as dt_f:\n",
    "    pickle.dump(d_model, dt_f)"
   ]
  },
  {
   "cell_type": "markdown",
   "metadata": {
    "id": "P8uGgdA6ni3m"
   },
   "source": [
    "## Clasificador Random Forest"
   ]
  },
  {
   "cell_type": "markdown",
   "metadata": {
    "id": "oXFgPGELni3n"
   },
   "source": [
    "### Entrenamiento"
   ]
  },
  {
   "cell_type": "code",
   "execution_count": 24,
   "metadata": {
    "id": "eC0r_EG-ni3n"
   },
   "outputs": [],
   "source": [
    "dict_r_forest_grid = {'criterion'         : ['gini', 'entropy'],\n",
    "                  'max_features'      : [None, 'auto'],\n",
    "                  'min_samples_split' : [1, 5, 10, 25, 50, 75, 100, 150, 200, 300, 500],\n",
    "                  'ccp_alpha'         : [0, 0.5, 1]\n",
    "                  }\n"
   ]
  },
  {
   "cell_type": "code",
   "execution_count": 25,
   "metadata": {
    "colab": {
     "base_uri": "https://localhost:8080/",
     "height": 168
    },
    "id": "DlyskzyTni3o",
    "outputId": "a4808a02-8be7-4321-f652-8aa12da47f99"
   },
   "outputs": [
    {
     "name": "stdout",
     "output_type": "stream",
     "text": [
      "RandomForestClassifier(bootstrap=True, ccp_alpha=0, class_weight=None,\n",
      "                       criterion='entropy', max_depth=None, max_features='auto',\n",
      "                       max_leaf_nodes=None, max_samples=None,\n",
      "                       min_impurity_decrease=0.0, min_impurity_split=None,\n",
      "                       min_samples_leaf=1, min_samples_split=5,\n",
      "                       min_weight_fraction_leaf=0.0, n_estimators=100,\n",
      "                       n_jobs=None, oob_score=False, random_state=42, verbose=0,\n",
      "                       warm_start=False)\n",
      "{'ccp_alpha': 0, 'criterion': 'entropy', 'max_features': 'auto', 'min_samples_split': 5}\n"
     ]
    }
   ],
   "source": [
    "rf_model =      RandomForestClassifier(random_state=42)\n",
    "clf =        GridSearchCV(rf_model, dict_r_forest_grid, scoring='accuracy', cv=3, n_jobs=-1)\n",
    "search =     clf.fit(X_train, y_train.values.flatten())\n",
    "search_df =  pd.DataFrame(search.cv_results_)\n",
    "rf_best_tree =  search.best_estimator_\n",
    "rf_best_param = search.best_params_\n",
    "print(rf_best_tree)\n",
    "print(rf_best_param)"
   ]
  },
  {
   "cell_type": "markdown",
   "metadata": {
    "id": "ZocmL2Funi3r"
   },
   "source": [
    "### Modelo basico sin optimizar"
   ]
  },
  {
   "cell_type": "code",
   "execution_count": 26,
   "metadata": {
    "colab": {
     "base_uri": "https://localhost:8080/",
     "height": 34
    },
    "id": "xZ64Jzxuni3r",
    "outputId": "b4da689d-eade-4d21-8cc2-412d575e9850"
   },
   "outputs": [
    {
     "name": "stdout",
     "output_type": "stream",
     "text": [
      "0.55652\n"
     ]
    }
   ],
   "source": [
    "rf_model_basic =      RandomForestClassifier(random_state=42)\n",
    "rf_model_basic.fit(X_train, y_train.values.flatten())\n",
    "y_basic_pred =      rf_model_basic.predict(X_valid)\n",
    "rf_acc_basic = accuracy_score(y_valid, y_pred)\n",
    "print(round(rf_acc_basic, 5))\n"
   ]
  },
  {
   "cell_type": "markdown",
   "metadata": {
    "id": "f6b09L8oni3t"
   },
   "source": [
    "### Modelo optimizado"
   ]
  },
  {
   "cell_type": "code",
   "execution_count": 27,
   "metadata": {
    "colab": {
     "base_uri": "https://localhost:8080/",
     "height": 34
    },
    "id": "UbFOeJ2_ni3t",
    "outputId": "00db1224-d652-43c2-b4eb-e6bb34abc005"
   },
   "outputs": [
    {
     "name": "stdout",
     "output_type": "stream",
     "text": [
      "0.7\n"
     ]
    }
   ],
   "source": [
    "rf_model = rf_best_tree\n",
    "rf_model.fit(X_train, y_train.values.flatten())\n",
    "y_pred =      rf_model.predict(X_valid)\n",
    "rf_acc = accuracy_score(y_valid, y_pred)\n",
    "print(round(rf_acc, 5))\n",
    "\n",
    "if 'RandomForest' not in os.listdir('data/models/'):\n",
    "    os.mkdir('data/models/RandomForest/')\n",
    "\n",
    "with open('data/models/RandomForest/model', 'wb') as rf_f:\n",
    "    pickle.dump(rf_model, rf_f)"
   ]
  },
  {
   "cell_type": "markdown",
   "metadata": {
    "id": "enNBFiVmni3v"
   },
   "source": [
    "## Clasificadores Binarios con Random Forests"
   ]
  },
  {
   "cell_type": "markdown",
   "metadata": {
    "id": "oSTgkjEkni3v"
   },
   "source": [
    "### Creación del dataset binario para cada género\n"
   ]
  },
  {
   "cell_type": "code",
   "execution_count": 28,
   "metadata": {
    "colab": {
     "base_uri": "https://localhost:8080/",
     "height": 118
    },
    "id": "eXBNcyvIni3w",
    "outputId": "a5648ae7-bec0-4713-aa69-6714d631cf27"
   },
   "outputs": [
    {
     "name": "stderr",
     "output_type": "stream",
     "text": [
      "/usr/local/lib/python3.6/dist-packages/pandas/core/generic.py:5165: SettingWithCopyWarning: \n",
      "A value is trying to be set on a copy of a slice from a DataFrame.\n",
      "Try using .loc[row_indexer,col_indexer] = value instead\n",
      "\n",
      "See the caveats in the documentation: https://pandas.pydata.org/pandas-docs/stable/user_guide/indexing.html#returning-a-view-versus-a-copy\n",
      "  self[name] = value\n"
     ]
    }
   ],
   "source": [
    "path = 'data/'\n",
    "generos_de_interes = ['argentine rock', 'latin', 'cuarteto', 'cumbia villera', 'argentine indie']\n",
    "\n",
    "if not os.path.isdir(f'{path}'):\n",
    "    os.mkdir(f'{path}')\n",
    "\n",
    "for genero in generos_de_interes:\n",
    "    if not os.path.isdir(f'{path}{genero}'):\n",
    "        os.mkdir(f'{path}{genero}')\n",
    "    \n",
    "    df_pos = data_final[data_final['genero']==genero]\n",
    "    df_pos.genero = 1\n",
    "    count = df_pos.shape[0]\n",
    "    df_neg = data_final[data_final['genero']!=genero].sample(count)\n",
    "    df_neg.genero = 0\n",
    "    \n",
    "    df_final_genre = pd.concat([df_pos, df_neg])\n",
    "    df_final_genre.drop(columns='encoded_genres', inplace=True)\n",
    "    \n",
    "    df_train, df_test = train_test_split(df_final_genre, test_size=0.3, random_state=42)\n",
    "    df_train.to_csv(f'{path}{genero}/{genero}_train.csv')\n",
    "    df_test.to_csv(f'{path}{genero}/{genero}_test.csv')                 "
   ]
  },
  {
   "cell_type": "markdown",
   "metadata": {
    "id": "b6f9OfCHni3y"
   },
   "source": [
    "### Entrenamiento\n"
   ]
  },
  {
   "cell_type": "code",
   "execution_count": 29,
   "metadata": {
    "colab": {
     "base_uri": "https://localhost:8080/",
     "height": 101
    },
    "id": "VmVm72rIni3y",
    "outputId": "10197182-508a-42be-e5ca-b55cc319a078",
    "tags": []
   },
   "outputs": [
    {
     "name": "stdout",
     "output_type": "stream",
     "text": [
      "Training argentine rock model\n",
      "Training latin model\n",
      "Training cuarteto model\n",
      "Training cumbia villera model\n",
      "Training argentine indie model\n"
     ]
    }
   ],
   "source": [
    "dict_tree_grid = {'criterion'         : ['gini', 'entropy'],\n",
    "                  'max_features'      : [None, 'auto'],\n",
    "                  'min_samples_split' : [25, 50],\n",
    "                  'ccp_alpha'         : [0],\n",
    "                  'bootstrap'         : [True, False]\n",
    "                  }\n",
    "\n",
    "\n",
    "for genero in generos_de_interes:\n",
    "    df_train = pd.read_csv(f'{path}{genero}/{genero}_train.csv', index_col=0)\n",
    "    columns = df_train.columns.to_list()\n",
    "    columns.remove('genero')\n",
    "    \n",
    "    X = df_train[columns]\n",
    "    y = df_train['genero']\n",
    "    print(f\"Training {genero} model\")\n",
    "    \n",
    "    model =      RandomForestClassifier(random_state=42)\n",
    "    clf =        GridSearchCV(model, dict_tree_grid, scoring='accuracy', cv=3, n_jobs=-1)\n",
    "    search =     clf.fit(X, y)\n",
    "    best_tree =  search.best_estimator_\n",
    "\n",
    "    with open(f'{path}{genero}/{genero}_model', 'wb') as f:\n",
    "        pickle.dump(best_tree, f)"
   ]
  },
  {
   "cell_type": "markdown",
   "metadata": {
    "id": "wxN9txPpni30"
   },
   "source": [
    "### 3) Informe: Comparar el rendimiento de los modelos\n",
    "\n",
    "Una vez entrenados los tres modelos, compararemos su rendimiento:\n",
    "- Correr los modelos usando el split **test**\n",
    "- Obtener el reporte de clasificación y la matriz de confusión para cada modelo\n",
    "- Graficar llevando a 2 dimensiones nuestro split **test** pintando con colores diferentes según la etiqueta correspondiente.\n",
    "- Graficar de manera similar los resultados obtenidos con cada clasificador y sobre esto la función de clasificación obtenida.\n",
    "- Guardar los modelos usando **pickle**\n",
    "- Discutir los resultados obtenidos\n",
    "\n",
    "**Recomendación:**\n",
    "- Prestar atención a la [documentación de sklearn](https://scikit-learn.org/stable/)"
   ]
  },
  {
   "cell_type": "markdown",
   "metadata": {
    "id": "ujgRguKini31"
   },
   "source": [
    "### Test y métricas"
   ]
  },
  {
   "cell_type": "code",
   "execution_count": 30,
   "metadata": {
    "id": "WXl9ftgXni31"
   },
   "outputs": [],
   "source": [
    "from sklearn.decomposition import PCA\n",
    "from sklearn.preprocessing import StandardScaler\n",
    "from sklearn.metrics import classification_report\n",
    "from sklearn.metrics import confusion_matrix\n",
    "import itertools\n"
   ]
  },
  {
   "cell_type": "code",
   "execution_count": 31,
   "metadata": {
    "id": "dUugf1Emni33"
   },
   "outputs": [],
   "source": [
    "def plot_confusion_matrix(cm, classes,\n",
    "                          normalize=False,\n",
    "                          title='Confusion matrix',\n",
    "                          cmap=plt.cm.Blues):\n",
    "    \"\"\"\n",
    "    This function prints and plots the confusion matrix.\n",
    "    Normalization can be applied by setting `normalize=True`.\n",
    "    \"\"\"\n",
    "    if normalize:\n",
    "        cm = cm.astype('float') / cm.sum(axis=1)[:, np.newaxis]\n",
    "        \n",
    "    plt.figure(figsize = (5,4))\n",
    "    plt.imshow(cm, interpolation='nearest', cmap=cmap)\n",
    "    plt.title(title)\n",
    "    plt.colorbar()\n",
    "    tick_marks = np.arange(len(classes))\n",
    "    plt.xticks(tick_marks, classes, rotation=45)\n",
    "    plt.yticks(tick_marks, classes)\n",
    "\n",
    "    fmt = '.2f' if normalize else 'd'\n",
    "    thresh = cm.max() / 2.\n",
    "    for i, j in itertools.product(range(cm.shape[0]), range(cm.shape[1])):\n",
    "        plt.text(j, i, format(cm[i, j], fmt),\n",
    "                 horizontalalignment=\"center\",\n",
    "                 color=\"white\" if cm[i, j] > thresh else \"black\")\n",
    "    plt.tight_layout()\n",
    "    plt.ylabel('Etiqueta correcta')\n",
    "    plt.xlabel('Etiqueta predicha')\n",
    "    plt.show()"
   ]
  },
  {
   "cell_type": "code",
   "execution_count": 32,
   "metadata": {
    "id": "sszmsF-Jni34"
   },
   "outputs": [],
   "source": [
    "def show_scatter(X, y, model_title, model):\n",
    "    pca = PCA(n_components=2, random_state=42)\n",
    "    X_PC = pca.fit_transform(X)\n",
    "    scaler = StandardScaler()\n",
    "    X_PC = scaler.fit_transform(X_PC)\n",
    "    #my_data = pd.DataFrame(scaler.fit_transform(X_PC), columns=['x', 'y'])\n",
    "    my_data = pd.DataFrame(X_PC, columns=['x', 'y'])\n",
    "    my_data['target'] = y\n",
    "    model.fit(X_PC, y)\n",
    "    plt.figure()\n",
    "    ax = sns.scatterplot(my_data.x, my_data.y, hue=my_data.target, palette='Set2')\n",
    "    #plt.scatter(my_data[(my_data.target == 1)].x, my_data[(my_data.target == 1)].y, color=\"dodgerblue\", edgecolors='k', label=\"1\")\n",
    "    #plt.scatter(my_data[(my_data.target == 0)].x, my_data[(my_data.target == 0)].y, color=\"tomato\", edgecolors='k', label=\"0\")\n",
    "    xlim = ax.get_xlim()\n",
    "    ylim = ax.get_ylim()\n",
    "    xx, yy = np.meshgrid(np.linspace(*xlim, num=200), np.linspace(*ylim, num=200))\n",
    "    #xx, yy = np.meshgrid(np.linspace(*xlim, num=my_data.shape[0]), np.linspace(*ylim, num=my_data.shape[0]))\n",
    "    Z = model.predict(np.c_[xx.ravel(), yy.ravel()]).reshape(xx.shape)\n",
    "    contours = ax.contourf(xx, yy, Z, alpha=0.3, cmap = 'Set2')\n",
    "    plt.title(model_title)\n",
    "    plt.grid()\n",
    "    plt.legend()\n",
    "    plt.show()\n",
    "    "
   ]
  },
  {
   "cell_type": "markdown",
   "metadata": {
    "id": "RPrCSXvdni36"
   },
   "source": [
    "### Test clasificador Decision Tree"
   ]
  },
  {
   "cell_type": "code",
   "execution_count": 33,
   "metadata": {
    "colab": {
     "base_uri": "https://localhost:8080/",
     "height": 894
    },
    "id": "hFU4p7DNni37",
    "outputId": "2abbf203-c88f-4ade-8c85-23263032b701",
    "tags": []
   },
   "outputs": [
    {
     "name": "stdout",
     "output_type": "stream",
     "text": [
      "\n",
      "---------Testing Decision Tree model---------\n",
      "              precision    recall  f1-score   support\n",
      "\n",
      "           2       0.66      0.59      0.62        59\n",
      "           6       0.68      0.53      0.59       194\n",
      "          13       0.51      0.71      0.59        66\n",
      "          16       0.54      0.51      0.52        72\n",
      "          24       0.37      0.51      0.43        69\n",
      "\n",
      "    accuracy                           0.56       460\n",
      "   macro avg       0.55      0.57      0.55       460\n",
      "weighted avg       0.58      0.56      0.56       460\n",
      "\n"
     ]
    },
    {
     "data": {
      "image/png": "[encoded data removed]",
      "text/plain": [
       "<Figure size 360x288 with 2 Axes>"
      ]
     },
     "metadata": {
      "needs_background": "light",
      "tags": []
     },
     "output_type": "display_data"
    },
    {
     "name": "stderr",
     "output_type": "stream",
     "text": [
      "/usr/local/lib/python3.6/dist-packages/seaborn/_decorators.py:43: FutureWarning: Pass the following variables as keyword args: x, y. From version 0.12, the only valid positional argument will be `data`, and passing other arguments without an explicit keyword will result in an error or misinterpretation.\n",
      "  FutureWarning\n"
     ]
    },
    {
     "data": {
      "image/png": "[encoded data removed]",
      "text/plain": [
       "<Figure size 432x288 with 1 Axes>"
      ]
     },
     "metadata": {
      "needs_background": "light",
      "tags": []
     },
     "output_type": "display_data"
    },
    {
     "name": "stdout",
     "output_type": "stream",
     "text": [
      "Decision Tree model accuracy: 0.5565217391304348\n"
     ]
    }
   ],
   "source": [
    "columns = X_train.columns.to_list()\n",
    "dt_model = pickle.load(open('data/models/DecisionTree/model', 'rb'))\n",
    "X = X_valid\n",
    "y = y_valid\n",
    "\n",
    "print(f\"\\n---------Testing Decision Tree model---------\")\n",
    "y_pred = dt_model.predict(X)\n",
    "#Show classification report\n",
    "print(classification_report(y, y_pred))\n",
    "#Show Confusion matrix\n",
    "cm = confusion_matrix(y, y_pred)\n",
    "plot_confusion_matrix(cm, ['argentine indie', 'argentine rock', 'cuarteto', 'cumbia villera', 'latin'], title=\"Confusion Matrix for Decision Tree model\")\n",
    "show_scatter(X, y, genero, dt_model)\n",
    "#show_scatter(X, y_pred, genero+\" estimado\")\n",
    "print(f'Decision Tree model accuracy: {str(accuracy_score(y, y_pred))}')\n"
   ]
  },
  {
   "cell_type": "markdown",
   "metadata": {
    "id": "xSSxQhRPni39"
   },
   "source": [
    "### Test clasificador Random Forest"
   ]
  },
  {
   "cell_type": "code",
   "execution_count": 34,
   "metadata": {
    "colab": {
     "base_uri": "https://localhost:8080/",
     "height": 928
    },
    "id": "ri2lMpYrni3-",
    "outputId": "909a8c43-fc24-4af3-db06-3510fcee798e",
    "tags": []
   },
   "outputs": [
    {
     "name": "stdout",
     "output_type": "stream",
     "text": [
      "\n",
      "---------Testing Random Forest model---------\n",
      "              precision    recall  f1-score   support\n",
      "\n",
      "           2       0.73      0.46      0.56        59\n",
      "           6       0.70      0.86      0.77       194\n",
      "          13       0.73      0.74      0.74        66\n",
      "          16       0.68      0.65      0.67        72\n",
      "          24       0.67      0.46      0.55        69\n",
      "\n",
      "    accuracy                           0.70       460\n",
      "   macro avg       0.70      0.64      0.66       460\n",
      "weighted avg       0.70      0.70      0.69       460\n",
      "\n"
     ]
    },
    {
     "data": {
      "image/png": "[encoded data removed]",
      "text/plain": [
       "<Figure size 360x288 with 2 Axes>"
      ]
     },
     "metadata": {
      "needs_background": "light",
      "tags": []
     },
     "output_type": "display_data"
    },
    {
     "name": "stderr",
     "output_type": "stream",
     "text": [
      "/usr/local/lib/python3.6/dist-packages/ipykernel_launcher.py:9: DataConversionWarning: A column-vector y was passed when a 1d array was expected. Please change the shape of y to (n_samples,), for example using ravel().\n",
      "  if __name__ == '__main__':\n",
      "/usr/local/lib/python3.6/dist-packages/seaborn/_decorators.py:43: FutureWarning: Pass the following variables as keyword args: x, y. From version 0.12, the only valid positional argument will be `data`, and passing other arguments without an explicit keyword will result in an error or misinterpretation.\n",
      "  FutureWarning\n"
     ]
    },
    {
     "data": {
      "image/png": "[encoded data removed]",
      "text/plain": [
       "<Figure size 432x288 with 1 Axes>"
      ]
     },
     "metadata": {
      "needs_background": "light",
      "tags": []
     },
     "output_type": "display_data"
    },
    {
     "name": "stdout",
     "output_type": "stream",
     "text": [
      "Decision Tree model accuracy: 0.7\n"
     ]
    }
   ],
   "source": [
    "columns = X_train.columns.to_list()\n",
    "rf_model = pickle.load(open('data/models/RandomForest/model', 'rb'))\n",
    "X = X_valid\n",
    "y = y_valid\n",
    "\n",
    "print(f\"\\n---------Testing Random Forest model---------\")\n",
    "y_pred = rf_model.predict(X)\n",
    "#Show classification report\n",
    "print(classification_report(y, y_pred))\n",
    "#Show Confusion matrix\n",
    "cm = confusion_matrix(y, y_pred)\n",
    "plot_confusion_matrix(cm, ['argentine indie', 'argentine rock', 'cuarteto', 'cumbia villera', 'latin'], title=\"Confusion Matrix for Decision Tree model\")\n",
    "show_scatter(X, y, genero, rf_model)\n",
    "#show_scatter(X, y_pred, genero+\" estimado\")\n",
    "print(f'Decision Tree model accuracy: {str(accuracy_score(y, y_pred))}')\n"
   ]
  },
  {
   "cell_type": "markdown",
   "metadata": {
    "id": "_Nzt4Qp9ni4A"
   },
   "source": [
    "### Test clasificadores binarios"
   ]
  },
  {
   "cell_type": "code",
   "execution_count": 35,
   "metadata": {
    "colab": {
     "base_uri": "https://localhost:8080/",
     "height": 1000
    },
    "id": "XU6cjuMVni4A",
    "outputId": "44616660-5d9b-40d3-a81c-231d8ee19925",
    "tags": []
   },
   "outputs": [
    {
     "name": "stdout",
     "output_type": "stream",
     "text": [
      "\n",
      "---------Testing argentine rock model---------\n",
      "              precision    recall  f1-score   support\n",
      "\n",
      "           0       0.71      0.86      0.78       180\n",
      "           1       0.85      0.70      0.77       207\n",
      "\n",
      "    accuracy                           0.77       387\n",
      "   macro avg       0.78      0.78      0.77       387\n",
      "weighted avg       0.79      0.77      0.77       387\n",
      "\n"
     ]
    },
    {
     "data": {
      "image/png": "[encoded data removed]",
      "text/plain": [
       "<Figure size 360x288 with 2 Axes>"
      ]
     },
     "metadata": {
      "needs_background": "light",
      "tags": []
     },
     "output_type": "display_data"
    },
    {
     "name": "stderr",
     "output_type": "stream",
     "text": [
      "/usr/local/lib/python3.6/dist-packages/seaborn/_decorators.py:43: FutureWarning: Pass the following variables as keyword args: x, y. From version 0.12, the only valid positional argument will be `data`, and passing other arguments without an explicit keyword will result in an error or misinterpretation.\n",
      "  FutureWarning\n"
     ]
    },
    {
     "data": {
      "image/png": "[encoded data removed]",
      "text/plain": [
       "<Figure size 432x288 with 1 Axes>"
      ]
     },
     "metadata": {
      "needs_background": "light",
      "tags": []
     },
     "output_type": "display_data"
    },
    {
     "name": "stdout",
     "output_type": "stream",
     "text": [
      "argentine rock model accuracy: 0.772609819121447\n",
      "\n",
      "---------Testing latin model---------\n",
      "              precision    recall  f1-score   support\n",
      "\n",
      "           0       0.74      0.73      0.74        82\n",
      "           1       0.72      0.73      0.72        77\n",
      "\n",
      "    accuracy                           0.73       159\n",
      "   macro avg       0.73      0.73      0.73       159\n",
      "weighted avg       0.73      0.73      0.73       159\n",
      "\n"
     ]
    },
    {
     "data": {
      "image/png": "[encoded data removed]",
      "text/plain": [
       "<Figure size 360x288 with 2 Axes>"
      ]
     },
     "metadata": {
      "needs_background": "light",
      "tags": []
     },
     "output_type": "display_data"
    },
    {
     "name": "stderr",
     "output_type": "stream",
     "text": [
      "/usr/local/lib/python3.6/dist-packages/seaborn/_decorators.py:43: FutureWarning: Pass the following variables as keyword args: x, y. From version 0.12, the only valid positional argument will be `data`, and passing other arguments without an explicit keyword will result in an error or misinterpretation.\n",
      "  FutureWarning\n"
     ]
    },
    {
     "data": {
      "image/png": "[encoded data removed]",
      "text/plain": [
       "<Figure size 432x288 with 1 Axes>"
      ]
     },
     "metadata": {
      "needs_background": "light",
      "tags": []
     },
     "output_type": "display_data"
    },
    {
     "name": "stdout",
     "output_type": "stream",
     "text": [
      "latin model accuracy: 0.7295597484276729\n",
      "\n",
      "---------Testing cuarteto model---------\n",
      "              precision    recall  f1-score   support\n",
      "\n",
      "           0       0.85      0.84      0.85        69\n",
      "           1       0.85      0.86      0.85        71\n",
      "\n",
      "    accuracy                           0.85       140\n",
      "   macro avg       0.85      0.85      0.85       140\n",
      "weighted avg       0.85      0.85      0.85       140\n",
      "\n"
     ]
    },
    {
     "data": {
      "image/png": "[encoded data removed]",
      "text/plain": [
       "<Figure size 360x288 with 2 Axes>"
      ]
     },
     "metadata": {
      "needs_background": "light",
      "tags": []
     },
     "output_type": "display_data"
    },
    {
     "name": "stderr",
     "output_type": "stream",
     "text": [
      "/usr/local/lib/python3.6/dist-packages/seaborn/_decorators.py:43: FutureWarning: Pass the following variables as keyword args: x, y. From version 0.12, the only valid positional argument will be `data`, and passing other arguments without an explicit keyword will result in an error or misinterpretation.\n",
      "  FutureWarning\n"
     ]
    },
    {
     "data": {
      "image/png": "[encoded data removed]",
      "text/plain": [
       "<Figure size 432x288 with 1 Axes>"
      ]
     },
     "metadata": {
      "needs_background": "light",
      "tags": []
     },
     "output_type": "display_data"
    },
    {
     "name": "stdout",
     "output_type": "stream",
     "text": [
      "cuarteto model accuracy: 0.85\n",
      "\n",
      "---------Testing cumbia villera model---------\n",
      "              precision    recall  f1-score   support\n",
      "\n",
      "           0       0.70      0.70      0.70        64\n",
      "           1       0.72      0.72      0.72        67\n",
      "\n",
      "    accuracy                           0.71       131\n",
      "   macro avg       0.71      0.71      0.71       131\n",
      "weighted avg       0.71      0.71      0.71       131\n",
      "\n"
     ]
    },
    {
     "data": {
      "image/png": "[encoded data removed]",
      "text/plain": [
       "<Figure size 360x288 with 2 Axes>"
      ]
     },
     "metadata": {
      "needs_background": "light",
      "tags": []
     },
     "output_type": "display_data"
    },
    {
     "name": "stderr",
     "output_type": "stream",
     "text": [
      "/usr/local/lib/python3.6/dist-packages/seaborn/_decorators.py:43: FutureWarning: Pass the following variables as keyword args: x, y. From version 0.12, the only valid positional argument will be `data`, and passing other arguments without an explicit keyword will result in an error or misinterpretation.\n",
      "  FutureWarning\n"
     ]
    },
    {
     "data": {
      "image/png": "[encoded data removed]",
      "text/plain": [
       "<Figure size 432x288 with 1 Axes>"
      ]
     },
     "metadata": {
      "needs_background": "light",
      "tags": []
     },
     "output_type": "display_data"
    },
    {
     "name": "stdout",
     "output_type": "stream",
     "text": [
      "cumbia villera model accuracy: 0.7099236641221374\n",
      "\n",
      "---------Testing argentine indie model---------\n",
      "              precision    recall  f1-score   support\n",
      "\n",
      "           0       0.70      0.92      0.79        50\n",
      "           1       0.89      0.62      0.73        53\n",
      "\n",
      "    accuracy                           0.77       103\n",
      "   macro avg       0.79      0.77      0.76       103\n",
      "weighted avg       0.80      0.77      0.76       103\n",
      "\n"
     ]
    },
    {
     "data": {
      "image/png": "[encoded data removed]",
      "text/plain": [
       "<Figure size 360x288 with 2 Axes>"
      ]
     },
     "metadata": {
      "needs_background": "light",
      "tags": []
     },
     "output_type": "display_data"
    },
    {
     "name": "stderr",
     "output_type": "stream",
     "text": [
      "/usr/local/lib/python3.6/dist-packages/seaborn/_decorators.py:43: FutureWarning: Pass the following variables as keyword args: x, y. From version 0.12, the only valid positional argument will be `data`, and passing other arguments without an explicit keyword will result in an error or misinterpretation.\n",
      "  FutureWarning\n"
     ]
    },
    {
     "data": {
      "image/png": "[encoded data removed]",
      "text/plain": [
       "<Figure size 432x288 with 1 Axes>"
      ]
     },
     "metadata": {
      "needs_background": "light",
      "tags": []
     },
     "output_type": "display_data"
    },
    {
     "name": "stdout",
     "output_type": "stream",
     "text": [
      "argentine indie model accuracy: 0.7669902912621359\n",
      "Total accuracy: 0.7658167045866786\n"
     ]
    }
   ],
   "source": [
    "# Testing...  el accuracy se calcula como promedio del accuracy de cada clasificador individual\n",
    "count = len(generos_de_interes)\n",
    "acc = 0\n",
    "acc_total = 0\n",
    "files = ['argentine rock', 'latin', 'cuarteto', 'cumbia villera', 'argentine indie']\n",
    "\n",
    "for genero in files:\n",
    "    tran = le.transform([genero])[0]\n",
    "\n",
    "    df_test = pd.read_csv(f'{path}{genero}/{genero}_test.csv', index_col=0)\n",
    "    \n",
    "    columns = df_train.columns.to_list()\n",
    "    columns.remove('genero')\n",
    "    \n",
    "    model = pickle.load(open(f'{path}{genero}/{genero}_model', 'rb'))\n",
    "    X = df_test[columns]\n",
    "    y = df_test['genero']\n",
    "    print(f\"\\n---------Testing {genero} model---------\")\n",
    "    y_pred = model.predict(X)\n",
    "    \n",
    "    #Show classification report\n",
    "    print(classification_report(y, y_pred))\n",
    "    \n",
    "    #Show Confusion matrix\n",
    "    cm = confusion_matrix(y, y_pred)\n",
    "    plot_confusion_matrix(cm, [f'{genero}', f'No {genero}'], title=\"Confusion Matrix for \"+genero+\" model\")\n",
    "    \n",
    "    show_scatter(X, y, genero, model)\n",
    "    #show_scatter(X, y_pred, genero+\" estimado\")\n",
    "    acc += accuracy_score(y, y_pred)\n",
    "    print(f'{genero} model accuracy: {str(accuracy_score(y, y_pred))}')\n",
    "acc_total = acc/count\n",
    "print(f'Total accuracy: {acc_total}')"
   ]
  },
  {
   "cell_type": "markdown",
   "metadata": {
    "id": "fHNypxdzni4E"
   },
   "source": [
    "### Análisis de resultados"
   ]
  },
  {
   "cell_type": "markdown",
   "metadata": {
    "id": "KcMH5iYini4E"
   },
   "source": [
    "En base a los resultados obtenidos, podemos observar que el mejor caso de los 3 presentados (Decision Tree, Random Forest y Clasificadores Binarios) fue el uso de Random Forests Classifiers como clasificadores binarios para cada uno de los géneros. Esto se debe a que la combinación de clasificadores binarios, a pesar de ser poco ventajosa en cuanto a recursos utilizados tanto en su entrenamiento como en la clasificación (en caso de modelos más complejos), son más precisos en casos de clasificaciones ONE vs ALL, ya que cada modelo se entrena con dos posibles salidas únicamente. Además, el uso de clasificadores binarios evita que el desbalanceo del dataset afecte en el rendimiento de la clasificación ya que cada modelo posee su conjunto de datos, independiente del resto, para su entrenamiento. Finalmente, esta arquitectura permite escalar facilmente en caso de que se deseen agregar nuevos géneros al clasificador y no afectar al resto de los modelos.\n",
    "\n",
    "Tanto Random Forest como Decision Tree no son malas opciones tampoco (ambos arrojaron un accuracy mayores a 0.5) pero para obtener mejores resultados es necesario que la curación de los datos sea más minuciosa y el tunning de hiperparámetros más preciso.\n",
    "\n",
    "Como conclusión, entendemos que la combinación de clasificadores binarios son una opción muy eficiente ya que contamos con una cantidad de datos reducidos y un número de clases de salida pequeño. Pero en caso de que se desee escalar a mayor cantidad de géneros, esta opción comenzará a ser cada vez más inviable debido a la cantidad de recursos que requiere el entrenamiento, testing y uso de los modelos en simultáneo."
   ]
  },
  {
   "cell_type": "code",
   "execution_count": null,
   "metadata": {
    "id": "9yWiifU-ni4F"
   },
   "outputs": [],
   "source": []
  }
 ],
 "metadata": {
  "colab": {
   "name": "TP3 - Hilal - Cattaneo - Lucero.ipynb",
   "provenance": [],
   "toc_visible": true
  },
  "kernelspec": {
   "display_name": "Python 3",
   "language": "python",
   "name": "python3"
  },
  "language_info": {
   "codemirror_mode": {
    "name": "ipython",
    "version": 3
   },
   "file_extension": ".py",
   "mimetype": "text/x-python",
   "name": "python",
   "nbconvert_exporter": "python",
   "pygments_lexer": "ipython3",
   "version": "3.8.8"
  }
 },
 "nbformat": 4,
 "nbformat_minor": 4
}
